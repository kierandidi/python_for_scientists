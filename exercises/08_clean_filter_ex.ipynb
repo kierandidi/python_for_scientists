{
  "cells": [
    {
      "cell_type": "markdown",
      "metadata": {
        "colab_type": "text",
        "id": "view-in-github"
      },
      "source": [
        "<a href=\"https://colab.research.google.com/github/kdidi99/Python_for_Biochemists/blob/main/exercises/day_3_data_analysis_2_clean.ipynb\" target=\"_parent\"><img src=\"https://colab.research.google.com/assets/colab-badge.svg\" alt=\"Open In Colab\"/></a>"
      ]
    },
    {
      "cell_type": "markdown",
      "metadata": {
        "id": "iQSQ4gGC9-oV"
      },
      "source": [
        "# Exercise 10: Clean data\n",
        "\n",
        "In this exercise, you will clean the dataset you looked at in the first exercise."
      ]
    },
    {
      "cell_type": "code",
      "execution_count": 1,
      "metadata": {
        "colab": {
          "base_uri": "https://localhost:8080/",
          "height": 223
        },
        "id": "7rvRFhUS9672",
        "outputId": "131d5bf4-9e43-421a-e72f-11391951c7aa"
      },
      "outputs": [
        {
          "name": "stdout",
          "output_type": "stream",
          "text": [
            "Download ready.\n"
          ]
        },
        {
          "data": {
            "text/html": [
              "<div>\n",
              "<style scoped>\n",
              "    .dataframe tbody tr th:only-of-type {\n",
              "        vertical-align: middle;\n",
              "    }\n",
              "\n",
              "    .dataframe tbody tr th {\n",
              "        vertical-align: top;\n",
              "    }\n",
              "\n",
              "    .dataframe thead th {\n",
              "        text-align: right;\n",
              "    }\n",
              "</style>\n",
              "<table border=\"1\" class=\"dataframe\">\n",
              "  <thead>\n",
              "    <tr style=\"text-align: right;\">\n",
              "      <th></th>\n",
              "      <th>index</th>\n",
              "      <th>date</th>\n",
              "      <th>duration</th>\n",
              "      <th>item</th>\n",
              "      <th>month</th>\n",
              "      <th>network</th>\n",
              "      <th>network_type</th>\n",
              "    </tr>\n",
              "  </thead>\n",
              "  <tbody>\n",
              "    <tr>\n",
              "      <th>0</th>\n",
              "      <td>0</td>\n",
              "      <td>15/10/14 06:58</td>\n",
              "      <td>34.429</td>\n",
              "      <td>data</td>\n",
              "      <td>2014-11</td>\n",
              "      <td>data</td>\n",
              "      <td>data</td>\n",
              "    </tr>\n",
              "    <tr>\n",
              "      <th>1</th>\n",
              "      <td>1</td>\n",
              "      <td>15/10/14 06:58</td>\n",
              "      <td>13.000</td>\n",
              "      <td>call</td>\n",
              "      <td>2014-11</td>\n",
              "      <td>Vodafone</td>\n",
              "      <td>mobile</td>\n",
              "    </tr>\n",
              "    <tr>\n",
              "      <th>2</th>\n",
              "      <td>2</td>\n",
              "      <td>15/10/14 14:46</td>\n",
              "      <td>23.000</td>\n",
              "      <td>call</td>\n",
              "      <td>2014-11</td>\n",
              "      <td>Meteor</td>\n",
              "      <td>mobile</td>\n",
              "    </tr>\n",
              "    <tr>\n",
              "      <th>3</th>\n",
              "      <td>3</td>\n",
              "      <td>15/10/14 14:48</td>\n",
              "      <td>4.000</td>\n",
              "      <td>call</td>\n",
              "      <td>2014-11</td>\n",
              "      <td>Tesco</td>\n",
              "      <td>mobile</td>\n",
              "    </tr>\n",
              "    <tr>\n",
              "      <th>4</th>\n",
              "      <td>4</td>\n",
              "      <td>15/10/14 17:27</td>\n",
              "      <td>4.000</td>\n",
              "      <td>call</td>\n",
              "      <td>2014-11</td>\n",
              "      <td>Tesco</td>\n",
              "      <td>mobile</td>\n",
              "    </tr>\n",
              "  </tbody>\n",
              "</table>\n",
              "</div>"
            ],
            "text/plain": [
              "   index            date  duration  item    month   network network_type\n",
              "0      0  15/10/14 06:58    34.429  data  2014-11      data         data\n",
              "1      1  15/10/14 06:58    13.000  call  2014-11  Vodafone       mobile\n",
              "2      2  15/10/14 14:46    23.000  call  2014-11    Meteor       mobile\n",
              "3      3  15/10/14 14:48     4.000  call  2014-11     Tesco       mobile\n",
              "4      4  15/10/14 17:27     4.000  call  2014-11     Tesco       mobile"
            ]
          },
          "execution_count": 1,
          "metadata": {},
          "output_type": "execute_result"
        }
      ],
      "source": [
        "import pandas as pd\n",
        "import numpy as np\n",
        "import requests\n",
        "\n",
        "download_url = \"https://raw.githubusercontent.com/rashida048/Datasets/master/phone_data.csv\"\n",
        "target_csv_path = \"phone_data.csv\"\n",
        "\n",
        "response = requests.get(download_url)\n",
        "response.raise_for_status()    # Check that the request was successful\n",
        "with open(target_csv_path, \"wb\") as f:\n",
        "    f.write(response.content)\n",
        "print(\"Download ready.\")\n",
        "\n",
        "df_phone = pd.read_csv(\"phone_data.csv\")\n",
        "df_phone.head()"
      ]
    },
    {
      "cell_type": "markdown",
      "metadata": {},
      "source": [
        "## 1 Data Exploration\n",
        "\n",
        "Now import the csv file into pandas and do some explorative data analysis. Answer for example the following questions:\n",
        "\n",
        "\n",
        "*   What do the different columns stand for?\n",
        "*   Look at different subsets of the data with loc/iloc/indexing operator\n",
        "*   How many different network provider are there? How much are they used compared to their competitors?\n",
        "*   What is more often used, calls or sms?\n",
        "*   How long is the average call? How long was the longest one?\n",
        "\n",
        "\n",
        "**Advanced exercise**:\n",
        "*   Start by just reading in the first 500 rows\n",
        "*   drop the item column and drop all rows with a call length shorter than 2 min\n",
        "*   only keep entries that were taken between 1pm and 5pm\n",
        "*   try to get the percentage of times where a call was not answered (i.e. were a voicemail was recorded)\n",
        "\n"
      ]
    },
    {
      "cell_type": "markdown",
      "metadata": {
        "id": "HnMALsqV_hH1"
      },
      "source": [
        "## Data Cleaning and Filtering\n",
        "\n",
        "Look for ways to clean the dataset to make it ready for furhter analysis. For example, look for:\n",
        "\n",
        "- missing values\n",
        "- redundant columns\n",
        "- could we use the date as index? (hint: look up DateTimeIndex and methods to create those while reading in data as a DataFrame)\n",
        "\n"
      ]
    },
    {
      "cell_type": "markdown",
      "metadata": {
        "id": "s0BiAV7a-y6Q"
      },
      "source": [
        "**Exercise regarding views/copies**: Get a view and a copy of a subset of this dataframe containing only the duration and the date column. Change values in either of these and look what the influence is on the original data frame. What do you see?"
      ]
    },
    {
      "cell_type": "markdown",
      "metadata": {
        "id": "FSyYQhxk_MWe"
      },
      "source": [
        "**Advanced exercise**: We saw in the session that from our job ads dataset, we cannot drop all entries with missing \"salary\" and \"date_added\" values since there would be nearly no data left. What are other ways to deal with this problem besides just deleting the missing entries?"
      ]
    }
  ],
  "metadata": {
    "colab": {
      "authorship_tag": "ABX9TyM4XTPZUZSuuxRs3QaR8koT",
      "include_colab_link": true,
      "name": "Untitled4.ipynb",
      "provenance": []
    },
    "kernelspec": {
      "display_name": "Python 3.9.13 64-bit ('standard_env')",
      "language": "python",
      "name": "python3"
    },
    "language_info": {
      "codemirror_mode": {
        "name": "ipython",
        "version": 3
      },
      "file_extension": ".py",
      "mimetype": "text/x-python",
      "name": "python",
      "nbconvert_exporter": "python",
      "pygments_lexer": "ipython3",
      "version": "3.9.13"
    },
    "vscode": {
      "interpreter": {
        "hash": "9596d6a87008e84c0f128741d482f604bb744a0b1a80490076c6d532d707cabe"
      }
    }
  },
  "nbformat": 4,
  "nbformat_minor": 0
}
