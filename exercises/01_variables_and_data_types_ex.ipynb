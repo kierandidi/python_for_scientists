{
 "cells": [
  {
   "cell_type": "markdown",
   "metadata": {},
   "source": [
    "# Variables and data types - Exercises\n",
    "### Exercise 1\n",
    "The code below should calculate and print out the average of a few different measurements, but unfortunately there are still two bugs in it. Fix them so that the code runs correctly:"
   ]
  },
  {
   "cell_type": "code",
   "execution_count": 2,
   "metadata": {},
   "outputs": [
    {
     "name": "stdout",
     "output_type": "stream",
     "text": [
      "The average measured value is 4.3999999999999995\n"
     ]
    }
   ],
   "source": [
    "measurement_1 = 5.3\n",
    "measurement_2 = 4.1\n",
    "measurement_3 = 3.8\n",
    "\n",
    "# -- your changes should go here --\n",
    "average = (measurement_1 + measurement_2 + measurement_3) / 3\n",
    "output_message = f\"The average measured value is {average}\"\n",
    "# ---------------------------------\n",
    "\n",
    "print(output_message)"
   ]
  },
  {
   "cell_type": "markdown",
   "metadata": {},
   "source": [
    "### Exercise 2\n",
    "For the next exercises you are given a DNA sequence defined below. First, calculate both the relative (%) and absolute (count) GC content of the sequence."
   ]
  },
  {
   "cell_type": "code",
   "execution_count": 9,
   "metadata": {},
   "outputs": [
    {
     "data": {
      "text/plain": [
       "0.34285714285714286"
      ]
     },
     "execution_count": 9,
     "metadata": {},
     "output_type": "execute_result"
    }
   ],
   "source": [
    "sequence = \"ATGTTTGTTTTTCTTGTTTTATTGCCACTAGTCTCTCGTGAGTGTGTTAATCTTACAACCAGAACTCAAT\"\n",
    "(sequence.count(\"G\") + sequence.count(\"C\"))/len(sequence)"
   ]
  },
  {
   "cell_type": "markdown",
   "metadata": {},
   "source": [
    "The transcription factor HIF-1a has the binding motif \"CGTG\". Could HIF-1a bind to the sequence above?"
   ]
  },
  {
   "cell_type": "code",
   "execution_count": 10,
   "metadata": {},
   "outputs": [
    {
     "data": {
      "text/plain": [
       "True"
      ]
     },
     "execution_count": 10,
     "metadata": {},
     "output_type": "execute_result"
    }
   ],
   "source": [
    "\"CGTG\" in sequence"
   ]
  },
  {
   "cell_type": "markdown",
   "metadata": {},
   "source": [
    "### Exercise 3\n",
    "Now, we will convert the sequence from exercise 2 into an RNA sequence. Replace all the thymines in the sequence with uraciles and store the new sequence in a new variable called `rna_sequence`."
   ]
  },
  {
   "cell_type": "code",
   "execution_count": 12,
   "metadata": {},
   "outputs": [],
   "source": [
    "rna = sequence.replace(\"T\", \"U\")"
   ]
  },
  {
   "cell_type": "markdown",
   "metadata": {},
   "source": [
    "Can you also add a poly-A tail of length 10 to the end of your RNA sequence?"
   ]
  },
  {
   "cell_type": "code",
   "execution_count": 13,
   "metadata": {},
   "outputs": [
    {
     "data": {
      "text/plain": [
       "'AUGUUUGUUUUUCUUGUUUUAUUGCCACUAGUCUCUCGUGAGUGUGUUAAUCUUACAACCAGAACUCAAUAAAAAAAAAA'"
      ]
     },
     "execution_count": 13,
     "metadata": {},
     "output_type": "execute_result"
    }
   ],
   "source": [
    "rna = rna + \"A\"*10\n",
    "rna"
   ]
  }
 ],
 "metadata": {
  "kernelspec": {
   "display_name": "Python 3.9.5 ('datasc_env')",
   "language": "python",
   "name": "python3"
  },
  "language_info": {
   "codemirror_mode": {
    "name": "ipython",
    "version": 3
   },
   "file_extension": ".py",
   "mimetype": "text/x-python",
   "name": "python",
   "nbconvert_exporter": "python",
   "pygments_lexer": "ipython3",
   "version": "3.9.13"
  },
  "orig_nbformat": 4,
  "vscode": {
   "interpreter": {
    "hash": "c025937d97e0e149ce13ed0bd2bfa6a8fad0c4244df406043466a1c56deaaf81"
   }
  }
 },
 "nbformat": 4,
 "nbformat_minor": 2
}
