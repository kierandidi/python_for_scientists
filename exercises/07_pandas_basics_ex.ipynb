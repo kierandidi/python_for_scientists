{
 "cells": [
  {
   "cell_type": "markdown",
   "metadata": {},
   "source": [
    "# Pandas basics - Exercises\n",
    "### Exercise 1\n",
    "Below, you have the identifiers, weights (in g), and age (in months) for a few different lab mice. Convert them to a pandas DataFrame with the column labels \"identifier\", \"weight\", and \"age\" and a row index from 1-3.\n",
    "\n",
    "Bonus: Can you also think of a solution that uses the `zip()` function from last week?"
   ]
  },
  {
   "cell_type": "code",
   "execution_count": 1,
   "metadata": {},
   "outputs": [],
   "source": [
    "identifiers = [\"mouse_1\", \"mouse_2\", \"mouse_3\"]\n",
    "weights = [18.1, 19.2, 20.1]\n",
    "ages = [12, 18, 9]"
   ]
  },
  {
   "cell_type": "markdown",
   "metadata": {},
   "source": [
    "### Exercise 2\n",
    "Change the weight of mouse 2 to 19.6 and add one month to the age of all mice."
   ]
  },
  {
   "cell_type": "code",
   "execution_count": null,
   "metadata": {},
   "outputs": [],
   "source": []
  }
 ],
 "metadata": {
  "kernelspec": {
   "display_name": "Python 3.9.5 ('datasc_env')",
   "language": "python",
   "name": "python3"
  },
  "language_info": {
   "codemirror_mode": {
    "name": "ipython",
    "version": 3
   },
   "file_extension": ".py",
   "mimetype": "text/x-python",
   "name": "python",
   "nbconvert_exporter": "python",
   "pygments_lexer": "ipython3",
   "version": "3.9.5"
  },
  "orig_nbformat": 4,
  "vscode": {
   "interpreter": {
    "hash": "c025937d97e0e149ce13ed0bd2bfa6a8fad0c4244df406043466a1c56deaaf81"
   }
  }
 },
 "nbformat": 4,
 "nbformat_minor": 2
}
