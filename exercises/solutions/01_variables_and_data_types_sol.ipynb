{
 "cells": [
  {
   "cell_type": "markdown",
   "metadata": {},
   "source": [
    "# Variables and data types - Exercises\n",
    "### Exercise 1\n",
    "The code below should calculate and print out the average of a few different measurements, but unfortunately there are still two bugs in it. Fix them so that the code runs correctly:"
   ]
  },
  {
   "cell_type": "code",
   "execution_count": 1,
   "metadata": {},
   "outputs": [
    {
     "name": "stdout",
     "output_type": "stream",
     "text": [
      "The average measured value is 4.3999999999999995\n"
     ]
    }
   ],
   "source": [
    "measurement_1 = 5.3\n",
    "measurement_2 = \"4.1\"\n",
    "measurement_3 = 3.8\n",
    "\n",
    "# -- your changes should go here --\n",
    "measurement_2 = float(measurement_2) # cast string to float\n",
    "average = (measurement_1 + measurement_2 + measurement_3) / 3\n",
    "output_message = f\"The average measured value is {average}\" # add missing f to f-string\n",
    "# ---------------------------------\n",
    "\n",
    "print(output_message)"
   ]
  },
  {
   "cell_type": "markdown",
   "metadata": {},
   "source": [
    "### Exercise 2\n",
    "For the next exercises you are given a DNA sequence defined below. First, calculate both the relative (%) and absolute (count) GC content of the sequence."
   ]
  },
  {
   "cell_type": "code",
   "execution_count": 2,
   "metadata": {},
   "outputs": [
    {
     "name": "stdout",
     "output_type": "stream",
     "text": [
      "absolute GC count: 24, relative GC content: 0.34285714285714286\n"
     ]
    }
   ],
   "source": [
    "sequence = \"ATGTTTGTTTTTCTTGTTTTATTGCCACTAGTCTCTCGTGAGTGTGTTAATCTTACAACCAGAACTCAAT\"\n",
    "\n",
    "absolute_GC = sequence.count(\"G\") + sequence.count(\"C\")\n",
    "relative_GC = absolute_GC / len(sequence)\n",
    "\n",
    "print(f\"absolute GC count: {absolute_GC}, relative GC content: {relative_GC}\")"
   ]
  },
  {
   "cell_type": "markdown",
   "metadata": {},
   "source": [
    "The transcription factor HIF-1a has the binding motif \"CGTG\". Could HIF-1a bind to the sequence above?"
   ]
  },
  {
   "cell_type": "code",
   "execution_count": 3,
   "metadata": {},
   "outputs": [
    {
     "data": {
      "text/plain": [
       "True"
      ]
     },
     "execution_count": 3,
     "metadata": {},
     "output_type": "execute_result"
    }
   ],
   "source": [
    "\"CGTG\" in sequence"
   ]
  },
  {
   "cell_type": "markdown",
   "metadata": {},
   "source": [
    "Yes it could."
   ]
  },
  {
   "cell_type": "markdown",
   "metadata": {},
   "source": [
    "### Exercise 3\n",
    "Now, we will convert the sequence from exercise 2 into an RNA sequence. Replace all the thymines in the sequence with uraciles and store the new sequence in a new variable called `rna_sequence`."
   ]
  },
  {
   "cell_type": "code",
   "execution_count": 4,
   "metadata": {},
   "outputs": [
    {
     "data": {
      "text/plain": [
       "'AUGUUUGUUUUUCUUGUUUUAUUGCCACUAGUCUCUCGUGAGUGUGUUAAUCUUACAACCAGAACUCAAU'"
      ]
     },
     "execution_count": 4,
     "metadata": {},
     "output_type": "execute_result"
    }
   ],
   "source": [
    "rna_sequence = sequence.replace(\"T\", \"U\")\n",
    "rna_sequence"
   ]
  },
  {
   "cell_type": "markdown",
   "metadata": {},
   "source": [
    "Can you also add a poly-A tail of length 10 to the end of your RNA sequence?"
   ]
  },
  {
   "cell_type": "code",
   "execution_count": 5,
   "metadata": {},
   "outputs": [
    {
     "data": {
      "text/plain": [
       "'AUGUUUGUUUUUCUUGUUUUAUUGCCACUAGUCUCUCGUGAGUGUGUUAAUCUUACAACCAGAACUCAAUAAAAAAAAAA'"
      ]
     },
     "execution_count": 5,
     "metadata": {},
     "output_type": "execute_result"
    }
   ],
   "source": [
    "rna_sequence += \"A\" * 10\n",
    "rna_sequence"
   ]
  }
 ],
 "metadata": {
  "kernelspec": {
   "display_name": "Python 3.10.4 ('proteinbio_env')",
   "language": "python",
   "name": "python3"
  },
  "language_info": {
   "codemirror_mode": {
    "name": "ipython",
    "version": 3
   },
   "file_extension": ".py",
   "mimetype": "text/x-python",
   "name": "python",
   "nbconvert_exporter": "python",
   "pygments_lexer": "ipython3",
   "version": "3.10.4"
  },
  "orig_nbformat": 4,
  "vscode": {
   "interpreter": {
    "hash": "c35012593eedd7f76c551c78df9c594579f9f1e7079315917368440f384e885c"
   }
  }
 },
 "nbformat": 4,
 "nbformat_minor": 2
}
