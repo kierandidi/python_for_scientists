{
 "cells": [
  {
   "cell_type": "markdown",
   "metadata": {},
   "source": [
    "# Pandas basics - Exercises\n",
    "### Exercise 1\n",
    "Below, you have the identifiers, weights (in g), and age (in months) for a few different lab mice. Convert them to a pandas DataFrame with the column labels \"identifier\", \"weight\", and \"age\" and a row index from 1-3.\n",
    "\n",
    "Bonus: Can you also think of a solution that uses the `zip()` function from last week?"
   ]
  },
  {
   "cell_type": "code",
   "execution_count": 1,
   "metadata": {},
   "outputs": [],
   "source": [
    "identifiers = [\"mouse_1\", \"mouse_2\", \"mouse_3\"]\n",
    "weights = [18.1, 19.2, 20.1]\n",
    "ages = [12, 18, 9]"
   ]
  },
  {
   "cell_type": "code",
   "execution_count": 2,
   "metadata": {},
   "outputs": [
    {
     "data": {
      "text/html": [
       "<div>\n",
       "<style scoped>\n",
       "    .dataframe tbody tr th:only-of-type {\n",
       "        vertical-align: middle;\n",
       "    }\n",
       "\n",
       "    .dataframe tbody tr th {\n",
       "        vertical-align: top;\n",
       "    }\n",
       "\n",
       "    .dataframe thead th {\n",
       "        text-align: right;\n",
       "    }\n",
       "</style>\n",
       "<table border=\"1\" class=\"dataframe\">\n",
       "  <thead>\n",
       "    <tr style=\"text-align: right;\">\n",
       "      <th></th>\n",
       "      <th>identifier</th>\n",
       "      <th>weight</th>\n",
       "      <th>age</th>\n",
       "    </tr>\n",
       "  </thead>\n",
       "  <tbody>\n",
       "    <tr>\n",
       "      <th>1</th>\n",
       "      <td>mouse_1</td>\n",
       "      <td>18.1</td>\n",
       "      <td>12</td>\n",
       "    </tr>\n",
       "    <tr>\n",
       "      <th>2</th>\n",
       "      <td>mouse_2</td>\n",
       "      <td>19.2</td>\n",
       "      <td>18</td>\n",
       "    </tr>\n",
       "    <tr>\n",
       "      <th>3</th>\n",
       "      <td>mouse_3</td>\n",
       "      <td>20.1</td>\n",
       "      <td>9</td>\n",
       "    </tr>\n",
       "  </tbody>\n",
       "</table>\n",
       "</div>"
      ],
      "text/plain": [
       "  identifier  weight  age\n",
       "1    mouse_1    18.1   12\n",
       "2    mouse_2    19.2   18\n",
       "3    mouse_3    20.1    9"
      ]
     },
     "metadata": {},
     "output_type": "display_data"
    },
    {
     "data": {
      "text/html": [
       "<div>\n",
       "<style scoped>\n",
       "    .dataframe tbody tr th:only-of-type {\n",
       "        vertical-align: middle;\n",
       "    }\n",
       "\n",
       "    .dataframe tbody tr th {\n",
       "        vertical-align: top;\n",
       "    }\n",
       "\n",
       "    .dataframe thead th {\n",
       "        text-align: right;\n",
       "    }\n",
       "</style>\n",
       "<table border=\"1\" class=\"dataframe\">\n",
       "  <thead>\n",
       "    <tr style=\"text-align: right;\">\n",
       "      <th></th>\n",
       "      <th>identifier</th>\n",
       "      <th>weight</th>\n",
       "      <th>age</th>\n",
       "    </tr>\n",
       "  </thead>\n",
       "  <tbody>\n",
       "    <tr>\n",
       "      <th>1</th>\n",
       "      <td>mouse_1</td>\n",
       "      <td>18.1</td>\n",
       "      <td>12</td>\n",
       "    </tr>\n",
       "    <tr>\n",
       "      <th>2</th>\n",
       "      <td>mouse_2</td>\n",
       "      <td>19.2</td>\n",
       "      <td>18</td>\n",
       "    </tr>\n",
       "    <tr>\n",
       "      <th>3</th>\n",
       "      <td>mouse_3</td>\n",
       "      <td>20.1</td>\n",
       "      <td>9</td>\n",
       "    </tr>\n",
       "  </tbody>\n",
       "</table>\n",
       "</div>"
      ],
      "text/plain": [
       "  identifier  weight  age\n",
       "1    mouse_1    18.1   12\n",
       "2    mouse_2    19.2   18\n",
       "3    mouse_3    20.1    9"
      ]
     },
     "metadata": {},
     "output_type": "display_data"
    }
   ],
   "source": [
    "import pandas as pd\n",
    "\n",
    "df = pd.DataFrame({\"identifier\": identifiers, \"weight\": weights, \"age\": ages}, index=range(1, 4))\n",
    "\n",
    "# bonus\n",
    "df_bonus = pd.DataFrame(\n",
    "    zip(identifiers, weights, ages), columns=[\"identifier\", \"weight\", \"age\"], index=range(1, 4)\n",
    ")\n",
    "\n",
    "display(df, df_bonus)\n"
   ]
  },
  {
   "cell_type": "markdown",
   "metadata": {},
   "source": [
    "### Exercise 2\n",
    "Change the weight of mouse 2 to 19.6 and add one month to the age of all mice."
   ]
  },
  {
   "cell_type": "code",
   "execution_count": 3,
   "metadata": {},
   "outputs": [],
   "source": [
    "# change the weight of mouse 2\n",
    "df.loc[2, \"weight\"] = 19.6\n",
    "\n",
    "# add one month to all ages\n",
    "df[\"age\"] += 1 # remember, short for: df[\"age\"] = df[\"age\"] + 1"
   ]
  }
 ],
 "metadata": {
  "kernelspec": {
   "display_name": "Python 3.9.5 ('datasc_env')",
   "language": "python",
   "name": "python3"
  },
  "language_info": {
   "codemirror_mode": {
    "name": "ipython",
    "version": 3
   },
   "file_extension": ".py",
   "mimetype": "text/x-python",
   "name": "python",
   "nbconvert_exporter": "python",
   "pygments_lexer": "ipython3",
   "version": "3.9.15"
  },
  "orig_nbformat": 4,
  "vscode": {
   "interpreter": {
    "hash": "c025937d97e0e149ce13ed0bd2bfa6a8fad0c4244df406043466a1c56deaaf81"
   }
  }
 },
 "nbformat": 4,
 "nbformat_minor": 2
}
