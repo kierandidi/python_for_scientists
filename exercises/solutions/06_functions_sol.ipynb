{
 "cells": [
  {
   "cell_type": "markdown",
   "metadata": {},
   "source": [
    "# Functions - Exercises\n",
    "\n",
    "## Ex 1\n",
    "\n",
    "Write a function that takes a DNA segment as a string and returns the percentages of A,C,G,T as a list. Make sure that your function can handle both upper and lower case."
   ]
  },
  {
   "cell_type": "code",
   "execution_count": null,
   "metadata": {},
   "outputs": [],
   "source": [
    "def base_percentage(sequence):\n",
    "    base_count = [0,0,0,0] #ATGC\n",
    "    for base in sequence.upper():\n",
    "        if base == 'A':\n",
    "            base_count[0] += 1\n",
    "        elif base == 'T':\n",
    "            base_count[1] += 1\n",
    "        elif base == 'G':\n",
    "            base_count[2] += 1\n",
    "        elif base == 'C':\n",
    "            base_count[3] += 1\n",
    "\n",
    "    base_percentage = [count / len(sequence) for count in base_count]\n",
    "    return base_percentage\n",
    "\n",
    "print(base_percentage(\"AGTGACCGTATATAGGGCGATGCTA\"))\n"
   ]
  },
  {
   "cell_type": "markdown",
   "metadata": {},
   "source": [
    "## Ex 2\n",
    "\n",
    "Write a function that takes a DNA sequence as input and depending on the keyword argument `transformation`, it will either return the corresponding mRNA (if `transformation` is `transcribe`), protein (`translate`) or form the complement strand (`replicate`)."
   ]
  },
  {
   "cell_type": "code",
   "execution_count": 3,
   "metadata": {},
   "outputs": [],
   "source": [
    "def dna_change(transformation, seq):\n",
    "    if transformation == \"transcribe\":\n",
    "        return seq.replace(\"T\", \"U\")\n",
    "    elif transformation == \"replicate\":\n",
    "        seq = seq.replace(\"A\", \"t\").replace(\n",
    "            \"C\", \"g\").replace(\"T\", \"a\").replace(\"G\", \"c\")\n",
    "        return seq.upper()\n",
    "\n",
    "    elif transformation == \"translate\":\n",
    "        table = {\n",
    "        'ATA':'I', 'ATC':'I', 'ATT':'I', 'ATG':'M',\n",
    "        'ACA':'T', 'ACC':'T', 'ACG':'T', 'ACT':'T',\n",
    "        'AAC':'N', 'AAT':'N', 'AAA':'K', 'AAG':'K',\n",
    "        'AGC':'S', 'AGT':'S', 'AGA':'R', 'AGG':'R',                \n",
    "        'CTA':'L', 'CTC':'L', 'CTG':'L', 'CTT':'L',\n",
    "        'CCA':'P', 'CCC':'P', 'CCG':'P', 'CCT':'P',\n",
    "        'CAC':'H', 'CAT':'H', 'CAA':'Q', 'CAG':'Q',\n",
    "        'CGA':'R', 'CGC':'R', 'CGG':'R', 'CGT':'R',\n",
    "        'GTA':'V', 'GTC':'V', 'GTG':'V', 'GTT':'V',\n",
    "        'GCA':'A', 'GCC':'A', 'GCG':'A', 'GCT':'A',\n",
    "        'GAC':'D', 'GAT':'D', 'GAA':'E', 'GAG':'E',\n",
    "        'GGA':'G', 'GGC':'G', 'GGG':'G', 'GGT':'G',\n",
    "        'TCA':'S', 'TCC':'S', 'TCG':'S', 'TCT':'S',\n",
    "        'TTC':'F', 'TTT':'F', 'TTA':'L', 'TTG':'L',\n",
    "        'TAC':'Y', 'TAT':'Y', 'TAA':'_', 'TAG':'_',\n",
    "        'TGC':'C', 'TGT':'C', 'TGA':'_', 'TGG':'W',\n",
    "        }\n",
    "        protein = \"\"\n",
    "        if len(seq)%3 == 0:\n",
    "            for i in range(0, len(seq), 3):\n",
    "                codon = seq[i:i + 3]\n",
    "                protein+= table[codon]\n",
    "        else:\n",
    "            return \"Protein not correct length for translation\"\n",
    "        return protein\n",
    "\n"
   ]
  },
  {
   "cell_type": "code",
   "execution_count": 7,
   "metadata": {},
   "outputs": [
    {
     "name": "stdout",
     "output_type": "stream",
     "text": [
      "GCCGCCUGCUCAGACGUUAGGCUUAUG\n"
     ]
    }
   ],
   "source": [
    "sequence = \"GCCGCCTGCTCAGACGTTAGGCTTATG\"\n",
    "print(dna_change(\"transcribe\", sequence))"
   ]
  }
 ],
 "metadata": {
  "kernelspec": {
   "display_name": "Python 3.10.6 64-bit ('3.10.6')",
   "language": "python",
   "name": "python3"
  },
  "language_info": {
   "codemirror_mode": {
    "name": "ipython",
    "version": 3
   },
   "file_extension": ".py",
   "mimetype": "text/x-python",
   "name": "python",
   "nbconvert_exporter": "python",
   "pygments_lexer": "ipython3",
   "version": "3.10.6"
  },
  "orig_nbformat": 4,
  "vscode": {
   "interpreter": {
    "hash": "ebbca54691d61843c0a04253fcd790a2bc545e11985b7cc4dd8a14aab0b5083b"
   }
  }
 },
 "nbformat": 4,
 "nbformat_minor": 2
}
