{
 "cells": [
  {
   "cell_type": "markdown",
   "metadata": {},
   "source": [
    "# Loops and Comprehensions - Exercises\n",
    "\n",
    "## Ex 1\n",
    "\n",
    "Given a range of numbers, print a string with all of them separated by comma.\n",
    "\n"
   ]
  },
  {
   "cell_type": "code",
   "execution_count": 5,
   "metadata": {},
   "outputs": [
    {
     "data": {
      "text/plain": [
       "'1,2,3,4,5'"
      ]
     },
     "execution_count": 5,
     "metadata": {},
     "output_type": "execute_result"
    }
   ],
   "source": [
    "numbers = range(1,6)\n",
    "\n",
    "number_list = ','.join([str(i) for i in numbers])\n",
    "#output should be 1,2,3,4,5\n",
    "number_list"
   ]
  },
  {
   "cell_type": "markdown",
   "metadata": {},
   "source": [
    "Advanced:\n",
    "\n",
    "- Same thing for range(15), but only print the even numbers\n",
    "- can you do the above with a list comprehension?"
   ]
  },
  {
   "cell_type": "code",
   "execution_count": 13,
   "metadata": {},
   "outputs": [
    {
     "data": {
      "text/plain": [
       "'0,2,4,6,8,10,12,14'"
      ]
     },
     "execution_count": 13,
     "metadata": {},
     "output_type": "execute_result"
    }
   ],
   "source": [
    "numbers = range(15)\n",
    "\n",
    "number_list = ','.join([str(i) for i in numbers if i%2 == 0])\n",
    "number_list"
   ]
  },
  {
   "cell_type": "markdown",
   "metadata": {},
   "source": [
    "## Ex 2\n",
    "\n",
    "Ask the user for a list of input numbers. Then, take the ones that are valid numbers, add them up and print the result.\n",
    "\n",
    "Example input from the user: 10 5g today 50 30 gone 10 d44 80m\n",
    "\n",
    "Output: 100 (all of the invalid numbers were ignored)\n"
   ]
  },
  {
   "cell_type": "code",
   "execution_count": 10,
   "metadata": {},
   "outputs": [
    {
     "name": "stdout",
     "output_type": "stream",
     "text": [
      "100\n"
     ]
    }
   ],
   "source": [
    "numbers = input(\"numbers:\")\n",
    "sum = 0\n",
    "for number in numbers.split():\n",
    "    if number.isdigit():\n",
    "        sum += int(number)\n",
    "\n",
    "print(sum)\n"
   ]
  },
  {
   "cell_type": "markdown",
   "metadata": {},
   "source": [
    "# Ex 3\n",
    "\n",
    "Given the list of lists given below, return a flattened list that contains all the entries of the original one but just in a normal list without the nested structure."
   ]
  },
  {
   "cell_type": "code",
   "execution_count": 26,
   "metadata": {},
   "outputs": [
    {
     "name": "stdout",
     "output_type": "stream",
     "text": [
      "['WGTVF', 'TRWGK', 'CFRTK', 'LWAAQR', 'PRLG']\n"
     ]
    }
   ],
   "source": [
    "sequences = [\"WGTVF\", [\"TRWGK\", \"CFRTK\"], \"LWAAQR\", [\"PRLG\"]]\n",
    "\n",
    "flattened_sequences = []\n",
    "\n",
    "for sublist in sequences:\n",
    "    if type(sublist) is list:\n",
    "        for element in sublist:\n",
    "            flattened_sequences.append(element)\n",
    "    else:\n",
    "        flattened_sequences.append(sublist)\n",
    "\n",
    "print(flattened_sequences)"
   ]
  },
  {
   "cell_type": "markdown",
   "metadata": {},
   "source": [
    "In this case we have multiple for-loops and if-statements, so it makes sense to use a classic for-loop and not a list comprehension."
   ]
  }
 ],
 "metadata": {
  "kernelspec": {
   "display_name": "Python 3.10.6 64-bit ('3.10.6')",
   "language": "python",
   "name": "python3"
  },
  "language_info": {
   "codemirror_mode": {
    "name": "ipython",
    "version": 3
   },
   "file_extension": ".py",
   "mimetype": "text/x-python",
   "name": "python",
   "nbconvert_exporter": "python",
   "pygments_lexer": "ipython3",
   "version": "3.10.6"
  },
  "orig_nbformat": 4,
  "vscode": {
   "interpreter": {
    "hash": "ebbca54691d61843c0a04253fcd790a2bc545e11985b7cc4dd8a14aab0b5083b"
   }
  }
 },
 "nbformat": 4,
 "nbformat_minor": 2
}
