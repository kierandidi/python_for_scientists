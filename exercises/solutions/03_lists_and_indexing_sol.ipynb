{
 "cells": [
  {
   "cell_type": "markdown",
   "metadata": {},
   "source": [
    "# Lists and indexing - Exercises\n",
    "### Exercise 1\n",
    "For this exercise, you are given a short DNA sequence again. First, print out the first two codons in the sequence. Then, print out the next codon in reverse order."
   ]
  },
  {
   "cell_type": "code",
   "execution_count": 1,
   "metadata": {},
   "outputs": [
    {
     "name": "stdout",
     "output_type": "stream",
     "text": [
      "CAGGCT\n",
      "ACG\n"
     ]
    }
   ],
   "source": [
    "sequence = \"CAGGCTGCACGC\"\n",
    "\n",
    "# first two codons\n",
    "print(sequence[:6])\n",
    "\n",
    "# codon 3 in reverse order\n",
    "print(sequence[8:5:-1])"
   ]
  },
  {
   "cell_type": "markdown",
   "metadata": {},
   "source": [
    "### Exercise 2\n",
    "Now, you will mutate another short sequence. First, convert the sequence below to a list, then apply the following mutations:\n",
    "\n",
    "* A to G point mutation at nucleotide 5\n",
    "* add a T to the end of the sequence\n",
    "* add GGCGT to the end of the sequence\n",
    "* insert a C between nucleotide 3 and 4\n",
    "* delete the last nucleotide\n",
    "* change the last codon to \"CCC\"\n",
    "\n",
    "At the end, convert your list of characters to a string again."
   ]
  },
  {
   "cell_type": "code",
   "execution_count": 2,
   "metadata": {},
   "outputs": [
    {
     "name": "stdout",
     "output_type": "stream",
     "text": [
      "['C', 'C', 'G', 'T', 'A', 'G']\n",
      "['C', 'C', 'G', 'T', 'G', 'G']\n",
      "['C', 'C', 'G', 'T', 'G', 'G', 'T']\n",
      "['C', 'C', 'G', 'T', 'G', 'G', 'T', 'G', 'G', 'C', 'G', 'T']\n",
      "['C', 'C', 'G', 'C', 'T', 'G', 'G', 'T', 'G', 'G', 'C', 'G', 'T']\n",
      "['C', 'C', 'G', 'C', 'T', 'G', 'G', 'T', 'G', 'G', 'C', 'G']\n",
      "['C', 'C', 'G', 'C', 'T', 'G', 'G', 'T', 'G', 'C', 'C', 'C']\n",
      "CCGCTGGTGCCC\n"
     ]
    }
   ],
   "source": [
    "sequence = \"CCGTAG\"\n",
    "\n",
    "# convert to list\n",
    "sequence = list(sequence)\n",
    "print(sequence)\n",
    "\n",
    "# point mutation at nucleotide 5\n",
    "sequence[4] = \"G\"\n",
    "print(sequence)\n",
    "\n",
    "# add a T to the end\n",
    "sequence.append(\"T\")\n",
    "print(sequence)\n",
    "\n",
    "# add GGCGT to the end\n",
    "sequence.extend([\"G\", \"G\", \"C\", \"G\", \"T\"])\n",
    "print(sequence)\n",
    "\n",
    "# insert a C between nucleotide 3 and 4\n",
    "sequence.insert(3, \"C\")\n",
    "print(sequence)\n",
    "\n",
    "# delete the last nucleotide\n",
    "sequence.pop(-1)\n",
    "print(sequence)\n",
    "\n",
    "# change the last codon to \"CCC\"\n",
    "sequence[-3:] = [\"C\", \"C\", \"C\"]\n",
    "print(sequence)\n",
    "\n",
    "# convert back to string\n",
    "sequence = \"\".join(sequence)\n",
    "print(sequence)"
   ]
  },
  {
   "cell_type": "markdown",
   "metadata": {},
   "source": [
    "### Exercise 3 - Bonus\n",
    "Write a short script that detects if a list of organism names contains the name \"Rattus norvegicus\" and replaces it with the name \"Mus musculus\". You can test it with the two lists below but it should work with any list of organism names."
   ]
  },
  {
   "cell_type": "code",
   "execution_count": 3,
   "metadata": {},
   "outputs": [
    {
     "name": "stdout",
     "output_type": "stream",
     "text": [
      "['Homo sapiens', 'Drosophila melanogaster', 'Mus musculus', 'Sus scrofa']\n"
     ]
    }
   ],
   "source": [
    "# test lists: list_1 should get modified and list_2 should be left unchanged\n",
    "list_1 = [\"Homo sapiens\", \"Drosophila melanogaster\", \"Rattus norvegicus\", \"Sus scrofa\"]\n",
    "list_2 = [\"Caenorhabditis elegans\", \"Danio rerio\", \"Hydra vulgaris\", \"Arabidopsis thaliana\"]\n",
    "\n",
    "test_list = list_1\n",
    "\n",
    "if \"Rattus norvegicus\" in test_list:\n",
    "    rattus_index = test_list.index(\"Rattus norvegicus\")\n",
    "    test_list[rattus_index] = \"Mus musculus\"\n",
    "    \n",
    "print(test_list)"
   ]
  }
 ],
 "metadata": {
  "kernelspec": {
   "display_name": "Python 3.10.4 ('proteinbio_env')",
   "language": "python",
   "name": "python3"
  },
  "language_info": {
   "codemirror_mode": {
    "name": "ipython",
    "version": 3
   },
   "file_extension": ".py",
   "mimetype": "text/x-python",
   "name": "python",
   "nbconvert_exporter": "python",
   "pygments_lexer": "ipython3",
   "version": "3.10.4"
  },
  "orig_nbformat": 4,
  "vscode": {
   "interpreter": {
    "hash": "c35012593eedd7f76c551c78df9c594579f9f1e7079315917368440f384e885c"
   }
  }
 },
 "nbformat": 4,
 "nbformat_minor": 2
}
