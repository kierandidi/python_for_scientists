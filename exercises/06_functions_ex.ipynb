{
 "cells": [
  {
   "cell_type": "markdown",
   "metadata": {},
   "source": [
    "# Functions - Exercises\n",
    "\n",
    "## Ex 1\n",
    "\n",
    "Write a function that takes a DNA segment as a string and returns the percentages of A,C,G,T as a list. Make sure that your function can handle both upper and lower case."
   ]
  },
  {
   "cell_type": "code",
   "execution_count": null,
   "metadata": {},
   "outputs": [],
   "source": [
    "seq = \"ACCTGTGGCA\"\n",
    "\n",
    "# return [0.2,0.1,0.3,0.4]\n",
    "def base_percent(seq):\n",
    "    seq = seq.upper()\n",
    "    a_per = seq.count(\"A\") / len(seq)\n"
   ]
  },
  {
   "cell_type": "markdown",
   "metadata": {},
   "source": [
    "## Ex 2\n",
    "\n",
    "Write a function that takes a DNA sequence as input and depending on the keyword argument `transformation`, it will either return the corresponding mRNA (if `transformation` is `transcribe`), protein (`translate`) or form the reverse complement strand (`replicate`)."
   ]
  },
  {
   "cell_type": "code",
   "execution_count": null,
   "metadata": {},
   "outputs": [],
   "source": [
    "def change_dna(seq, transformation):\n",
    "    if transformation == \"translate\":\n",
    "        #translation\n",
    "        pass\n",
    "    elif transformation == \"transcribe\":\n",
    "        #T -> U, evtl polyA\n",
    "        pass\n",
    "    elif "
   ]
  },
  {
   "cell_type": "code",
   "execution_count": null,
   "metadata": {},
   "outputs": [],
   "source": [
    "seq = \"AAAATTTTGGGGCCCC\"\n",
    "new_seq = []\n",
    "nuc_dict = {\"A\": \"T\",\n",
    "            \"T\": \"A\"}\n",
    "for nuc in seq:\n",
    "    new_seq.append(nuc_dict[nuc])"
   ]
  }
 ],
 "metadata": {
  "kernelspec": {
   "display_name": "Python 3.9.13 64-bit ('standard_env')",
   "language": "python",
   "name": "python3"
  },
  "language_info": {
   "name": "python",
   "version": "3.9.13"
  },
  "orig_nbformat": 4,
  "vscode": {
   "interpreter": {
    "hash": "9596d6a87008e84c0f128741d482f604bb744a0b1a80490076c6d532d707cabe"
   }
  }
 },
 "nbformat": 4,
 "nbformat_minor": 2
}
