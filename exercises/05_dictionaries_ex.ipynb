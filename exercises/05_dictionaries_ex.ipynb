{
 "cells": [
  {
   "cell_type": "markdown",
   "metadata": {},
   "source": [
    "# Dictionaries - Exercises\n",
    "### Exercise 1\n",
    "You are given a DNA sequence below, for which you will generate the complementary strand. Create a dictionary called `base_pairs` that maps each of the four bases to their complementary base, and use it to create a new string with the complementary sequence."
   ]
  },
  {
   "cell_type": "code",
   "execution_count": null,
   "metadata": {},
   "outputs": [],
   "source": [
    "sequence = \"AAGCTGCAGTTCGATC\""
   ]
  },
  {
   "cell_type": "markdown",
   "metadata": {},
   "source": [
    "### Exercise 2\n",
    "Below, you are given a dictionary that maps common organism names to their scientific names. Create a dictionary called `scientific_to_common` that does the reverse translation instead."
   ]
  },
  {
   "cell_type": "code",
   "execution_count": null,
   "metadata": {},
   "outputs": [],
   "source": [
    "common_to_scientific = {\n",
    "    \"Brewer's yeast\": \"Saccharomyces cerevisiae\",\n",
    "    \"Thale cress\": \"Arabidopsis thaliana\",\n",
    "    \"Nematode\": \"Caenorhabditis elegans\",\n",
    "    \"Fruit fly\": \"Drosophila melanogaster\",\n",
    "    \"Zebrafish\": \"Danio rerio\",\n",
    "    \"House mouse\": \"Mus musculus\",\n",
    "    \"Human\": \"Homo sapiens\",\n",
    "}"
   ]
  },
  {
   "cell_type": "markdown",
   "metadata": {},
   "source": [
    "### Exercise 3\n",
    "Below you are given two lists of student data in the form of Python dictionaries. The first list `student_records` contain the name and age of each student, while the second list `new_records` contains their majors and grades in different subjects. Update the entries in `student_records` so that they also contain the grades and majors. In the end, `student_records` should look like this:\n",
    "\n",
    "```python\n",
    "[\n",
    "    {\n",
    "        \"name\": \"Tom\",\n",
    "        \"age\": 21,\n",
    "        \"major\": \"Physics\",\n",
    "        \"grades\": {\"Chemistry I\": 1.3, \"Physics II\": 2.0},\n",
    "    },\n",
    "    ...\n",
    "]\n",
    "```"
   ]
  },
  {
   "cell_type": "code",
   "execution_count": null,
   "metadata": {},
   "outputs": [],
   "source": [
    "student_records = [\n",
    "    {\"name\": \"Tom\", \"age\": 22},\n",
    "    {\"name\": \"Sarah\", \"age\": 21},\n",
    "    {\"name\": \"Peter\", \"age\": 23},\n",
    "    {\"name\": \"Hanna\", \"age\": 20},\n",
    "    {\"name\": \"Lisa\", \"age\": 21},\n",
    "]\n",
    "new_records = [\n",
    "    {\"major\": \"Physics\", \"grades\": {\"Chemistry I\": 1.3, \"Physics II\": 2.0}},\n",
    "    {\"major\": \"Maths\", \"grades\": {\"Maths I\": 1.0, \"Chemistry I\": 2.7}},\n",
    "    {\"major\": \"Biology\", \"grades\": {\"Maths I\": 2.3, \"Biology II\": 1.7}},\n",
    "    {\"major\": \"Engineering\", \"grades\": {\"Maths II\": 1.7, \"Physics II\": 2.0}},\n",
    "    {\"major\": \"Computer Science\", \"grades\": {\"Maths I\": 2.0, \"Computer Science I\": 1.7}},\n",
    "]"
   ]
  },
  {
   "cell_type": "markdown",
   "metadata": {},
   "source": [
    "### Exercise 4 - Bonus\n",
    "Calculate the average grade for the course \"Maths I\". For this, you can make use of the `mean()` function from Python's statistics module which is already imported below (don't forget to execute the code cell):"
   ]
  },
  {
   "cell_type": "code",
   "execution_count": null,
   "metadata": {},
   "outputs": [],
   "source": [
    "from statistics import mean\n",
    "\n",
    "mean([2, 5, 1, 2])"
   ]
  },
  {
   "cell_type": "code",
   "execution_count": null,
   "metadata": {},
   "outputs": [],
   "source": []
  }
 ],
 "metadata": {
  "kernelspec": {
   "display_name": "Python 3.10.4 ('proteinbio_env')",
   "language": "python",
   "name": "python3"
  },
  "language_info": {
   "codemirror_mode": {
    "name": "ipython",
    "version": 3
   },
   "file_extension": ".py",
   "mimetype": "text/x-python",
   "name": "python",
   "nbconvert_exporter": "python",
   "pygments_lexer": "ipython3",
   "version": "3.10.4"
  },
  "orig_nbformat": 4,
  "vscode": {
   "interpreter": {
    "hash": "c35012593eedd7f76c551c78df9c594579f9f1e7079315917368440f384e885c"
   }
  }
 },
 "nbformat": 4,
 "nbformat_minor": 2
}
