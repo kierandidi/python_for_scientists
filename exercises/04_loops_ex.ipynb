{
 "cells": [
  {
   "cell_type": "markdown",
   "metadata": {},
   "source": [
    "# Loops and Comprehensions - Exercises\n",
    "\n",
    "## Ex 1\n",
    "\n",
    "Given a range of numbers, print a string with all of them separated by comma.\n",
    "\n"
   ]
  },
  {
   "cell_type": "code",
   "execution_count": 6,
   "metadata": {},
   "outputs": [
    {
     "data": {
      "text/plain": [
       "'1,2,3,4,5'"
      ]
     },
     "execution_count": 6,
     "metadata": {},
     "output_type": "execute_result"
    }
   ],
   "source": [
    "numbers = range(1,15)\n",
    "\n",
    "numbers = list(numbers)\n",
    "numbers_str = [str(x) for x in numbers]\n",
    "','.join(numbers_str)\n",
    "\n",
    "#output should be 1,2,3,4,5"
   ]
  },
  {
   "cell_type": "markdown",
   "metadata": {},
   "source": [
    "Advanced:\n",
    "\n",
    "- Same thing for range(15), but only print the even numbers\n",
    "- can you do the above with a list comprehension?"
   ]
  },
  {
   "cell_type": "markdown",
   "metadata": {},
   "source": [
    "## Ex 2\n",
    "\n",
    "Ask the user for a list of input numbers. Then, take the ones that are valid numbers, add them up and print the result.\n",
    "\n",
    "Example input from the user: 10 5g today 50 30 gone 10 d44 80m\n",
    "\n",
    "Output: 100 (all of the invalid numbers were ignored)\n"
   ]
  },
  {
   "cell_type": "code",
   "execution_count": 8,
   "metadata": {},
   "outputs": [
    {
     "name": "stdout",
     "output_type": "stream",
     "text": [
      "10 5g today 50\n",
      "11\n"
     ]
    }
   ],
   "source": [
    "numbers = input(\"numbers:\")\n",
    "sum_num = 0\n",
    "print(numbers)\n",
    "for number in numbers.split():\n",
    "    if number.isdigit():\n",
    "        sum_num += int(number)\n",
    "\n",
    "print(sum_num)"
   ]
  },
  {
   "cell_type": "markdown",
   "metadata": {},
   "source": [
    "# Ex 3\n",
    "\n",
    "Given the list of lists given below, return a flattened list that contains all the entries of the original one but just in a normal list without the nested structure."
   ]
  },
  {
   "cell_type": "code",
   "execution_count": null,
   "metadata": {},
   "outputs": [],
   "source": [
    "sequences = [\"WGTVF\", [\"TRWGK\", \"CFRTK\"], \"LWAAQR\", [\"PRLG\"]]"
   ]
  }
 ],
 "metadata": {
  "kernelspec": {
   "display_name": "Python 3.10.6 64-bit ('3.10.6')",
   "language": "python",
   "name": "python3"
  },
  "language_info": {
   "codemirror_mode": {
    "name": "ipython",
    "version": 3
   },
   "file_extension": ".py",
   "mimetype": "text/x-python",
   "name": "python",
   "nbconvert_exporter": "python",
   "pygments_lexer": "ipython3",
   "version": "3.9.13"
  },
  "orig_nbformat": 4,
  "vscode": {
   "interpreter": {
    "hash": "ebbca54691d61843c0a04253fcd790a2bc545e11985b7cc4dd8a14aab0b5083b"
   }
  }
 },
 "nbformat": 4,
 "nbformat_minor": 2
}
