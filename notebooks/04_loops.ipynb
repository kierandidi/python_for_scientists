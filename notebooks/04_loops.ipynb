{
 "cells": [
  {
   "cell_type": "markdown",
   "metadata": {},
   "source": [
    "# Day 2: Loops/Comprehensions\n",
    "Kieran Didi"
   ]
  },
  {
   "cell_type": "markdown",
   "metadata": {},
   "source": [
    "Loops are essential to process large amounts of data. With loops you can search through strings, lists, sets, dictionaries and many more. The most relevant loop is the `for` loop.\n",
    "\n",
    "In general, loops can be classified into two categories: Definite (for) and indefinite (while) iterations.\n",
    "\n",
    "To drill down on for-loops, these loops can be classified in how they iterate:\n",
    "- numeric range loop\n",
    "- three-expression loop\n",
    "- collection-based/iterator-based loop \n",
    "\n",
    "For more information see [this post](https://realpython.com/python-for-loop/#a-survey-of-definite-iteration-in-programming). For now, it is important that Python only implements the iterator-based loop, but can emulate the other ones with this construct.\n",
    "\n",
    "A `for` loop has two parts: a **header** which specifies the iteration and a **body** which is executed once per iteration. It iterates over the items in a sequence in the order they appear. The number of iterations is always determined beforehand, not during the iteration. The values change during every iteration. "
   ]
  },
  {
   "cell_type": "code",
   "execution_count": 1,
   "metadata": {},
   "outputs": [
    {
     "name": "stdout",
     "output_type": "stream",
     "text": [
      "T\n",
      "E\n",
      "W\n",
      "Q\n",
      "I\n",
      "P\n",
      "F\n",
      "V\n"
     ]
    }
   ],
   "source": [
    "for amino_acid in \"TEWQIPFV\":       # this is the header\n",
    "    print(amino_acid)               # this is the body "
   ]
  },
  {
   "cell_type": "markdown",
   "metadata": {},
   "source": [
    "What Python does here is creating an iterator from that string. It implicitly calls the `iter` method which returns an iterator:"
   ]
  },
  {
   "cell_type": "code",
   "execution_count": null,
   "metadata": {},
   "outputs": [],
   "source": [
    "iterator = iter('TEWQIPFV')                             # String\n",
    "next(iterator)\n",
    "next(iterator)\n",
    "next(iterator)\n",
    "\n",
    "iter(['TEWQIPFV', 'WQRTSG', 'MGPWL'])        # List\n",
    "\n",
    "iter(('TEWQIPFV', 'WQRTSG', 'MGPWL'))                # Tuple\n",
    "\n",
    "iter({'TEWQIPFV', 'WQRTSG', 'MGPWL'})                # Set\n",
    "\n",
    "iter({'TEWQIPFV': 20, 'WQRTSG': 50, 'MGPWL': 10})       # Dict\n",
    "\n",
    "#fails for the following ones\n",
    "iter(42)                                   # Integer\n",
    "\n",
    "iter(3.1)                                  # Float\n",
    "\n",
    "iter(len)                                  # Built-in function\n",
    "\n",
    "#get values from iterator back via list function\n",
    "iterator = iter('TEWQIPFV')\n",
    "sequences = list(iterator)"
   ]
  },
  {
   "cell_type": "markdown",
   "metadata": {},
   "source": [
    "Here a short overview from the article linked above on the inner workings of the for loop in Python: \n",
    "\n",
    "| Term      | Meaning                                                                             |  \n",
    "|-----------|-------------------------------------------------------------------------------------|\n",
    "| Iteration | The process of looping through the objects or items in a collection               |\n",
    "| Iterable  | An object (or the adjective used to describe an object) that can be iterated over |\n",
    "| Iterator  | The object that produces successive items or values from its associated iterable  |\n",
    "| iter()    | The built-in function used to obtain an iterator from an iterable                 | \n",
    "\n"
   ]
  },
  {
   "cell_type": "markdown",
   "metadata": {},
   "source": [
    "<img src=\"https://files.realpython.com/media/t.ba63222d63f5.png\" alt=\"drawing\" width=\"400\"/>"
   ]
  },
  {
   "cell_type": "markdown",
   "metadata": {},
   "source": [
    "The loop stops when it has processes every character in the protein sequence above.\n",
    "With the `range()` expression you can define how often a command is executed:"
   ]
  },
  {
   "cell_type": "code",
   "execution_count": 5,
   "metadata": {},
   "outputs": [
    {
     "name": "stdout",
     "output_type": "stream",
     "text": [
      "0\n",
      "1\n",
      "2\n",
      "3\n",
      "4\n",
      "5\n",
      "6\n",
      "7\n",
      "8\n",
      "9\n"
     ]
    }
   ],
   "source": [
    "for i in range(10):\n",
    "    print(i)"
   ]
  },
  {
   "cell_type": "code",
   "execution_count": 3,
   "metadata": {},
   "outputs": [
    {
     "name": "stdout",
     "output_type": "stream",
     "text": [
      "Hello World!\n",
      "Hello World!\n",
      "Hello World!\n",
      "Hello World!\n",
      "Hello World!\n",
      "Hello World!\n",
      "Hello World!\n",
      "Hello World!\n",
      "Hello World!\n",
      "Hello World!\n"
     ]
    }
   ],
   "source": [
    "for i in range(10):\n",
    "    print(\"Hello World!\")"
   ]
  },
  {
   "cell_type": "markdown",
   "metadata": {},
   "source": [
    "The `range()` statement also shares the start,stop, step syntax: "
   ]
  },
  {
   "cell_type": "code",
   "execution_count": 4,
   "metadata": {},
   "outputs": [
    {
     "name": "stdout",
     "output_type": "stream",
     "text": [
      "[5, 6, 7, 8, 9]\n",
      "[0, 3, 6, 9]\n",
      "[-10, -40, -70]\n"
     ]
    }
   ],
   "source": [
    "print(list(range(5,10)))\n",
    "print(list(range(0,10,3)))\n",
    "print(list(range(-10,-100,-30)))"
   ]
  },
  {
   "cell_type": "markdown",
   "metadata": {},
   "source": [
    "When we combine loops with conditionals, we can create very useful applications. In the example below we want to count the number of thymines present in the genetic sequence:"
   ]
  },
  {
   "cell_type": "code",
   "execution_count": 2,
   "metadata": {},
   "outputs": [
    {
     "name": "stdout",
     "output_type": "stream",
     "text": [
      "9\n"
     ]
    }
   ],
   "source": [
    "genetic_sequence = 'TTAATCTTGTGATACGATATGAGA'\n",
    "T_count = 0\n",
    "\n",
    "for nucleotide in genetic_sequence:\n",
    "    if nucleotide == 'T':\n",
    "        T_count += 1\n",
    "        \n",
    "print(T_count)"
   ]
  },
  {
   "cell_type": "markdown",
   "metadata": {},
   "source": []
  },
  {
   "cell_type": "code",
   "execution_count": null,
   "metadata": {},
   "outputs": [],
   "source": [
    "#continue/break/else"
   ]
  },
  {
   "cell_type": "markdown",
   "metadata": {},
   "source": [
    " `for` loops can not run forever, because you need to define an end point (length of a list, string or `range()` statement). \\\n",
    " `while` loops are different, since they stop only if a condition chosen by you is `True`. (Think about a reapeating if statement). The iteration is **indefinite**.\n",
    "\n",
    " A `while` loops also has a a **header** which specifies the iteration and a **body** which is executed once per iteration. The header statement is evaluated in a Boolean context. If it is `True`, Python executes the body. The  header statement is checked again, again and again until the expression defined becomes `false`."
   ]
  },
  {
   "cell_type": "code",
   "execution_count": 3,
   "metadata": {},
   "outputs": [
    {
     "name": "stdout",
     "output_type": "stream",
     "text": [
      "0\n",
      "1\n",
      "2\n",
      "3\n",
      "4\n",
      "5\n",
      "6\n",
      "7\n",
      "8\n",
      "9\n"
     ]
    }
   ],
   "source": [
    "number = 0\n",
    "\n",
    "while number < 10:          # header\n",
    "    print(number)           # body\n",
    "    number = number + 1     # body"
   ]
  },
  {
   "cell_type": "markdown",
   "metadata": {},
   "source": [
    "If you want to count thymine nucleotides, you can actually rewrite the program above with a `while` loop:\n",
    "\n",
    "Sidenote: the expression `i += 1` is equivalent to `i = i + 1`"
   ]
  },
  {
   "cell_type": "code",
   "execution_count": 4,
   "metadata": {},
   "outputs": [
    {
     "name": "stdout",
     "output_type": "stream",
     "text": [
      "9\n",
      "9 9\n"
     ]
    }
   ],
   "source": [
    "T_count_while = 0 \n",
    "i = 0 \n",
    "\n",
    "while i < len(genetic_sequence):\n",
    "    if genetic_sequence[i] == \"T\":\n",
    "        T_count_while += 1 \n",
    "    i += 1\n",
    "\n",
    "print(T_count_while)\n",
    "#Are the T_counts equal for both loops?\n",
    "print(T_count_while, T_count)"
   ]
  },
  {
   "cell_type": "markdown",
   "metadata": {},
   "source": [
    "It is also possible to have indefinite while loops with the `while True` statement. The expression is always evalueated as `True` (we use the `time` package to slow down the execution). We use the `break` statement to stop the loop execution."
   ]
  },
  {
   "cell_type": "code",
   "execution_count": 15,
   "metadata": {},
   "outputs": [
    {
     "name": "stdout",
     "output_type": "stream",
     "text": [
      "1\n",
      "2\n",
      "3\n",
      "4\n",
      "5\n",
      "6\n",
      "7\n",
      "8\n",
      "9\n",
      "10\n",
      "11\n",
      "12\n",
      "13\n",
      "14\n",
      "15\n",
      "16\n",
      "17\n",
      "18\n",
      "19\n",
      "20\n",
      "21\n"
     ]
    }
   ],
   "source": [
    "import time\n",
    "\n",
    "i = 0 \n",
    "\n",
    "while True:\n",
    "    i += 1\n",
    "    print(i)\n",
    "    time.sleep(0.5)\n",
    "    if i == 21:\n",
    "        break"
   ]
  },
  {
   "cell_type": "markdown",
   "metadata": {},
   "source": [
    "If we run the program without the `if` statement, it would run indefinitely. Finally, the computer would stop the program or crash. Therefore: be careful with your `while` loops.\n"
   ]
  },
  {
   "cell_type": "code",
   "execution_count": null,
   "metadata": {},
   "outputs": [],
   "source": [
    "#while loops: continue/break/else statements"
   ]
  },
  {
   "cell_type": "markdown",
   "metadata": {},
   "source": [
    "\n",
    "<img src=\"https://files.realpython.com/media/t.899f357dd948.png\" alt=\"drawing\" width=\"300\"/>"
   ]
  },
  {
   "cell_type": "markdown",
   "metadata": {},
   "source": [
    "\n",
    "Filling up lists with loops is easy. To create a list of numbers from 0-9 just use:"
   ]
  },
  {
   "cell_type": "code",
   "execution_count": 22,
   "metadata": {},
   "outputs": [
    {
     "name": "stdout",
     "output_type": "stream",
     "text": [
      "[0, 1, 2, 3, 4, 5, 6, 7, 8, 9]\n"
     ]
    }
   ],
   "source": [
    "int_list = []\n",
    "for i in range(10):\n",
    "    int_list.append(i)\n",
    "print(int_list)"
   ]
  },
  {
   "cell_type": "code",
   "execution_count": null,
   "metadata": {},
   "outputs": [],
   "source": [
    "#one-liner while loops (only simple cases, cannot combine it with e.g. if statement)\n",
    "n = 10\n",
    "while n > 0: n -= 1; print(n)"
   ]
  },
  {
   "cell_type": "markdown",
   "metadata": {},
   "source": [
    "You often use loops to search through lists or strings. If you have a list of strings, you can even search through each individual string in a second loop. "
   ]
  },
  {
   "cell_type": "code",
   "execution_count": 16,
   "metadata": {},
   "outputs": [
    {
     "name": "stdout",
     "output_type": "stream",
     "text": [
      "[3, 7, 2]\n"
     ]
    }
   ],
   "source": [
    "list_of_primers = [\"CGCAAATGGGCGGTAGGCGTG\",\"GACTATCATATGCTTACCGT\",\"CAGGAAACAGCTATGAC\"]\n",
    "list_of_t_counts = []\n",
    "\n",
    "for sequence in list_of_primers:\n",
    "    t_count = 0\n",
    "    for nucleotide in sequence:\n",
    "        if nucleotide == 'T':\n",
    "            t_count += 1\n",
    "    list_of_t_counts.append(t_count)\n",
    "\n",
    "print(list_of_t_counts) "
   ]
  },
  {
   "cell_type": "markdown",
   "metadata": {},
   "source": [
    "It would be better if we could directly combine the primers with their respective t_count. For that, we use the `zip()` function. We need to put the `zip`\n",
    "output in a new list, then we can print it. This combines both lists into one, creating tuples in a list.  "
   ]
  },
  {
   "cell_type": "code",
   "execution_count": 19,
   "metadata": {},
   "outputs": [
    {
     "data": {
      "text/plain": [
       "[('CGCAAATGGGCGGTAGGCGTG', 3),\n",
       " ('GACTATCATATGCTTACCGT', 7),\n",
       " ('CAGGAAACAGCTATGAC', 2)]"
      ]
     },
     "execution_count": 19,
     "metadata": {},
     "output_type": "execute_result"
    }
   ],
   "source": [
    "list(zip(list_of_primers, list_of_t_counts))"
   ]
  },
  {
   "cell_type": "markdown",
   "metadata": {},
   "source": [
    "This is useful if you want to iterate through two lists in parallel:"
   ]
  },
  {
   "cell_type": "code",
   "execution_count": 1,
   "metadata": {},
   "outputs": [
    {
     "name": "stdout",
     "output_type": "stream",
     "text": [
      "GCA A\n",
      "AGA R\n",
      "GAT D\n",
      "AAT N\n",
      "TGT C\n"
     ]
    }
   ],
   "source": [
    "codons = ['GCA','AGA','GAT','AAT','TGT']\n",
    "\n",
    "amino_acid = ['A','R','D','N','C']\n",
    "\n",
    "for codon, aa in zip(codons,amino_acid):\n",
    "    print(codon,aa)"
   ]
  },
  {
   "cell_type": "markdown",
   "metadata": {},
   "source": [
    "The enumerate function gives you even more flexibility by providing you with an index variable while iterating:"
   ]
  },
  {
   "cell_type": "code",
   "execution_count": 3,
   "metadata": {},
   "outputs": [
    {
     "name": "stdout",
     "output_type": "stream",
     "text": [
      "0 GCA A\n",
      "1 AGA R\n",
      "2 GAT D\n",
      "3 AAT N\n",
      "4 TGT C\n"
     ]
    }
   ],
   "source": [
    "#enumerate function\n",
    "for pos, (codon, aa) in enumerate(zip(codons,amino_acid)):\n",
    "    print(pos,codon,aa)"
   ]
  },
  {
   "cell_type": "markdown",
   "metadata": {},
   "source": [
    "We can combine what we learned about lists, loops and conditionals to form list comprehensions, a short-hand and efficient way to create lists."
   ]
  },
  {
   "cell_type": "code",
   "execution_count": null,
   "metadata": {},
   "outputs": [],
   "source": [
    "#list comprehensions\n",
    "squares = [i * i for i in range(10)]\n",
    "\n",
    "#generator comprehensions\n",
    "squares = (i * i for i in range(10))\n"
   ]
  },
  {
   "cell_type": "markdown",
   "metadata": {},
   "source": [
    "Combining this syntax with conditionals allows us to do complex jobs in 1 line while still remaining readable:"
   ]
  },
  {
   "cell_type": "code",
   "execution_count": 1,
   "metadata": {},
   "outputs": [
    {
     "data": {
      "text/plain": [
       "['e', 'a', 'i', 'o', 'o', 'i', 'o', 'e', 'i', 'e']"
      ]
     },
     "execution_count": 1,
     "metadata": {},
     "output_type": "execute_result"
    }
   ],
   "source": [
    "sentence = 'Speaking words of wisdom: let it be'\n",
    "vowels = [i for i in sentence if i in 'aeiou']\n",
    "vowels"
   ]
  }
 ],
 "metadata": {
  "kernelspec": {
   "display_name": "Python 3.10.6 64-bit ('3.10.6')",
   "language": "python",
   "name": "python3"
  },
  "language_info": {
   "codemirror_mode": {
    "name": "ipython",
    "version": 3
   },
   "file_extension": ".py",
   "mimetype": "text/x-python",
   "name": "python",
   "nbconvert_exporter": "python",
   "pygments_lexer": "ipython3",
   "version": "3.10.6"
  },
  "vscode": {
   "interpreter": {
    "hash": "ebbca54691d61843c0a04253fcd790a2bc545e11985b7cc4dd8a14aab0b5083b"
   }
  }
 },
 "nbformat": 4,
 "nbformat_minor": 2
}
