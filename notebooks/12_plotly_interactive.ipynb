{
 "cells": [
  {
   "cell_type": "markdown",
   "metadata": {},
   "source": [
    "# Interactive Plots and Animations"
   ]
  },
  {
   "cell_type": "markdown",
   "metadata": {},
   "source": [
    "So far we have shown you how to perform static plotting with Seaborn. But sometimes it is nice to go beyond that. We have several options how to do that:\n",
    "\n",
    "- Interactive Plots: here the user can become active and zoom into the plot etc. We will do this via the Plotly library.\n",
    "- GIFs: If you want to show how data evolves over time you can stack several plots over each other and create a gif. For this we will use the `gif` and the `imageio` library (two alternatives for the same goal).\n",
    "- Animations: If we do not want the \"laggy\" effect of a GIF we can create fluent animations directly in matplotlib (although this is a bit more work)."
   ]
  },
  {
   "cell_type": "markdown",
   "metadata": {},
   "source": [
    "## Interactive Plots with Plotly"
   ]
  },
  {
   "cell_type": "markdown",
   "metadata": {},
   "source": [
    "For interactive plots there are two main libraries in Python: Bokeh and Plotly. Both are great tools, but we chose to go with Plotly just because there is more documentation and learning material available. Below you can find a short comparison table between the two taken from [this post](https://buggyprogrammer.com/bokeh-vs-plotly-which-one-is-better-in-2022/):\n",
    "\n",
    "| Parameter                  | Bokeh                                                       | Plotly                                                                    |\n",
    "|----------------------------|-------------------------------------------------------------|---------------------------------------------------------------------------|\n",
    "| Dashboards                 | Bokeh serves dashboards using bokeh server                  | Plotly serves dashboard using the dash                                    |\n",
    "| Plot features              | Plotting in Bokeh is a bit intense and has no 3D   graphing | Plotly code is simple and has 3D graph features                           |\n",
    "| Ease of learning and   use | Styling graphs with bokeh is a tedious process              | Plotly code is simple and has 3D graph features                           |\n",
    "| Data handling              | Bokeh handles data well and is fast                         | Plotly handles data as data frames and takes time to plot                 |\n",
    "| Dashboard Interactions     | Dashboards with Bokeh server are dynamic and very fast      | Plotly dash is a bit static and takes time to load, hence it is very slow |"
   ]
  },
  {
   "cell_type": "code",
   "execution_count": null,
   "metadata": {},
   "outputs": [],
   "source": [
    "# !pip install plotly\n",
    "# x and y given as array_like objects\n",
    "import plotly.express as px\n",
    "fig = px.scatter(x=[0, 1, 2, 3, 4], y=[0, 1, 4, 9, 16])\n",
    "fig.show()"
   ]
  },
  {
   "cell_type": "markdown",
   "metadata": {},
   "source": [
    "## Figure Data Structure \n",
    "\n",
    "Adapted from [here](https://plotly.com/python/figure-structure/)\n",
    "\n",
    "Plotly works by converting your figures represented in code into JSON text and passing this to the JavaScript library Plotly.js. This however should not bother you at all; you only have to interact with Plotly Express, the high-level plotly module whose functions directly return fully-populated `plotly.graph_objects.Figure` objects that can converted into JSON by the program. You can look at the underlying data structure of such a figure obejct via `print(fig)`:"
   ]
  },
  {
   "cell_type": "code",
   "execution_count": null,
   "metadata": {},
   "outputs": [],
   "source": [
    "print(fig)"
   ]
  },
  {
   "cell_type": "markdown",
   "metadata": {},
   "source": [
    "Similar to Seaborn, Plotly comes with a few inbuilt datasets and integrates nicely with Pandas DataFrames:"
   ]
  },
  {
   "cell_type": "code",
   "execution_count": 1,
   "metadata": {},
   "outputs": [
    {
     "data": {
      "application/vnd.plotly.v1+json": {
       "config": {
        "plotlyServerURL": "https://plot.ly"
       },
       "data": [
        {
         "hovertemplate": "sepal_width=%{x}<br>sepal_length=%{y}<extra></extra>",
         "legendgroup": "",
         "marker": {
          "color": "#636efa",
          "symbol": "circle"
         },
         "mode": "markers",
         "name": "",
         "orientation": "v",
         "showlegend": false,
         "type": "scatter",
         "x": [
          3.5,
          3,
          3.2,
          3.1,
          3.6,
          3.9,
          3.4,
          3.4,
          2.9,
          3.1,
          3.7,
          3.4,
          3,
          3,
          4,
          4.4,
          3.9,
          3.5,
          3.8,
          3.8,
          3.4,
          3.7,
          3.6,
          3.3,
          3.4,
          3,
          3.4,
          3.5,
          3.4,
          3.2,
          3.1,
          3.4,
          4.1,
          4.2,
          3.1,
          3.2,
          3.5,
          3.1,
          3,
          3.4,
          3.5,
          2.3,
          3.2,
          3.5,
          3.8,
          3,
          3.8,
          3.2,
          3.7,
          3.3,
          3.2,
          3.2,
          3.1,
          2.3,
          2.8,
          2.8,
          3.3,
          2.4,
          2.9,
          2.7,
          2,
          3,
          2.2,
          2.9,
          2.9,
          3.1,
          3,
          2.7,
          2.2,
          2.5,
          3.2,
          2.8,
          2.5,
          2.8,
          2.9,
          3,
          2.8,
          3,
          2.9,
          2.6,
          2.4,
          2.4,
          2.7,
          2.7,
          3,
          3.4,
          3.1,
          2.3,
          3,
          2.5,
          2.6,
          3,
          2.6,
          2.3,
          2.7,
          3,
          2.9,
          2.9,
          2.5,
          2.8,
          3.3,
          2.7,
          3,
          2.9,
          3,
          3,
          2.5,
          2.9,
          2.5,
          3.6,
          3.2,
          2.7,
          3,
          2.5,
          2.8,
          3.2,
          3,
          3.8,
          2.6,
          2.2,
          3.2,
          2.8,
          2.8,
          2.7,
          3.3,
          3.2,
          2.8,
          3,
          2.8,
          3,
          2.8,
          3.8,
          2.8,
          2.8,
          2.6,
          3,
          3.4,
          3.1,
          3,
          3.1,
          3.1,
          3.1,
          2.7,
          3.2,
          3.3,
          3,
          2.5,
          3,
          3.4,
          3
         ],
         "xaxis": "x",
         "y": [
          5.1,
          4.9,
          4.7,
          4.6,
          5,
          5.4,
          4.6,
          5,
          4.4,
          4.9,
          5.4,
          4.8,
          4.8,
          4.3,
          5.8,
          5.7,
          5.4,
          5.1,
          5.7,
          5.1,
          5.4,
          5.1,
          4.6,
          5.1,
          4.8,
          5,
          5,
          5.2,
          5.2,
          4.7,
          4.8,
          5.4,
          5.2,
          5.5,
          4.9,
          5,
          5.5,
          4.9,
          4.4,
          5.1,
          5,
          4.5,
          4.4,
          5,
          5.1,
          4.8,
          5.1,
          4.6,
          5.3,
          5,
          7,
          6.4,
          6.9,
          5.5,
          6.5,
          5.7,
          6.3,
          4.9,
          6.6,
          5.2,
          5,
          5.9,
          6,
          6.1,
          5.6,
          6.7,
          5.6,
          5.8,
          6.2,
          5.6,
          5.9,
          6.1,
          6.3,
          6.1,
          6.4,
          6.6,
          6.8,
          6.7,
          6,
          5.7,
          5.5,
          5.5,
          5.8,
          6,
          5.4,
          6,
          6.7,
          6.3,
          5.6,
          5.5,
          5.5,
          6.1,
          5.8,
          5,
          5.6,
          5.7,
          5.7,
          6.2,
          5.1,
          5.7,
          6.3,
          5.8,
          7.1,
          6.3,
          6.5,
          7.6,
          4.9,
          7.3,
          6.7,
          7.2,
          6.5,
          6.4,
          6.8,
          5.7,
          5.8,
          6.4,
          6.5,
          7.7,
          7.7,
          6,
          6.9,
          5.6,
          7.7,
          6.3,
          6.7,
          7.2,
          6.2,
          6.1,
          6.4,
          7.2,
          7.4,
          7.9,
          6.4,
          6.3,
          6.1,
          7.7,
          6.3,
          6.4,
          6,
          6.9,
          6.7,
          6.9,
          5.8,
          6.8,
          6.7,
          6.7,
          6.3,
          6.5,
          6.2,
          5.9
         ],
         "yaxis": "y"
        }
       ],
       "layout": {
        "legend": {
         "tracegroupgap": 0
        },
        "margin": {
         "t": 60
        },
        "template": {
         "data": {
          "bar": [
           {
            "error_x": {
             "color": "#2a3f5f"
            },
            "error_y": {
             "color": "#2a3f5f"
            },
            "marker": {
             "line": {
              "color": "#E5ECF6",
              "width": 0.5
             },
             "pattern": {
              "fillmode": "overlay",
              "size": 10,
              "solidity": 0.2
             }
            },
            "type": "bar"
           }
          ],
          "barpolar": [
           {
            "marker": {
             "line": {
              "color": "#E5ECF6",
              "width": 0.5
             },
             "pattern": {
              "fillmode": "overlay",
              "size": 10,
              "solidity": 0.2
             }
            },
            "type": "barpolar"
           }
          ],
          "carpet": [
           {
            "aaxis": {
             "endlinecolor": "#2a3f5f",
             "gridcolor": "white",
             "linecolor": "white",
             "minorgridcolor": "white",
             "startlinecolor": "#2a3f5f"
            },
            "baxis": {
             "endlinecolor": "#2a3f5f",
             "gridcolor": "white",
             "linecolor": "white",
             "minorgridcolor": "white",
             "startlinecolor": "#2a3f5f"
            },
            "type": "carpet"
           }
          ],
          "choropleth": [
           {
            "colorbar": {
             "outlinewidth": 0,
             "ticks": ""
            },
            "type": "choropleth"
           }
          ],
          "contour": [
           {
            "colorbar": {
             "outlinewidth": 0,
             "ticks": ""
            },
            "colorscale": [
             [
              0,
              "#0d0887"
             ],
             [
              0.1111111111111111,
              "#46039f"
             ],
             [
              0.2222222222222222,
              "#7201a8"
             ],
             [
              0.3333333333333333,
              "#9c179e"
             ],
             [
              0.4444444444444444,
              "#bd3786"
             ],
             [
              0.5555555555555556,
              "#d8576b"
             ],
             [
              0.6666666666666666,
              "#ed7953"
             ],
             [
              0.7777777777777778,
              "#fb9f3a"
             ],
             [
              0.8888888888888888,
              "#fdca26"
             ],
             [
              1,
              "#f0f921"
             ]
            ],
            "type": "contour"
           }
          ],
          "contourcarpet": [
           {
            "colorbar": {
             "outlinewidth": 0,
             "ticks": ""
            },
            "type": "contourcarpet"
           }
          ],
          "heatmap": [
           {
            "colorbar": {
             "outlinewidth": 0,
             "ticks": ""
            },
            "colorscale": [
             [
              0,
              "#0d0887"
             ],
             [
              0.1111111111111111,
              "#46039f"
             ],
             [
              0.2222222222222222,
              "#7201a8"
             ],
             [
              0.3333333333333333,
              "#9c179e"
             ],
             [
              0.4444444444444444,
              "#bd3786"
             ],
             [
              0.5555555555555556,
              "#d8576b"
             ],
             [
              0.6666666666666666,
              "#ed7953"
             ],
             [
              0.7777777777777778,
              "#fb9f3a"
             ],
             [
              0.8888888888888888,
              "#fdca26"
             ],
             [
              1,
              "#f0f921"
             ]
            ],
            "type": "heatmap"
           }
          ],
          "heatmapgl": [
           {
            "colorbar": {
             "outlinewidth": 0,
             "ticks": ""
            },
            "colorscale": [
             [
              0,
              "#0d0887"
             ],
             [
              0.1111111111111111,
              "#46039f"
             ],
             [
              0.2222222222222222,
              "#7201a8"
             ],
             [
              0.3333333333333333,
              "#9c179e"
             ],
             [
              0.4444444444444444,
              "#bd3786"
             ],
             [
              0.5555555555555556,
              "#d8576b"
             ],
             [
              0.6666666666666666,
              "#ed7953"
             ],
             [
              0.7777777777777778,
              "#fb9f3a"
             ],
             [
              0.8888888888888888,
              "#fdca26"
             ],
             [
              1,
              "#f0f921"
             ]
            ],
            "type": "heatmapgl"
           }
          ],
          "histogram": [
           {
            "marker": {
             "pattern": {
              "fillmode": "overlay",
              "size": 10,
              "solidity": 0.2
             }
            },
            "type": "histogram"
           }
          ],
          "histogram2d": [
           {
            "colorbar": {
             "outlinewidth": 0,
             "ticks": ""
            },
            "colorscale": [
             [
              0,
              "#0d0887"
             ],
             [
              0.1111111111111111,
              "#46039f"
             ],
             [
              0.2222222222222222,
              "#7201a8"
             ],
             [
              0.3333333333333333,
              "#9c179e"
             ],
             [
              0.4444444444444444,
              "#bd3786"
             ],
             [
              0.5555555555555556,
              "#d8576b"
             ],
             [
              0.6666666666666666,
              "#ed7953"
             ],
             [
              0.7777777777777778,
              "#fb9f3a"
             ],
             [
              0.8888888888888888,
              "#fdca26"
             ],
             [
              1,
              "#f0f921"
             ]
            ],
            "type": "histogram2d"
           }
          ],
          "histogram2dcontour": [
           {
            "colorbar": {
             "outlinewidth": 0,
             "ticks": ""
            },
            "colorscale": [
             [
              0,
              "#0d0887"
             ],
             [
              0.1111111111111111,
              "#46039f"
             ],
             [
              0.2222222222222222,
              "#7201a8"
             ],
             [
              0.3333333333333333,
              "#9c179e"
             ],
             [
              0.4444444444444444,
              "#bd3786"
             ],
             [
              0.5555555555555556,
              "#d8576b"
             ],
             [
              0.6666666666666666,
              "#ed7953"
             ],
             [
              0.7777777777777778,
              "#fb9f3a"
             ],
             [
              0.8888888888888888,
              "#fdca26"
             ],
             [
              1,
              "#f0f921"
             ]
            ],
            "type": "histogram2dcontour"
           }
          ],
          "mesh3d": [
           {
            "colorbar": {
             "outlinewidth": 0,
             "ticks": ""
            },
            "type": "mesh3d"
           }
          ],
          "parcoords": [
           {
            "line": {
             "colorbar": {
              "outlinewidth": 0,
              "ticks": ""
             }
            },
            "type": "parcoords"
           }
          ],
          "pie": [
           {
            "automargin": true,
            "type": "pie"
           }
          ],
          "scatter": [
           {
            "fillpattern": {
             "fillmode": "overlay",
             "size": 10,
             "solidity": 0.2
            },
            "type": "scatter"
           }
          ],
          "scatter3d": [
           {
            "line": {
             "colorbar": {
              "outlinewidth": 0,
              "ticks": ""
             }
            },
            "marker": {
             "colorbar": {
              "outlinewidth": 0,
              "ticks": ""
             }
            },
            "type": "scatter3d"
           }
          ],
          "scattercarpet": [
           {
            "marker": {
             "colorbar": {
              "outlinewidth": 0,
              "ticks": ""
             }
            },
            "type": "scattercarpet"
           }
          ],
          "scattergeo": [
           {
            "marker": {
             "colorbar": {
              "outlinewidth": 0,
              "ticks": ""
             }
            },
            "type": "scattergeo"
           }
          ],
          "scattergl": [
           {
            "marker": {
             "colorbar": {
              "outlinewidth": 0,
              "ticks": ""
             }
            },
            "type": "scattergl"
           }
          ],
          "scattermapbox": [
           {
            "marker": {
             "colorbar": {
              "outlinewidth": 0,
              "ticks": ""
             }
            },
            "type": "scattermapbox"
           }
          ],
          "scatterpolar": [
           {
            "marker": {
             "colorbar": {
              "outlinewidth": 0,
              "ticks": ""
             }
            },
            "type": "scatterpolar"
           }
          ],
          "scatterpolargl": [
           {
            "marker": {
             "colorbar": {
              "outlinewidth": 0,
              "ticks": ""
             }
            },
            "type": "scatterpolargl"
           }
          ],
          "scatterternary": [
           {
            "marker": {
             "colorbar": {
              "outlinewidth": 0,
              "ticks": ""
             }
            },
            "type": "scatterternary"
           }
          ],
          "surface": [
           {
            "colorbar": {
             "outlinewidth": 0,
             "ticks": ""
            },
            "colorscale": [
             [
              0,
              "#0d0887"
             ],
             [
              0.1111111111111111,
              "#46039f"
             ],
             [
              0.2222222222222222,
              "#7201a8"
             ],
             [
              0.3333333333333333,
              "#9c179e"
             ],
             [
              0.4444444444444444,
              "#bd3786"
             ],
             [
              0.5555555555555556,
              "#d8576b"
             ],
             [
              0.6666666666666666,
              "#ed7953"
             ],
             [
              0.7777777777777778,
              "#fb9f3a"
             ],
             [
              0.8888888888888888,
              "#fdca26"
             ],
             [
              1,
              "#f0f921"
             ]
            ],
            "type": "surface"
           }
          ],
          "table": [
           {
            "cells": {
             "fill": {
              "color": "#EBF0F8"
             },
             "line": {
              "color": "white"
             }
            },
            "header": {
             "fill": {
              "color": "#C8D4E3"
             },
             "line": {
              "color": "white"
             }
            },
            "type": "table"
           }
          ]
         },
         "layout": {
          "annotationdefaults": {
           "arrowcolor": "#2a3f5f",
           "arrowhead": 0,
           "arrowwidth": 1
          },
          "autotypenumbers": "strict",
          "coloraxis": {
           "colorbar": {
            "outlinewidth": 0,
            "ticks": ""
           }
          },
          "colorscale": {
           "diverging": [
            [
             0,
             "#8e0152"
            ],
            [
             0.1,
             "#c51b7d"
            ],
            [
             0.2,
             "#de77ae"
            ],
            [
             0.3,
             "#f1b6da"
            ],
            [
             0.4,
             "#fde0ef"
            ],
            [
             0.5,
             "#f7f7f7"
            ],
            [
             0.6,
             "#e6f5d0"
            ],
            [
             0.7,
             "#b8e186"
            ],
            [
             0.8,
             "#7fbc41"
            ],
            [
             0.9,
             "#4d9221"
            ],
            [
             1,
             "#276419"
            ]
           ],
           "sequential": [
            [
             0,
             "#0d0887"
            ],
            [
             0.1111111111111111,
             "#46039f"
            ],
            [
             0.2222222222222222,
             "#7201a8"
            ],
            [
             0.3333333333333333,
             "#9c179e"
            ],
            [
             0.4444444444444444,
             "#bd3786"
            ],
            [
             0.5555555555555556,
             "#d8576b"
            ],
            [
             0.6666666666666666,
             "#ed7953"
            ],
            [
             0.7777777777777778,
             "#fb9f3a"
            ],
            [
             0.8888888888888888,
             "#fdca26"
            ],
            [
             1,
             "#f0f921"
            ]
           ],
           "sequentialminus": [
            [
             0,
             "#0d0887"
            ],
            [
             0.1111111111111111,
             "#46039f"
            ],
            [
             0.2222222222222222,
             "#7201a8"
            ],
            [
             0.3333333333333333,
             "#9c179e"
            ],
            [
             0.4444444444444444,
             "#bd3786"
            ],
            [
             0.5555555555555556,
             "#d8576b"
            ],
            [
             0.6666666666666666,
             "#ed7953"
            ],
            [
             0.7777777777777778,
             "#fb9f3a"
            ],
            [
             0.8888888888888888,
             "#fdca26"
            ],
            [
             1,
             "#f0f921"
            ]
           ]
          },
          "colorway": [
           "#636efa",
           "#EF553B",
           "#00cc96",
           "#ab63fa",
           "#FFA15A",
           "#19d3f3",
           "#FF6692",
           "#B6E880",
           "#FF97FF",
           "#FECB52"
          ],
          "font": {
           "color": "#2a3f5f"
          },
          "geo": {
           "bgcolor": "white",
           "lakecolor": "white",
           "landcolor": "#E5ECF6",
           "showlakes": true,
           "showland": true,
           "subunitcolor": "white"
          },
          "hoverlabel": {
           "align": "left"
          },
          "hovermode": "closest",
          "mapbox": {
           "style": "light"
          },
          "paper_bgcolor": "white",
          "plot_bgcolor": "#E5ECF6",
          "polar": {
           "angularaxis": {
            "gridcolor": "white",
            "linecolor": "white",
            "ticks": ""
           },
           "bgcolor": "#E5ECF6",
           "radialaxis": {
            "gridcolor": "white",
            "linecolor": "white",
            "ticks": ""
           }
          },
          "scene": {
           "xaxis": {
            "backgroundcolor": "#E5ECF6",
            "gridcolor": "white",
            "gridwidth": 2,
            "linecolor": "white",
            "showbackground": true,
            "ticks": "",
            "zerolinecolor": "white"
           },
           "yaxis": {
            "backgroundcolor": "#E5ECF6",
            "gridcolor": "white",
            "gridwidth": 2,
            "linecolor": "white",
            "showbackground": true,
            "ticks": "",
            "zerolinecolor": "white"
           },
           "zaxis": {
            "backgroundcolor": "#E5ECF6",
            "gridcolor": "white",
            "gridwidth": 2,
            "linecolor": "white",
            "showbackground": true,
            "ticks": "",
            "zerolinecolor": "white"
           }
          },
          "shapedefaults": {
           "line": {
            "color": "#2a3f5f"
           }
          },
          "ternary": {
           "aaxis": {
            "gridcolor": "white",
            "linecolor": "white",
            "ticks": ""
           },
           "baxis": {
            "gridcolor": "white",
            "linecolor": "white",
            "ticks": ""
           },
           "bgcolor": "#E5ECF6",
           "caxis": {
            "gridcolor": "white",
            "linecolor": "white",
            "ticks": ""
           }
          },
          "title": {
           "x": 0.05
          },
          "xaxis": {
           "automargin": true,
           "gridcolor": "white",
           "linecolor": "white",
           "ticks": "",
           "title": {
            "standoff": 15
           },
           "zerolinecolor": "white",
           "zerolinewidth": 2
          },
          "yaxis": {
           "automargin": true,
           "gridcolor": "white",
           "linecolor": "white",
           "ticks": "",
           "title": {
            "standoff": 15
           },
           "zerolinecolor": "white",
           "zerolinewidth": 2
          }
         }
        },
        "xaxis": {
         "anchor": "y",
         "domain": [
          0,
          1
         ],
         "title": {
          "text": "sepal_width"
         }
        },
        "yaxis": {
         "anchor": "x",
         "domain": [
          0,
          1
         ],
         "title": {
          "text": "sepal_length"
         }
        }
       }
      }
     },
     "metadata": {},
     "output_type": "display_data"
    }
   ],
   "source": [
    "# x and y given as DataFrame columns\n",
    "import plotly.express as px\n",
    "df = px.data.iris() # iris is a pandas DataFrame\n",
    "fig = px.scatter(df, x=\"sepal_width\", y=\"sepal_length\")\n",
    "fig.show()"
   ]
  },
  {
   "cell_type": "markdown",
   "metadata": {},
   "source": [
    "As you can see the Plotly functions generate nice interactive plots just with the default parameters. But if we want to, we can customize a lot of things like colors, point size etc:"
   ]
  },
  {
   "cell_type": "code",
   "execution_count": null,
   "metadata": {},
   "outputs": [],
   "source": [
    "fig = px.scatter(df, x=\"sepal_width\", y=\"sepal_length\", color=\"species\",\n",
    "                 size='petal_length', hover_data=['petal_width'])\n",
    "fig.show()"
   ]
  },
  {
   "cell_type": "markdown",
   "metadata": {},
   "source": [
    "## Dash - Build Web Application Dashboards\n",
    "\n",
    "Plotly graphics can be easily converted to web dashboards and further extended via the [Dash library](https://dash.plotly.com/introduction). This is not the focus of today, but I will show you some code of it so that you can dig into it in case you are interested )[this video](https://www.youtube.com/watch?v=7m0Bq1EGPPg&t=0s) gives a good introduction as well)."
   ]
  },
  {
   "cell_type": "markdown",
   "metadata": {},
   "source": [
    "If you know a bit of web development, Dash will seem very familiar to you since it is built on Plotly.js as well as React.js. \n",
    "\n",
    "A Dash web app can be described as **components** that are displayed on the webpage via the **layout** and which interact with each other via **callbacks**.\n",
    "\n",
    "The code below is from [this GitHub repo](https://github.com/Coding-with-Adam/Dash-by-Plotly), check it out if you want to learn more about Dash!"
   ]
  },
  {
   "cell_type": "code",
   "execution_count": null,
   "metadata": {},
   "outputs": [],
   "source": [
    "from dash import Dash, dcc               # pip install dash\n",
    "import dash_bootstrap_components as dbc  # pip install dash-bootstrap-components\n",
    "\n",
    "# Build your components\n",
    "app = Dash(__name__, external_stylesheets=[dbc.themes.BOOTSTRAP])\n",
    "mytext = dcc.Markdown(children=\"# Hello World - let's build web apps in Python!\")\n",
    "\n",
    "# Customize your own Layout\n",
    "app.layout = dbc.Container([mytext])\n",
    "\n",
    "# Run app\n",
    "if __name__=='__main__':\n",
    "    app.run_server(port=8041)"
   ]
  },
  {
   "cell_type": "markdown",
   "metadata": {},
   "source": [
    "Here we already had one component (our text) and the layout. But to make the webapp interactive, we need to add a callback:"
   ]
  },
  {
   "cell_type": "code",
   "execution_count": null,
   "metadata": {},
   "outputs": [],
   "source": [
    "from dash import Dash, dcc, Output, Input  # pip install dash\n",
    "import dash_bootstrap_components as dbc    # pip install dash-bootstrap-components\n",
    "\n",
    "# Build your components\n",
    "app = Dash(__name__, external_stylesheets=[dbc.themes.SOLAR])\n",
    "mytext = dcc.Markdown(children='')\n",
    "myinput = dbc.Input(value=\"# Hello World - let's build web apps in Python!\")\n",
    "\n",
    "# Customize your own Layout\n",
    "app.layout = dbc.Container([mytext, myinput])\n",
    "\n",
    "# Callback allows components to interact\n",
    "@app.callback(\n",
    "    Output(mytext, component_property='children'),\n",
    "    Input(myinput, component_property='value')\n",
    ")\n",
    "def update_title(user_input):  # function arguments come from the component property of the Input\n",
    "    return user_input  # returned objects are assigned to the component property of the Output\n",
    "\n",
    "\n",
    "# Run app\n",
    "if __name__=='__main__':\n",
    "    app.run_server(port=8042)"
   ]
  },
  {
   "cell_type": "markdown",
   "metadata": {},
   "source": [
    "Now with our callbacks understood, we can build interactive graphs for our web app with `plotly.express` as shown before!"
   ]
  },
  {
   "cell_type": "code",
   "execution_count": null,
   "metadata": {},
   "outputs": [],
   "source": [
    "from dash import Dash, dcc, Output, Input  # pip install dash\n",
    "import dash_bootstrap_components as dbc    # pip install dash-bootstrap-components\n",
    "import plotly.express as px\n",
    "\n",
    "# incorporate data into app\n",
    "df = px.data.medals_long()\n",
    "\n",
    "# Build your components\n",
    "app = Dash(__name__, external_stylesheets=[dbc.themes.VAPOR])\n",
    "mytitle = dcc.Markdown(children='# App that analyzes Olympic medals')\n",
    "mygraph = dcc.Graph(figure={})\n",
    "dropdown = dcc.Dropdown(options=['Bar Plot', 'Scatter Plot'],\n",
    "                        value='Bar Plot',  # initial value displayed when page first loads\n",
    "                        clearable=False)\n",
    "\n",
    "# Customize your own Layout\n",
    "app.layout = dbc.Container([mytitle, mygraph, dropdown])\n",
    "\n",
    "# Callback allows components to interact\n",
    "@app.callback(\n",
    "    Output(mygraph, component_property='figure'),\n",
    "    Input(dropdown, component_property='value')\n",
    ")\n",
    "def update_graph(user_input):  # function arguments come from the component property of the Input\n",
    "    if user_input == 'Bar Plot':\n",
    "        fig = px.bar(data_frame=df, x=\"nation\", y=\"count\", color=\"medal\")\n",
    "\n",
    "    elif user_input == 'Scatter Plot':\n",
    "        fig = px.scatter(data_frame=df, x=\"count\", y=\"nation\", color=\"medal\",\n",
    "                         symbol=\"medal\")\n",
    "\n",
    "    return fig  # returned objects are assigned to the component property of the Output\n",
    "\n",
    "\n",
    "# Run app\n",
    "if __name__=='__main__':\n",
    "    app.run_server(port=8043)"
   ]
  },
  {
   "cell_type": "markdown",
   "metadata": {},
   "source": [
    "With a bit more work on the layout we can create amazing web apps such as this one here:"
   ]
  },
  {
   "cell_type": "code",
   "execution_count": null,
   "metadata": {},
   "outputs": [],
   "source": [
    "from dash import Dash, dcc, Output, Input  # pip install dash\n",
    "import dash_bootstrap_components as dbc    # pip install dash-bootstrap-components\n",
    "import plotly.express as px\n",
    "import pandas as pd                        # pip install pandas\n",
    "\n",
    "# incorporate data into app\n",
    "# Source - https://www.cdc.gov/nchs/pressroom/stats_of_the_states.htm\n",
    "df = pd.read_csv(\"https://raw.githubusercontent.com/Coding-with-Adam/Dash-by-Plotly/master/Good_to_Know/Dash2.0/social_capital.csv\")\n",
    "print(df.head())\n",
    "\n",
    "# Build your components\n",
    "app = Dash(__name__, external_stylesheets=[dbc.themes.LUX])\n",
    "mytitle = dcc.Markdown(children='')\n",
    "mygraph = dcc.Graph(figure={})\n",
    "dropdown = dcc.Dropdown(options=df.columns.values[2:],\n",
    "                        value='Cesarean Delivery Rate',  # initial value displayed when page first loads\n",
    "                        clearable=False)\n",
    "\n",
    "# Customize your own Layout\n",
    "app.layout = dbc.Container([\n",
    "    dbc.Row([\n",
    "        dbc.Col([mytitle], width=6)\n",
    "    ], justify='center'),\n",
    "    dbc.Row([\n",
    "        dbc.Col([mygraph], width=12)\n",
    "    ]),\n",
    "    dbc.Row([\n",
    "        dbc.Col([dropdown], width=6)\n",
    "    ], justify='center'),\n",
    "\n",
    "], fluid=True)\n",
    "\n",
    "# Callback allows components to interact\n",
    "@app.callback(\n",
    "    Output(mygraph, 'figure'),\n",
    "    Output(mytitle, 'children'),\n",
    "    Input(dropdown, 'value')\n",
    ")\n",
    "def update_graph(column_name):  # function arguments come from the component property of the Input\n",
    "\n",
    "    print(column_name)\n",
    "    print(type(column_name))\n",
    "    # https://plotly.com/python/choropleth-maps/\n",
    "    fig = px.choropleth(data_frame=df,\n",
    "                        locations='STATE',\n",
    "                        locationmode=\"USA-states\",\n",
    "                        scope=\"usa\",\n",
    "                        height=600,\n",
    "                        color=column_name,\n",
    "                        animation_frame='YEAR')\n",
    "\n",
    "    return fig, '# '+column_name  # returned objects are assigned to the component property of the Output\n",
    "\n",
    "\n",
    "# Run app\n",
    "if __name__=='__main__':\n",
    "    app.run_server(debug=False, port=8044)"
   ]
  },
  {
   "cell_type": "markdown",
   "metadata": {},
   "source": [
    "The creator of all of these Dask webapps I showed you made [great videos](https://www.youtube.com/@CharmingData) explaining these concepts and also released [a book about Dash](https://github.com/DashBookProject/Plotly-Dash) if you are interested in more detail!"
   ]
  },
  {
   "cell_type": "markdown",
   "metadata": {},
   "source": [
    "## Animations\n",
    "\n",
    "The example below shows you an example on how to set up an animation in Python via Matplotlib; the code is from [here](https://colab.research.google.com/github/jckantor/CBE30338/blob/master/docs/A.03-Animation-in-Jupyter-Notebooks.ipynb#scrollTo=mj8OrIcBnyqI) where they describe in more detail what each step is doing.\n",
    "\n",
    "You should be able to run the linked Colab above as it is. To run the animation your local Jupyter notebook, you will need to install the mediatool `ffmpeg` (for Mac for example via the commands `brew install yasm` and `brew install ffmpeg`)."
   ]
  },
  {
   "cell_type": "code",
   "execution_count": null,
   "metadata": {},
   "outputs": [],
   "source": [
    "%matplotlib inline\n",
    "\n",
    "import numpy as np\n",
    "import matplotlib.pyplot as plt\n",
    "import seaborn as sns\n",
    "\n",
    "# create a figure and axes\n",
    "fig = plt.figure(figsize=(12,5))\n",
    "ax1 = plt.subplot(1,2,1)   \n",
    "ax2 = plt.subplot(1,2,2)\n",
    "\n",
    "# set up the subplots as needed\n",
    "ax1.set_xlim(( 0, 2))            \n",
    "ax1.set_ylim((-2, 2))\n",
    "ax1.set_xlabel('Time')\n",
    "ax1.set_ylabel('Magnitude')\n",
    "\n",
    "ax2.set_xlim((-2,2))\n",
    "ax2.set_ylim((-2,2))\n",
    "ax2.set_xlabel('X')\n",
    "ax2.set_ylabel('Y')\n",
    "ax2.set_title('Phase Plane')\n",
    "\n",
    "# create objects that will change in the animation. These are\n",
    "# initially empty, and will be given new values for each frame\n",
    "# in the animation.\n",
    "txt_title = ax1.set_title('')\n",
    "line1, = ax1.plot([], [], 'b', lw=2)     # ax.plot returns a list of 2D line objects\n",
    "line2, = ax1.plot([], [], 'r', lw=2)\n",
    "pt1, = ax2.plot([], [], 'g.', ms=20)\n",
    "line3, = ax2.plot([], [], 'y', lw=2)\n",
    "\n",
    "ax1.legend(['sin','cos']);"
   ]
  },
  {
   "cell_type": "code",
   "execution_count": null,
   "metadata": {},
   "outputs": [],
   "source": [
    "# animation function. This is called sequentially\n",
    "def drawframe(n):\n",
    "    x = np.linspace(0, 2, 1000)\n",
    "    y1 = np.sin(2 * np.pi * (x - 0.01 * n))\n",
    "    y2 = np.cos(2 * np.pi * (x - 0.01 * n))\n",
    "    line1.set_data(x, y1)\n",
    "    line2.set_data(x, y2)\n",
    "    line3.set_data(y1[0:50],y2[0:50])\n",
    "    pt1.set_data(y1[0],y2[0])\n",
    "    txt_title.set_text('Frame = {0:4d}'.format(n))\n",
    "    return (line1,line2)"
   ]
  },
  {
   "cell_type": "code",
   "execution_count": null,
   "metadata": {},
   "outputs": [],
   "source": [
    "from matplotlib import animation\n",
    "\n",
    "# blit=True re-draws only the parts that have changed.\n",
    "anim = animation.FuncAnimation(fig, drawframe, frames=100, interval=20, blit=True)"
   ]
  },
  {
   "cell_type": "code",
   "execution_count": null,
   "metadata": {},
   "outputs": [],
   "source": [
    "import matplotlib.animation as manimation; manimation.writers.list()"
   ]
  },
  {
   "cell_type": "code",
   "execution_count": null,
   "metadata": {},
   "outputs": [],
   "source": [
    "from IPython.display import HTML\n",
    "HTML(anim.to_html5_video())"
   ]
  },
  {
   "cell_type": "markdown",
   "metadata": {},
   "source": [
    "## GIFs\n",
    "\n",
    "There are several libraries available to create simple GIFs from matplotlib, such as `imageio` or `gif`."
   ]
  },
  {
   "cell_type": "code",
   "execution_count": null,
   "metadata": {},
   "outputs": [],
   "source": [
    "import os\n",
    "import numpy as np\n",
    "import matplotlib.pyplot as plt\n",
    "import imageio"
   ]
  },
  {
   "cell_type": "markdown",
   "metadata": {},
   "source": [
    "Let's try a few short examples from the blog post [here](https://towardsdatascience.com/basics-of-gifs-with-pythons-matplotlib-54dd544b6f30):"
   ]
  },
  {
   "cell_type": "code",
   "execution_count": null,
   "metadata": {},
   "outputs": [],
   "source": [
    "y = np.random.randint(30, 40, size=(40))\n",
    "\n",
    "filenames = []\n",
    "for i in y:\n",
    "    # plot the line chart\n",
    "    plt.plot(y[:i])\n",
    "    plt.ylim(20,50)\n",
    "    \n",
    "    # create file name and append it to a list\n",
    "    filename = f'{i}.png'\n",
    "    filenames.append(filename)\n",
    "    \n",
    "    # save frame\n",
    "    plt.savefig(filename)\n",
    "    plt.close()\n",
    "\n",
    "# build gif\n",
    "with imageio.get_writer('mygif.gif', mode='I') as writer:\n",
    "    for filename in filenames:\n",
    "        image = imageio.imread(filename)\n",
    "        writer.append_data(image)\n",
    "        \n",
    "# Remove files\n",
    "for filename in set(filenames):\n",
    "    os.remove(filename)"
   ]
  },
  {
   "cell_type": "markdown",
   "metadata": {},
   "source": [
    "Same for a bar plot:"
   ]
  },
  {
   "cell_type": "code",
   "execution_count": null,
   "metadata": {},
   "outputs": [],
   "source": [
    "n_frames = 10\n",
    "bg_color = '#95A4AD'\n",
    "bar_color = '#283F4E'\n",
    "gif_name = 'bars'\n",
    "\n",
    "x = [1, 2, 3, 4, 5]\n",
    "coordinates_lists = [[0, 0, 0, 0, 0],\n",
    "                     [10, 30, 60, 30, 10],\n",
    "                     [70, 40, 20, 40, 70],\n",
    "                     [10, 20, 30, 40, 50],\n",
    "                     [50, 40, 30, 20, 10],\n",
    "                     [75, 0, 75, 0, 75],\n",
    "                     [0, 0, 0, 0, 0]]\n",
    "print('Creating charts\\n')\n",
    "filenames = []\n",
    "for index in np.arange(0, len(coordinates_lists)-1):\n",
    "    y = coordinates_lists[index]\n",
    "    y1 = coordinates_lists[index+1]    \n",
    "    \n",
    "    y_path = np.array(y1) - np.array(y)    \n",
    "    \n",
    "    for i in np.arange(0, n_frames + 1):\n",
    "        y_temp = (y + (y_path / n_frames) * i)        \n",
    "        \n",
    "        # plot\n",
    "        fig, ax = plt.subplots(figsize=(8, 4))\n",
    "        ax.set_facecolor(bg_color)       \n",
    "        \n",
    "        plt.bar(x, y_temp, width=0.4, color=bar_color)\n",
    "        plt.ylim(0,80)  \n",
    "        \n",
    "        # remove spines\n",
    "        ax.spines['right'].set_visible(False)\n",
    "        ax.spines['top'].set_visible(False)        \n",
    "        \n",
    "        # grid\n",
    "        ax.set_axisbelow(True)\n",
    "        ax.yaxis.grid(color='gray', linestyle='dashed', alpha=0.7)        \n",
    "        \n",
    "        # build file name and append to list of file names\n",
    "        filename = f'frame_{index}_{i}.png'\n",
    "        filenames.append(filename)\n",
    "        \n",
    "        # last frame of each viz stays longer\n",
    "        if (i == n_frames):\n",
    "            for i in range(5):\n",
    "                filenames.append(filename)        \n",
    "                \n",
    "        # save img\n",
    "        plt.savefig(filename, dpi=96, facecolor=bg_color)\n",
    "        plt.close()\n",
    "print('Charts saved\\n')\n",
    "\n",
    "# Build GIF\n",
    "print('Creating gif\\n')\n",
    "with imageio.get_writer(f'{gif_name}.gif', mode='I') as writer:\n",
    "    for filename in filenames:\n",
    "        image = imageio.imread(filename)\n",
    "        writer.append_data(image)\n",
    "print('Gif saved\\n')\n",
    "print('Removing Images\\n')\n",
    "# Remove files\n",
    "for filename in set(filenames):\n",
    "    os.remove(filename)\n",
    "print('DONE')"
   ]
  },
  {
   "cell_type": "markdown",
   "metadata": {},
   "source": [
    "And finally with a scatter plot:"
   ]
  },
  {
   "cell_type": "code",
   "execution_count": null,
   "metadata": {},
   "outputs": [],
   "source": [
    "coordinates_lists = [[[0],[0]],\n",
    "                     [[100,200,300],[100,200,300]],\n",
    "                     [[400,500,600],[400,500,600]],\n",
    "                     [[400,500,600,400,500,600],[400,500,600,600, 500,400]],\n",
    "                     [[500],[500]],\n",
    "                     [[0],[0]]]\n",
    "\n",
    "gif_name = 'movie' \n",
    "n_frames=10\n",
    "\n",
    "bg_color='#95A4AD'\n",
    "marker_color='#283F4E' \n",
    "marker_size = 25\n",
    "\n",
    "print('building plots\\n')\n",
    "filenames = []\n",
    "for index in np.arange(0, len(coordinates_lists)-1):\n",
    "    # get current and next coordinates\n",
    "    x = coordinates_lists[index][0]\n",
    "    y = coordinates_lists[index][1]    \n",
    "    \n",
    "    x1 = coordinates_lists[index+1][0]\n",
    "    y1 = coordinates_lists[index+1][1]    \n",
    "    \n",
    "    # Check if sizes match\n",
    "    while len(x) < len(x1):\n",
    "        diff = len(x1) - len(x)\n",
    "        x = x + x[:diff]\n",
    "        y = y + y[:diff]    \n",
    "\n",
    "    while len(x1) < len(x):\n",
    "        diff = len(x) - len(x1)\n",
    "        x1 = x1 + x1[:diff]\n",
    "        y1 = y1 + y1[:diff]    \n",
    "        \n",
    "    # calculate paths\n",
    "    x_path = np.array(x1) - np.array(x)\n",
    "    y_path = np.array(y1) - np.array(y)    \n",
    "    \n",
    "    for i in np.arange(0, n_frames + 1):                \n",
    "        # calculate current position\n",
    "        x_temp = (x + (x_path / n_frames) * i)\n",
    "        y_temp = (y + (y_path / n_frames) * i)        \n",
    "        \n",
    "        # plot\n",
    "        fig, ax = plt.subplots(figsize=(6, 6), subplot_kw = dict(aspect=\"equal\"))\n",
    "        ax.set_facecolor(bg_color)\n",
    "            \n",
    "        plt.scatter(x_temp, y_temp, c=marker_color, s = marker_size)        \n",
    "        \n",
    "        plt.xlim(0,1000)\n",
    "        plt.ylim(0,1000)        \n",
    "        \n",
    "        # remove spines\n",
    "        ax.spines['right'].set_visible(False)\n",
    "        ax.spines['top'].set_visible(False)        \n",
    "        \n",
    "        # grid\n",
    "        ax.set_axisbelow(True)\n",
    "        ax.yaxis.grid(color='gray', linestyle='dashed', alpha=0.7)\n",
    "        ax.xaxis.grid(color='gray', linestyle='dashed', alpha=0.7)        \n",
    "        \n",
    "        # build file name and append to list of file names\n",
    "        filename = f'frame_{index}_{i}.png'\n",
    "        filenames.append(filename)        \n",
    "        \n",
    "        if (i == n_frames):\n",
    "            for i in range(5):\n",
    "                filenames.append(filename)        \n",
    "                \n",
    "        # save img\n",
    "        plt.savefig(filename, dpi=96, facecolor=bg_color)\n",
    "        plt.close()\n",
    "        \n",
    "# Build GIF\n",
    "print('creating gif\\n')\n",
    "with imageio.get_writer(f'{gif_name}.gif', mode='I') as writer:\n",
    "    for filename in filenames:\n",
    "        image = imageio.imread(filename)\n",
    "        writer.append_data(image)\n",
    "\n",
    "print('gif complete\\n')\n",
    "print('Removing Images\\n')\n",
    "# Remove files\n",
    "for filename in set(filenames):\n",
    "    os.remove(filename)\n",
    "print('done')"
   ]
  },
  {
   "cell_type": "markdown",
   "metadata": {},
   "source": [
    "The guy creating these animations above even made [a library for it](https://github.com/Thiagobc23/Scatter-Letters), so you can see how quickly a side project become something bigger!"
   ]
  },
  {
   "cell_type": "markdown",
   "metadata": {},
   "source": [
    "You can do similar stuff with the `gif` library (see [this post](https://towardsdatascience.com/a-simple-way-to-turn-your-plots-into-gifs-in-python-f6ea4435ed3c) for the examples I use below):"
   ]
  },
  {
   "cell_type": "code",
   "execution_count": null,
   "metadata": {},
   "outputs": [],
   "source": [
    "import numpy as np\n",
    "import pandas as pd\n",
    "import yfinance as yf\n",
    "\n",
    "import matplotlib.pyplot as plt\n",
    "import gif\n",
    "\n",
    "# settings\n",
    "plt.style.use(\"seaborn\")\n",
    "gif.options.matplotlib[\"dpi\"] = 300\n",
    "\n",
    "# !pip install yfinance\n",
    "# !pip install gif"
   ]
  },
  {
   "cell_type": "code",
   "execution_count": null,
   "metadata": {},
   "outputs": [],
   "source": [
    "#download stock data from Tesla\n",
    "df = yf.download(\"TSLA\", \n",
    "                 start=\"2019-01-01\", \n",
    "                 end=\"2021-12-31\")\n",
    "\n",
    "df.head()"
   ]
  },
  {
   "cell_type": "code",
   "execution_count": null,
   "metadata": {},
   "outputs": [],
   "source": [
    "#get monthly instead of daily data\n",
    "tsla_df = df[[\"Adj Close\"]].resample(\"M\").last()"
   ]
  },
  {
   "cell_type": "markdown",
   "metadata": {},
   "source": [
    "Helper function to separately display each frame of the animation"
   ]
  },
  {
   "cell_type": "code",
   "execution_count": null,
   "metadata": {},
   "outputs": [],
   "source": [
    "@gif.frame\n",
    "def helper_plot_1(df, i):\n",
    "    df = df.copy()\n",
    "    df.iloc[i:] = np.nan #mask data after current step so that we display entire x axis from start\n",
    "    ax = df.plot(title=\"Tesla's stock price\", legend=False, style=\"o--\")\n",
    "    ax.set_xlabel(\"\")\n",
    "    ax.set_ylabel(\"Price ($)\")\n",
    "    #with matplotlib the function does not return anything, with plotly it would"
   ]
  },
  {
   "cell_type": "code",
   "execution_count": null,
   "metadata": {},
   "outputs": [],
   "source": [
    "frames = []\n",
    "for i in range(1, len(tsla_df)):\n",
    "    frames.append(helper_plot_1(tsla_df, i))"
   ]
  },
  {
   "cell_type": "code",
   "execution_count": null,
   "metadata": {},
   "outputs": [],
   "source": [
    "gif.save(frames, \"tesla_stock_price.gif\", \n",
    "         duration=15)"
   ]
  },
  {
   "cell_type": "markdown",
   "metadata": {},
   "source": [
    "Do the same think for multiple time series:"
   ]
  },
  {
   "cell_type": "code",
   "execution_count": null,
   "metadata": {},
   "outputs": [],
   "source": [
    "df = yf.download([\"TSLA\", \"TWTR\", \"AMZN\", \"AAPL\"], \n",
    "                 start=\"2019-01-01\", \n",
    "                 end=\"2021-12-31\")\n",
    "\n",
    "df = df[[\"Adj Close\"]].droplevel(0, axis=1).resample(\"M\").last()\n",
    "df = df.div(df.iloc[0])\n",
    "df.head()"
   ]
  },
  {
   "cell_type": "code",
   "execution_count": null,
   "metadata": {},
   "outputs": [],
   "source": [
    "@gif.frame\n",
    "def helper_plot_2(df, i):\n",
    "    \n",
    "    df = df.copy()\n",
    "    df.iloc[i:] = np.nan\n",
    "    \n",
    "    ax = df.plot(title=\"Selected stocks' change of value\")\n",
    "    ax.set_xlabel(\"\")\n",
    "    \n",
    "    # move the legend below the plot\n",
    "    box = ax.get_position()\n",
    "    ax.set_position([box.x0, box.y0 + box.height * 0.1,\n",
    "                     box.width, box.height * 0.9])\n",
    "    ax.legend(loc=\"upper center\", bbox_to_anchor=(0.5, -0.1),\n",
    "              fancybox=True, shadow=True, ncol=5)"
   ]
  },
  {
   "cell_type": "markdown",
   "metadata": {},
   "source": [
    "More info on how to work with the legend [here](https://stackoverflow.com/questions/4700614/how-to-put-the-legend-out-of-the-plot)."
   ]
  },
  {
   "cell_type": "code",
   "execution_count": null,
   "metadata": {},
   "outputs": [],
   "source": [
    "frames = []\n",
    "for i in range(1, len(df)):\n",
    "    frames.append(helper_plot_2(df, i))"
   ]
  },
  {
   "cell_type": "code",
   "execution_count": null,
   "metadata": {},
   "outputs": [],
   "source": [
    "gif.save(frames, \"tech_stock_prices.gif\", \n",
    "         duration=15)"
   ]
  }
 ],
 "metadata": {
  "kernelspec": {
   "display_name": "Python 3.9.13 64-bit ('standard_env')",
   "language": "python",
   "name": "python3"
  },
  "language_info": {
   "codemirror_mode": {
    "name": "ipython",
    "version": 3
   },
   "file_extension": ".py",
   "mimetype": "text/x-python",
   "name": "python",
   "nbconvert_exporter": "python",
   "pygments_lexer": "ipython3",
   "version": "3.9.13"
  },
  "orig_nbformat": 4,
  "vscode": {
   "interpreter": {
    "hash": "9596d6a87008e84c0f128741d482f604bb744a0b1a80490076c6d532d707cabe"
   }
  }
 },
 "nbformat": 4,
 "nbformat_minor": 2
}
