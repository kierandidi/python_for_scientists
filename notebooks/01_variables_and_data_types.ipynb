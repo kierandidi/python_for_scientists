{
 "cells": [
  {
   "cell_type": "markdown",
   "metadata": {},
   "source": [
    "# Variables and basic data types\n",
    "Lukas Jarosch\n",
    "\n",
    "## Introduction: Hello World!\n",
    "As a custom among programmers, your first steps in learning any language should be dedicated to greeting the world. In Python, you can do this with just one line of code:"
   ]
  },
  {
   "cell_type": "code",
   "execution_count": 1,
   "metadata": {},
   "outputs": [
    {
     "name": "stdout",
     "output_type": "stream",
     "text": [
      "Hello World!\n"
     ]
    }
   ],
   "source": [
    "# this prints the words \"Hello World!\"\n",
    "print(\"Hello World!\")"
   ]
  },
  {
   "cell_type": "markdown",
   "metadata": {},
   "source": [
    "Although as simple as it gets, our Hello World example already contains essential building blocks of any Python script. `print()` is an example of a function and our \"Hello World!\" message is a form of text data. Any lines that `# are prefixed with a hash like this`, represent comments that are ignored by the Python kernel but can help others in understanding your code."
   ]
  },
  {
   "cell_type": "markdown",
   "metadata": {},
   "source": [
    "## Variables\n",
    "Most of the time in programming, we assign our objects to variables which allows much greater flexibility. For example, we could use a variable assignment to make our Hello World script more powerful by allowing it to print any kind of message:"
   ]
  },
  {
   "cell_type": "code",
   "execution_count": 2,
   "metadata": {},
   "outputs": [
    {
     "name": "stdout",
     "output_type": "stream",
     "text": [
      "Hello World!\n"
     ]
    }
   ],
   "source": [
    "message = \"Hello World!\"\n",
    "\n",
    "print(message)"
   ]
  },
  {
   "cell_type": "markdown",
   "metadata": {},
   "source": [
    "By convention, we usually write variables in lowercase and separate multiple words by an underscore (_). To display the value of any variable, simply use the `print()` function again. Note that you can also put multiple variables into a single print call.\n",
    "\n",
    "Tip: When printing multiple values, print() will separate them with a single space by default. To change this, you can use the `sep` keyword in the function call to use any custom separator. Often the newline character \"\\n\" can be especially useful."
   ]
  },
  {
   "cell_type": "code",
   "execution_count": 3,
   "metadata": {},
   "outputs": [
    {
     "name": "stdout",
     "output_type": "stream",
     "text": [
      "John Smith 20\n",
      "John\n",
      "Smith\n",
      "20\n"
     ]
    }
   ],
   "source": [
    "first_name = \"John\"\n",
    "last_name = \"Smith\"\n",
    "age = 20\n",
    "\n",
    "# print all values at once\n",
    "print(first_name, last_name, age)\n",
    "\n",
    "# print each value on a new line\n",
    "print(first_name, last_name, age, sep=\"\\n\")"
   ]
  },
  {
   "cell_type": "markdown",
   "metadata": {},
   "source": [
    "## Basic data types\n",
    "### Floats and integers\n",
    "#### Definition\n",
    "For our first data types, we will start with numerical data. Python uses two basic data types to represent numbers: **integers** are used for whole numbers, while **floats** are used for decimal numbers."
   ]
  },
  {
   "cell_type": "code",
   "execution_count": 4,
   "metadata": {},
   "outputs": [],
   "source": [
    "my_int = 5\n",
    "my_float = 1.52"
   ]
  },
  {
   "cell_type": "markdown",
   "metadata": {},
   "source": [
    "To get the type of any kind of Python object, you can always use the `type()` function:"
   ]
  },
  {
   "cell_type": "code",
   "execution_count": 5,
   "metadata": {},
   "outputs": [
    {
     "name": "stdout",
     "output_type": "stream",
     "text": [
      "<class 'int'>\n",
      "<class 'float'>\n"
     ]
    }
   ],
   "source": [
    "print(type(my_int))\n",
    "print(type(my_float))"
   ]
  },
  {
   "cell_type": "markdown",
   "metadata": {},
   "source": [
    "You can easily convert ints and floats into each other, by using their respective functions. Note that conversion of a float to an integer simply cuts off all the decimals without any rounding logic."
   ]
  },
  {
   "cell_type": "code",
   "execution_count": 6,
   "metadata": {},
   "outputs": [
    {
     "name": "stdout",
     "output_type": "stream",
     "text": [
      "1 2.0\n"
     ]
    }
   ],
   "source": [
    "my_float = 1.5\n",
    "my_int = 2\n",
    "\n",
    "my_float_as_int = int(my_float)\n",
    "my_int_as_float = float(my_int)\n",
    "\n",
    "print(my_float_as_int, my_int_as_float)"
   ]
  },
  {
   "cell_type": "markdown",
   "metadata": {},
   "source": [
    "#### Basic maths in Python\n",
    "Programming languages are usually very good at dealing with numbers and Python is no exception here. Without needing to import any additional libraries, Python already supports quite a few different arithmetic operators:\n",
    "\n",
    "\n",
    "Name | Operator \n",
    "---------|----------\n",
    " Addition | +\n",
    " Subtraction | -\n",
    " Multiplication | *\n",
    " Division | /\n",
    " Floor division | //\n",
    " Modulus | %\n",
    " Exponent | **"
   ]
  },
  {
   "cell_type": "code",
   "execution_count": 7,
   "metadata": {},
   "outputs": [
    {
     "name": "stdout",
     "output_type": "stream",
     "text": [
      "8\n",
      "2\n",
      "15\n",
      "1.6666666666666667\n",
      "1\n",
      "2\n",
      "125\n"
     ]
    }
   ],
   "source": [
    "print(5 + 3)  # addition\n",
    "print(5 - 3)  # subtraction\n",
    "print(5 * 3)  # multiplication\n",
    "print(5 / 3)  # division\n",
    "print(5 // 3) # floor division\n",
    "print(5 % 3)  # modulo\n",
    "print(5**3)   # exponent"
   ]
  },
  {
   "cell_type": "markdown",
   "metadata": {},
   "source": [
    "Parentheses also work like you would expect them from normal arithmetic:"
   ]
  },
  {
   "cell_type": "code",
   "execution_count": 8,
   "metadata": {},
   "outputs": [
    {
     "name": "stdout",
     "output_type": "stream",
     "text": [
      "7\n",
      "9\n"
     ]
    }
   ],
   "source": [
    "print(3 * 2 + 1)\n",
    "print(3 * (2 + 1))"
   ]
  },
  {
   "cell_type": "markdown",
   "metadata": {},
   "source": [
    "Note that doing maths with decimal numbers will often result in very small errors. This is because of the binary number system that computers use. Similarly to how our base 10 system can't display a number like $\\frac{1}{2}$ and we'd need to write it as something like 0.66667, computers also need to round values that they can't exactly encode which leads to small deviations in the results."
   ]
  },
  {
   "cell_type": "code",
   "execution_count": 9,
   "metadata": {},
   "outputs": [
    {
     "data": {
      "text/plain": [
       "0.30000000000000004"
      ]
     },
     "execution_count": 9,
     "metadata": {},
     "output_type": "execute_result"
    }
   ],
   "source": [
    "0.1 + 0.2"
   ]
  },
  {
   "cell_type": "markdown",
   "metadata": {},
   "source": [
    "#### Incrementation\n",
    "A pattern that you will run into often, is updating an existing variable with some arithmetic operation. For example, you might have a variable that counts some kind of event and you want to update it after observing a new event:"
   ]
  },
  {
   "cell_type": "code",
   "execution_count": 10,
   "metadata": {},
   "outputs": [],
   "source": [
    "my_counter = 5\n",
    "\n",
    "# update the counter\n",
    "my_counter = my_counter + 1"
   ]
  },
  {
   "cell_type": "markdown",
   "metadata": {},
   "source": [
    "For such operations, you can use the shorter syntax `[operator]=`, which works with any of the operators listed above:"
   ]
  },
  {
   "cell_type": "code",
   "execution_count": 11,
   "metadata": {},
   "outputs": [
    {
     "name": "stdout",
     "output_type": "stream",
     "text": [
      "6\n",
      "2.0\n"
     ]
    }
   ],
   "source": [
    "my_counter = 5\n",
    "\n",
    "# increment by 1\n",
    "my_counter += 1\n",
    "print(my_counter)\n",
    "\n",
    "# divide by three\n",
    "my_counter /= 3\n",
    "print(my_counter)"
   ]
  },
  {
   "cell_type": "markdown",
   "metadata": {},
   "source": [
    "### Strings\n",
    "#### Definition\n",
    "**Strings** are the data type that Python uses for text data. As a biochemist, it is especially important to be familiar with the basics of string manipulation, as a lot of the data you will be working with will consist of string data like DNA or amino acid sequences.\n",
    "\n",
    "You have already encountered strings in our Hello World example and they can be declared using either single or double quotes, which are both completely equivalent:"
   ]
  },
  {
   "cell_type": "code",
   "execution_count": 12,
   "metadata": {},
   "outputs": [
    {
     "name": "stdout",
     "output_type": "stream",
     "text": [
      "Hello World!\n"
     ]
    }
   ],
   "source": [
    "my_string_1 = \"Hello\"\n",
    "my_string_2 = 'World!'\n",
    "\n",
    "print(my_string_1, my_string_2)"
   ]
  },
  {
   "cell_type": "markdown",
   "metadata": {},
   "source": [
    "If you want to write a string over multiple lines, you will have to use triple quotes:"
   ]
  },
  {
   "cell_type": "code",
   "execution_count": 13,
   "metadata": {},
   "outputs": [
    {
     "name": "stdout",
     "output_type": "stream",
     "text": [
      "This spans over\n",
      "multiple\n",
      "lines.\n",
      "This spans over\n",
      "multiple\n",
      "lines.\n"
     ]
    }
   ],
   "source": [
    "multiline_string_1 = \"\"\"This spans over\n",
    "multiple\n",
    "lines.\"\"\"\n",
    "\n",
    "multiline_string_2 = '''This spans over\n",
    "multiple\n",
    "lines.'''\n",
    "\n",
    "print(multiline_string_1)\n",
    "print(multiline_string_2)"
   ]
  },
  {
   "cell_type": "markdown",
   "metadata": {},
   "source": [
    "To convert other data types into strings, you can use the `string()` function:"
   ]
  },
  {
   "cell_type": "code",
   "execution_count": 14,
   "metadata": {},
   "outputs": [
    {
     "name": "stdout",
     "output_type": "stream",
     "text": [
      "5\n",
      "<class 'str'>\n"
     ]
    }
   ],
   "source": [
    "my_int = 5\n",
    "my_str = str(my_int)\n",
    "\n",
    "print(my_str)\n",
    "print(type(my_str))"
   ]
  },
  {
   "cell_type": "markdown",
   "metadata": {},
   "source": [
    "#### String concatenation"
   ]
  },
  {
   "cell_type": "markdown",
   "metadata": {},
   "source": [
    "Strings can be chained together simply using the `+` operator, and you can also repeat the same string multiple times using the `*` operator."
   ]
  },
  {
   "cell_type": "code",
   "execution_count": 15,
   "metadata": {},
   "outputs": [
    {
     "name": "stdout",
     "output_type": "stream",
     "text": [
      "Hello Peter!\n"
     ]
    }
   ],
   "source": [
    "# string concatenation\n",
    "name = \"Peter\"\n",
    "greeting = \"Hello \" + name + \"!\"\n",
    "\n",
    "print(greeting)"
   ]
  },
  {
   "cell_type": "code",
   "execution_count": 16,
   "metadata": {},
   "outputs": [
    {
     "name": "stdout",
     "output_type": "stream",
     "text": [
      "1111111111\n"
     ]
    }
   ],
   "source": [
    "# repeating strings\n",
    "my_str = \"1\"\n",
    "my_str_repeated = my_str * 10\n",
    "\n",
    "print(my_str_repeated)"
   ]
  },
  {
   "cell_type": "markdown",
   "metadata": {},
   "source": [
    "However, string concatenation can get quite messy for more complex expressions. Consider the following program which displays a custom message displaying the name and age of a user:"
   ]
  },
  {
   "cell_type": "code",
   "execution_count": 17,
   "metadata": {},
   "outputs": [
    {
     "name": "stdout",
     "output_type": "stream",
     "text": [
      "Hello Peter, you are 51 years old.\n"
     ]
    }
   ],
   "source": [
    "name = \"Peter\"\n",
    "birthyear = 1971\n",
    "\n",
    "message = \"Hello \" + name + \", you are \" + str(2022 - birthyear) + \" years old.\"\n",
    "print(message)"
   ]
  },
  {
   "cell_type": "markdown",
   "metadata": {},
   "source": [
    "Even in this simple example, the various string concatenations already start to hurt the readability of the code. Fortunately, Python has a very convenient construct for such cases, called an **f-string**, which you declare by putting an f in front of the quotation marks. In an f-string, you can embed any kind of expression enclosed by curly brackets {}, and Python will automatically evaluate it, convert it into a string and embed it into the enclosing string: "
   ]
  },
  {
   "cell_type": "code",
   "execution_count": 18,
   "metadata": {},
   "outputs": [
    {
     "name": "stdout",
     "output_type": "stream",
     "text": [
      "Hello Peter, you are 51 years old.\n"
     ]
    }
   ],
   "source": [
    "message = f\"Hello {name}, you are {2022 - birthyear} years old.\"\n",
    "print(message)"
   ]
  },
  {
   "cell_type": "markdown",
   "metadata": {},
   "source": [
    "#### String functions and methods\n",
    "Python comes with several handy functions and methods for dealing with string data. For example, to check the length of a string you can use the `len()` function:"
   ]
  },
  {
   "cell_type": "code",
   "execution_count": 19,
   "metadata": {},
   "outputs": [
    {
     "data": {
      "text/plain": [
       "7"
      ]
     },
     "execution_count": 19,
     "metadata": {},
     "output_type": "execute_result"
    }
   ],
   "source": [
    "len(\"ABCDEFG\")"
   ]
  },
  {
   "cell_type": "markdown",
   "metadata": {},
   "source": [
    "To check if a string contains a specific substring, use the `in` operator:"
   ]
  },
  {
   "cell_type": "code",
   "execution_count": 20,
   "metadata": {},
   "outputs": [
    {
     "name": "stdout",
     "output_type": "stream",
     "text": [
      "True\n",
      "False\n"
     ]
    }
   ],
   "source": [
    "print(\"AB\" in \"ABCDEF\")\n",
    "print(\"AC\" in \"ABCDEF\")"
   ]
  },
  {
   "cell_type": "markdown",
   "metadata": {},
   "source": [
    "While `len()` and `in` are general constructs that also work with other data types that we will encounter in this course, some functions are specific to the string data type. Such specific functions are called methods and generally follow the syntax pattern `object.method()`. Two examples for very useful string methods are `count()` and `replace()`:"
   ]
  },
  {
   "cell_type": "code",
   "execution_count": 21,
   "metadata": {},
   "outputs": [
    {
     "name": "stdout",
     "output_type": "stream",
     "text": [
      "3\n",
      "1\n",
      "Hello Sarah!\n"
     ]
    }
   ],
   "source": [
    "message = \"Hello Peter!\"\n",
    "\n",
    "# count the number of times a substring is found in the string\n",
    "print(message.count(\"e\"))\n",
    "print(message.count(\"Hello\"))\n",
    "\n",
    "# replace a substring with another string\n",
    "print(message.replace(\"Peter\", \"Sarah\"))"
   ]
  },
  {
   "cell_type": "markdown",
   "metadata": {},
   "source": [
    "Note that string methods like `replace()` never modify the original string but always return a new string instead (strings are actually **immutable**):"
   ]
  },
  {
   "cell_type": "code",
   "execution_count": 22,
   "metadata": {},
   "outputs": [
    {
     "name": "stdout",
     "output_type": "stream",
     "text": [
      "Hello Peter!\n"
     ]
    }
   ],
   "source": [
    "# the original message is still untouched\n",
    "print(message)"
   ]
  },
  {
   "cell_type": "markdown",
   "metadata": {},
   "source": [
    "To get a list of all available methods for an object, you can use the `dir()` function. Don't worry about all the double underscore methods, those are special internal class methods that you will seldom use directly."
   ]
  },
  {
   "cell_type": "code",
   "execution_count": 23,
   "metadata": {},
   "outputs": [
    {
     "name": "stdout",
     "output_type": "stream",
     "text": [
      "['__add__', '__class__', '__contains__', '__delattr__', '__dir__', '__doc__', '__eq__', '__format__', '__ge__', '__getattribute__', '__getitem__', '__getnewargs__', '__gt__', '__hash__', '__init__', '__init_subclass__', '__iter__', '__le__', '__len__', '__lt__', '__mod__', '__mul__', '__ne__', '__new__', '__reduce__', '__reduce_ex__', '__repr__', '__rmod__', '__rmul__', '__setattr__', '__sizeof__', '__str__', '__subclasshook__', 'capitalize', 'casefold', 'center', 'count', 'encode', 'endswith', 'expandtabs', 'find', 'format', 'format_map', 'index', 'isalnum', 'isalpha', 'isascii', 'isdecimal', 'isdigit', 'isidentifier', 'islower', 'isnumeric', 'isprintable', 'isspace', 'istitle', 'isupper', 'join', 'ljust', 'lower', 'lstrip', 'maketrans', 'partition', 'removeprefix', 'removesuffix', 'replace', 'rfind', 'rindex', 'rjust', 'rpartition', 'rsplit', 'rstrip', 'split', 'splitlines', 'startswith', 'strip', 'swapcase', 'title', 'translate', 'upper', 'zfill']\n"
     ]
    }
   ],
   "source": [
    "print(dir(\"A\"))"
   ]
  },
  {
   "cell_type": "markdown",
   "metadata": {},
   "source": [
    "Last but not least, if you need more information about a function or method you can use Python's `help()` function:"
   ]
  },
  {
   "cell_type": "code",
   "execution_count": 24,
   "metadata": {},
   "outputs": [
    {
     "name": "stdout",
     "output_type": "stream",
     "text": [
      "Help on built-in function replace:\n",
      "\n",
      "replace(old, new, count=-1, /) method of builtins.str instance\n",
      "    Return a copy with all occurrences of substring old replaced by new.\n",
      "    \n",
      "      count\n",
      "        Maximum number of occurrences to replace.\n",
      "        -1 (the default value) means replace all occurrences.\n",
      "    \n",
      "    If the optional argument count is given, only the first count occurrences are\n",
      "    replaced.\n",
      "\n",
      "None\n"
     ]
    }
   ],
   "source": [
    "print(help(message.replace))"
   ]
  }
 ],
 "metadata": {
  "kernelspec": {
   "display_name": "Python 3.9.5 ('datasc_env')",
   "language": "python",
   "name": "python3"
  },
  "language_info": {
   "codemirror_mode": {
    "name": "ipython",
    "version": 3
   },
   "file_extension": ".py",
   "mimetype": "text/x-python",
   "name": "python",
   "nbconvert_exporter": "python",
   "pygments_lexer": "ipython3",
   "version": "3.9.5"
  },
  "orig_nbformat": 4,
  "vscode": {
   "interpreter": {
    "hash": "c025937d97e0e149ce13ed0bd2bfa6a8fad0c4244df406043466a1c56deaaf81"
   }
  }
 },
 "nbformat": 4,
 "nbformat_minor": 2
}
