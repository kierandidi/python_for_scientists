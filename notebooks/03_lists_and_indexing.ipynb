{
 "cells": [
  {
   "cell_type": "markdown",
   "metadata": {},
   "source": [
    "## Lists and indexing\n",
    "Lukas Jarosch\n",
    "\n",
    "### Lists\n",
    "#### Definition\n",
    "**Lists** are used to store multiple items in a single variable and you can declare them using square brackets `[]` with comma-separated values inside. The stored items can be any kind of Python objects, even other lists. This makes lists extremely flexible and you will use them countless times when working with Python."
   ]
  },
  {
   "cell_type": "code",
   "execution_count": 1,
   "metadata": {},
   "outputs": [],
   "source": [
    "# a list storing a string, int, float, and another list\n",
    "my_list = [\"A\", 10, 8.2, [\"C\", \"D\"]]"
   ]
  },
  {
   "cell_type": "markdown",
   "metadata": {},
   "source": [
    "#### Indexing\n",
    "To access elements of a list, we can use the index operator `[]`. Python numbers list elements starting with index 0. Alternatively, you can also use negative indices which start from the end. If you find indexing confusing at first, you can refer to the illustration below:\n",
    "\n",
    "![indexing_image](../img/list_indexing.png)"
   ]
  },
  {
   "cell_type": "code",
   "execution_count": 2,
   "metadata": {},
   "outputs": [
    {
     "name": "stdout",
     "output_type": "stream",
     "text": [
      "B h\n",
      "y t\n"
     ]
    }
   ],
   "source": [
    "my_list = ['B', 'i', 'o', 'c', 'h', 'e', 'm', 'i', 's', 't', 'r', 'y']\n",
    "\n",
    "# get the first element and the fifth element\n",
    "print(my_list[0], my_list[4])\n",
    "\n",
    "# get the last element and the third last element\n",
    "print(my_list[-1], my_list[-3])"
   ]
  },
  {
   "cell_type": "markdown",
   "metadata": {},
   "source": [
    "To access a range of elements in a list, we can use so-called slicing. Slicing follows the syntax `[start:stop]` and returns a new list that contains all elements from the start index until the last element before the stop index (the stop index itself is not included)."
   ]
  },
  {
   "cell_type": "code",
   "execution_count": 3,
   "metadata": {},
   "outputs": [
    {
     "name": "stdout",
     "output_type": "stream",
     "text": [
      "['B', 'i', 'o']\n",
      "['c', 'h', 'e', 'm', 'i', 's', 't', 'r', 'y']\n"
     ]
    }
   ],
   "source": [
    "print(my_list[0:3])\n",
    "print(my_list[3:12])"
   ]
  },
  {
   "cell_type": "markdown",
   "metadata": {},
   "source": [
    "If you leave out the start or stop value, Python will automatically start with the first element or end with the last element."
   ]
  },
  {
   "cell_type": "code",
   "execution_count": 4,
   "metadata": {},
   "outputs": [
    {
     "name": "stdout",
     "output_type": "stream",
     "text": [
      "['B', 'i', 'o']\n",
      "['c', 'h', 'e', 'm', 'i', 's', 't', 'r', 'y']\n",
      "['B', 'i', 'o', 'c', 'h', 'e', 'm', 'i', 's', 't', 'r', 'y']\n"
     ]
    }
   ],
   "source": [
    "print(my_list[:3])\n",
    "print(my_list[3:])\n",
    "print(my_list[:])"
   ]
  },
  {
   "cell_type": "markdown",
   "metadata": {},
   "source": [
    "You can even add a third argument to the index operator, which specifies the step size of the slicing with the syntax `[start:stop:step]`. The step size is 1 by default, but you can decide to only include every n-th value by setting the step to n."
   ]
  },
  {
   "cell_type": "code",
   "execution_count": 5,
   "metadata": {},
   "outputs": [
    {
     "name": "stdout",
     "output_type": "stream",
     "text": [
      "[3, 5, 7]\n",
      "[1, 4, 7, 10]\n"
     ]
    }
   ],
   "source": [
    "my_list = [1, 2, 3, 4, 5, 6, 7, 8, 9, 10]\n",
    "\n",
    "# slice with step size 2\n",
    "print(my_list[2:7:2])\n",
    "\n",
    "# all elements with step size 3\n",
    "print(my_list[::3])"
   ]
  },
  {
   "cell_type": "markdown",
   "metadata": {},
   "source": [
    "A useful trick is that you can also use negative steps which will reverse the order of your slice. "
   ]
  },
  {
   "cell_type": "code",
   "execution_count": 6,
   "metadata": {},
   "outputs": [
    {
     "name": "stdout",
     "output_type": "stream",
     "text": [
      "[10, 9, 8]\n",
      "[10, 9, 8, 7, 6, 5, 4, 3, 2, 1]\n"
     ]
    }
   ],
   "source": [
    "# get the last three values in reverse order\n",
    "print(my_list[-1:-4:-1])\n",
    "\n",
    "# reverse the whole list\n",
    "print(my_list[::-1])"
   ]
  },
  {
   "cell_type": "markdown",
   "metadata": {},
   "source": [
    "Note that indexing works on many other Python data types as well. For example you can also use indexing on strings."
   ]
  },
  {
   "cell_type": "code",
   "execution_count": 7,
   "metadata": {},
   "outputs": [
    {
     "name": "stdout",
     "output_type": "stream",
     "text": [
      "Bio\n"
     ]
    }
   ],
   "source": [
    "my_str = \"Biochemistry\"\n",
    "\n",
    "print(my_str[:3])"
   ]
  },
  {
   "cell_type": "markdown",
   "metadata": {},
   "source": [
    "#### Replacing values\n",
    "In contrast to strings, lists are mutable data types and you can modify them in-place after creating them. For example, you can simply replace list values by using the index operator and a reassignment."
   ]
  },
  {
   "cell_type": "code",
   "execution_count": 8,
   "metadata": {},
   "outputs": [
    {
     "name": "stdout",
     "output_type": "stream",
     "text": [
      "['A', 'B', 'C', 'D']\n",
      "['E', 'B', 'C', 'D']\n",
      "['E', 'F', 'G', 'H']\n"
     ]
    }
   ],
   "source": [
    "my_list = [\"A\", \"B\", \"C\", \"D\"]\n",
    "print(my_list)\n",
    "\n",
    "# reassign a single value\n",
    "my_list[0] = \"E\"\n",
    "print(my_list)\n",
    "\n",
    "# reassign multiple values\n",
    "my_list[1:] = [\"F\", \"G\", \"H\"]\n",
    "print(my_list)"
   ]
  },
  {
   "cell_type": "code",
   "execution_count": 9,
   "metadata": {},
   "outputs": [
    {
     "ename": "TypeError",
     "evalue": "'str' object does not support item assignment",
     "output_type": "error",
     "traceback": [
      "\u001b[0;31m---------------------------------------------------------------------------\u001b[0m",
      "\u001b[0;31mTypeError\u001b[0m                                 Traceback (most recent call last)",
      "\u001b[0;32m/var/folders/_t/9805sdsn1_9dqp8q8h2_s96w0000gn/T/ipykernel_36242/3643579121.py\u001b[0m in \u001b[0;36m<module>\u001b[0;34m\u001b[0m\n\u001b[1;32m      1\u001b[0m \u001b[0;31m# reassignment does not work with strings, because they are immutable\u001b[0m\u001b[0;34m\u001b[0m\u001b[0;34m\u001b[0m\u001b[0;34m\u001b[0m\u001b[0m\n\u001b[1;32m      2\u001b[0m \u001b[0mmy_str\u001b[0m \u001b[0;34m=\u001b[0m \u001b[0;34m\"ABCD\"\u001b[0m\u001b[0;34m\u001b[0m\u001b[0;34m\u001b[0m\u001b[0m\n\u001b[0;32m----> 3\u001b[0;31m \u001b[0mmy_str\u001b[0m\u001b[0;34m[\u001b[0m\u001b[0;36m0\u001b[0m\u001b[0;34m]\u001b[0m \u001b[0;34m=\u001b[0m \u001b[0;34m\"Z\"\u001b[0m\u001b[0;34m\u001b[0m\u001b[0;34m\u001b[0m\u001b[0m\n\u001b[0m",
      "\u001b[0;31mTypeError\u001b[0m: 'str' object does not support item assignment"
     ]
    }
   ],
   "source": [
    "# reassignment does not work with strings, because they are immutable\n",
    "my_str = \"ABCD\"\n",
    "my_str[0] = \"Z\""
   ]
  },
  {
   "cell_type": "markdown",
   "metadata": {},
   "source": [
    "#### Concatenation operators\n",
    "Quite similar to strings, lists can be concatenated or repeated using the `+` and `*` operators."
   ]
  },
  {
   "cell_type": "code",
   "execution_count": 10,
   "metadata": {},
   "outputs": [
    {
     "name": "stdout",
     "output_type": "stream",
     "text": [
      "[1, 2, 3, 4, 5, 6]\n",
      "[1, 2, 3, 1, 2, 3, 1, 2, 3]\n"
     ]
    }
   ],
   "source": [
    "list_1 = [1, 2, 3]\n",
    "list_2 = [4, 5, 6]\n",
    "\n",
    "print(list_1 + list_2) # concatenation\n",
    "print(list_1 * 3)      # repetition"
   ]
  },
  {
   "cell_type": "markdown",
   "metadata": {},
   "source": [
    "#### List functions and methods\n",
    "Python comes with many different functions and methods for working with lists. You already know the `len()` function and the `in` operator from our previous section on strings, and you can use them on lists as well."
   ]
  },
  {
   "cell_type": "code",
   "execution_count": 11,
   "metadata": {},
   "outputs": [
    {
     "name": "stdout",
     "output_type": "stream",
     "text": [
      "3\n",
      "False\n"
     ]
    }
   ],
   "source": [
    "my_list = [\"A\", \"B\", \"C\"]\n",
    "\n",
    "print(len(my_list))\n",
    "print(\"D\" in my_list)"
   ]
  },
  {
   "cell_type": "markdown",
   "metadata": {},
   "source": [
    "To append a single value to the end of a list, you can use the `append()` method. To append multiple values, you can use the `extend()` method or the `+` operator that we've already seen. Note that both `append()` and `extend()` will modify your list in-place instead of returning a copy."
   ]
  },
  {
   "cell_type": "code",
   "execution_count": 12,
   "metadata": {},
   "outputs": [
    {
     "name": "stdout",
     "output_type": "stream",
     "text": [
      "[1, 2, 3, 4]\n",
      "[1, 2, 3, 4, 5]\n",
      "[1, 2, 3, 4, 5, 6, 7, 8]\n"
     ]
    }
   ],
   "source": [
    "my_list = [1, 2, 3, 4]\n",
    "print(my_list)\n",
    "\n",
    "my_list.append(5)\n",
    "print(my_list)\n",
    "\n",
    "my_list.extend([6, 7, 8])\n",
    "print(my_list)"
   ]
  },
  {
   "cell_type": "markdown",
   "metadata": {},
   "source": [
    "With the `insert()` method you can insert a single value at a specified index. The syntax here is `insert(index, value)`."
   ]
  },
  {
   "cell_type": "code",
   "execution_count": 13,
   "metadata": {},
   "outputs": [
    {
     "name": "stdout",
     "output_type": "stream",
     "text": [
      "[1, 2, 4, 5]\n",
      "[1, 2, 3, 4, 5]\n"
     ]
    }
   ],
   "source": [
    "my_list = [1, 2, 4, 5]\n",
    "print(my_list)\n",
    "\n",
    "# insert value 3 at index 2\n",
    "my_list.insert(2, 3)\n",
    "print(my_list)"
   ]
  },
  {
   "cell_type": "markdown",
   "metadata": {},
   "source": [
    "Now that we've introduced quite a few ways to insert or append values to lists, we can also look at the two methods for removing values: `remove()` and `pop()`. `remove()` removes the first occurence of a specific value in a list and `pop()` removes a value at a certain index. A useful property of `pop()` is that it also returns the value that it removed, so you can catch it in a variable."
   ]
  },
  {
   "cell_type": "code",
   "execution_count": 14,
   "metadata": {},
   "outputs": [
    {
     "name": "stdout",
     "output_type": "stream",
     "text": [
      "['Anna', 'Sophie', 'Peter', 'James', 'Peter']\n",
      "['Anna', 'Sophie', 'James', 'Peter']\n",
      "The removed name was \"Anna\"\n"
     ]
    }
   ],
   "source": [
    "names = [\"Anna\", \"Sophie\", \"Peter\", \"James\", \"Peter\"]\n",
    "print(names)\n",
    "\n",
    "# remove the first occurence of \"Peter\"\n",
    "names.remove(\"Peter\")\n",
    "print(names)\n",
    "\n",
    "# remove the value at index 0 and catch it in a variable\n",
    "removed_name = names.pop(0)\n",
    "print(f'The removed name was \"{removed_name}\"')\n"
   ]
  },
  {
   "cell_type": "markdown",
   "metadata": {},
   "source": [
    "The last useful methods are `count()` and `index()`. You already know `count()` from strings and is has a similar implementation for lists. The `index()` function returns the index of the first occurence of a value in a list."
   ]
  },
  {
   "cell_type": "code",
   "execution_count": 15,
   "metadata": {},
   "outputs": [
    {
     "name": "stdout",
     "output_type": "stream",
     "text": [
      "2\n",
      "3\n"
     ]
    }
   ],
   "source": [
    "names = [\"Anna\", \"Sophie\", \"Peter\", \"James\", \"Peter\"]\n",
    "\n",
    "# print how often the value \"Peter\" occurs in the list\n",
    "print(names.count(\"Peter\"))\n",
    "\n",
    "# print the index of the first occurence of \"James\"\n",
    "print(names.index(\"James\"))"
   ]
  },
  {
   "cell_type": "markdown",
   "metadata": {},
   "source": [
    "#### Lists and strings\n",
    "Strings can be converted into a list of characters using the `list()` function. When dealing with string data like sequences, you will often have to convert them into lists for editing (remember: strings are immutable)."
   ]
  },
  {
   "cell_type": "code",
   "execution_count": 16,
   "metadata": {},
   "outputs": [
    {
     "name": "stdout",
     "output_type": "stream",
     "text": [
      "['A', 'B', 'C', 'D', 'E', 'F', 'G']\n"
     ]
    }
   ],
   "source": [
    "# convert a string into a list of characters\n",
    "my_list = list(\"ABCDEFG\")\n",
    "\n",
    "print(my_list)"
   ]
  },
  {
   "cell_type": "markdown",
   "metadata": {},
   "source": [
    "Of course, you then also need a way to convert a list back to a string. This is done with the string method `.join()`, which follows the syntax `\"separator\".join(my_list)`. The separator string will control how the values are separated. If you want no separator, simply use the empty string \"\"."
   ]
  },
  {
   "cell_type": "code",
   "execution_count": 17,
   "metadata": {},
   "outputs": [
    {
     "name": "stdout",
     "output_type": "stream",
     "text": [
      "ABCDEFG\n",
      "A..B..C..D..E..F..G\n"
     ]
    }
   ],
   "source": [
    "# convert the list back into a string\n",
    "my_str = \"\".join(my_list)\n",
    "print(my_str)\n",
    "\n",
    "# use a different separator\n",
    "my_str = \"..\".join(my_list)\n",
    "print(my_str)"
   ]
  },
  {
   "cell_type": "markdown",
   "metadata": {},
   "source": [
    "#### Tuples\n",
    "In this last section, we will briefly have a look at the `tuple` data type. Tuples are typically defined using parentheses `()` and behave like lists, with the exception that they are immutable like strings. Like a list, you can put all kinds of Python objects into a tuple and access values with the index operator, but you cannot replace values or append to a tuple."
   ]
  },
  {
   "cell_type": "code",
   "execution_count": 18,
   "metadata": {},
   "outputs": [
    {
     "name": "stdout",
     "output_type": "stream",
     "text": [
      "('B', 1, 2, 3)\n"
     ]
    },
    {
     "ename": "TypeError",
     "evalue": "'tuple' object does not support item assignment",
     "output_type": "error",
     "traceback": [
      "\u001b[0;31m---------------------------------------------------------------------------\u001b[0m",
      "\u001b[0;31mTypeError\u001b[0m                                 Traceback (most recent call last)",
      "\u001b[0;32m/var/folders/_t/9805sdsn1_9dqp8q8h2_s96w0000gn/T/ipykernel_36242/3524729452.py\u001b[0m in \u001b[0;36m<module>\u001b[0;34m\u001b[0m\n\u001b[1;32m      5\u001b[0m \u001b[0;34m\u001b[0m\u001b[0m\n\u001b[1;32m      6\u001b[0m \u001b[0;31m# value assignment is not supported\u001b[0m\u001b[0;34m\u001b[0m\u001b[0;34m\u001b[0m\u001b[0;34m\u001b[0m\u001b[0m\n\u001b[0;32m----> 7\u001b[0;31m \u001b[0mmy_tuple\u001b[0m\u001b[0;34m[\u001b[0m\u001b[0;36m0\u001b[0m\u001b[0;34m]\u001b[0m \u001b[0;34m=\u001b[0m \u001b[0;34m\"C\"\u001b[0m\u001b[0;34m\u001b[0m\u001b[0;34m\u001b[0m\u001b[0m\n\u001b[0m",
      "\u001b[0;31mTypeError\u001b[0m: 'tuple' object does not support item assignment"
     ]
    }
   ],
   "source": [
    "my_tuple = (\"A\", \"B\", 1, 2, 3)\n",
    "\n",
    "# indexing works normally\n",
    "print(my_tuple[1:])\n",
    "\n",
    "# value assignment is not supported\n",
    "my_tuple[0] = \"C\""
   ]
  },
  {
   "cell_type": "markdown",
   "metadata": {},
   "source": [
    "This immutability makes tuples a little more efficient under the hood, so the best practice is to always use them instead of a list if you are not planning to change any of the values. This only starts to matter for very computationally expensive code, so feel free to not worry so much about using tuples for this course."
   ]
  }
 ],
 "metadata": {
  "kernelspec": {
   "display_name": "Python 3.9.5 ('datasc_env')",
   "language": "python",
   "name": "python3"
  },
  "language_info": {
   "codemirror_mode": {
    "name": "ipython",
    "version": 3
   },
   "file_extension": ".py",
   "mimetype": "text/x-python",
   "name": "python",
   "nbconvert_exporter": "python",
   "pygments_lexer": "ipython3",
   "version": "3.9.5"
  },
  "orig_nbformat": 4,
  "vscode": {
   "interpreter": {
    "hash": "c025937d97e0e149ce13ed0bd2bfa6a8fad0c4244df406043466a1c56deaaf81"
   }
  }
 },
 "nbformat": 4,
 "nbformat_minor": 2
}
