{
 "cells": [
  {
   "cell_type": "markdown",
   "metadata": {},
   "source": [
    "# Dictionaries\n",
    "Lukas Jarosch\n",
    "\n",
    "### Definition\n",
    "In addition to lists and tuples, **dictionaries** are another built-in collection data type in Python. Like lists and tuples, they can hold any kind of Python objects, but the important difference is that you access values using a custom **key** instead of an index. This can make dictionaries much more readable for data where each field represents some interpretable attribute. Dictionaries are defined using curly brackets `{}` and you separate keys and values with a colon `:`"
   ]
  },
  {
   "cell_type": "code",
   "execution_count": 1,
   "metadata": {},
   "outputs": [
    {
     "data": {
      "text/plain": [
       "{'name': 'Peter',\n",
       " 'age': 32,\n",
       " 'courses': ['Biochemistry', 'Python for Scientists']}"
      ]
     },
     "execution_count": 1,
     "metadata": {},
     "output_type": "execute_result"
    }
   ],
   "source": [
    "student = {\"name\": \"Peter\", \"age\": 32, \"courses\": [\"Biochemistry\", \"Python for Scientists\"]}\n",
    "student"
   ]
  },
  {
   "cell_type": "markdown",
   "metadata": {},
   "source": [
    "While dictionary values can be any kind of objects, keys have to be **immutable** objects. Therefore, you could for example not use a `list` as key, as lists are a mutable data type. In practice, you will probably use string keys most of the time anyway."
   ]
  },
  {
   "cell_type": "code",
   "execution_count": 2,
   "metadata": {},
   "outputs": [
    {
     "name": "stdout",
     "output_type": "stream",
     "text": [
      "{1: 'A', 1.5: 'B', False: 'C', 'X': 'D', (1, 2, 3): 'E'}\n"
     ]
    },
    {
     "ename": "TypeError",
     "evalue": "unhashable type: 'list'",
     "output_type": "error",
     "traceback": [
      "\u001b[0;31m---------------------------------------------------------------------------\u001b[0m",
      "\u001b[0;31mTypeError\u001b[0m                                 Traceback (most recent call last)",
      "\u001b[1;32m/Users/jarosch/Library/CloudStorage/OneDrive-Personal/Studium/Master/Python for Scientists/Code/python_for_scientists/notebooks/05_dictionaries.ipynb Cell 4\u001b[0m in \u001b[0;36m<cell line: 6>\u001b[0;34m()\u001b[0m\n\u001b[1;32m      <a href='vscode-notebook-cell:/Users/jarosch/Library/CloudStorage/OneDrive-Personal/Studium/Master/Python%20for%20Scientists/Code/python_for_scientists/notebooks/05_dictionaries.ipynb#W4sZmlsZQ%3D%3D?line=2'>3</a>\u001b[0m \u001b[39mprint\u001b[39m(my_dict)\n\u001b[1;32m      <a href='vscode-notebook-cell:/Users/jarosch/Library/CloudStorage/OneDrive-Personal/Studium/Master/Python%20for%20Scientists/Code/python_for_scientists/notebooks/05_dictionaries.ipynb#W4sZmlsZQ%3D%3D?line=4'>5</a>\u001b[0m \u001b[39m# lists do not work as keys\u001b[39;00m\n\u001b[0;32m----> <a href='vscode-notebook-cell:/Users/jarosch/Library/CloudStorage/OneDrive-Personal/Studium/Master/Python%20for%20Scientists/Code/python_for_scientists/notebooks/05_dictionaries.ipynb#W4sZmlsZQ%3D%3D?line=5'>6</a>\u001b[0m my_dict \u001b[39m=\u001b[39m {[\u001b[39m1\u001b[39m, \u001b[39m2\u001b[39m, \u001b[39m3\u001b[39m]: \u001b[39m\"\u001b[39m\u001b[39mA\u001b[39m\u001b[39m\"\u001b[39m}\n",
      "\u001b[0;31mTypeError\u001b[0m: unhashable type: 'list'"
     ]
    }
   ],
   "source": [
    "# ints, floats, bools, and tuples all work as keys\n",
    "my_dict = {1: \"A\", 1.5: \"B\", False: \"C\", \"X\": \"D\", (1, 2, 3): \"E\"}\n",
    "print(my_dict)\n",
    "\n",
    "# lists do not work as keys\n",
    "my_dict = {[1, 2, 3]: \"A\"}"
   ]
  },
  {
   "cell_type": "markdown",
   "metadata": {},
   "source": [
    "### Accessing and assigning values\n",
    "You can get dictionary values using the index operator `[]` with your respective key:"
   ]
  },
  {
   "cell_type": "code",
   "execution_count": null,
   "metadata": {},
   "outputs": [
    {
     "data": {
      "text/plain": [
       "'Peter'"
      ]
     },
     "execution_count": 3,
     "metadata": {},
     "output_type": "execute_result"
    }
   ],
   "source": [
    "student = {\"name\": \"Peter\", \"age\": 23, \"courses\": [\"Biochemistry\", \"Python for Scientists\"]}\n",
    "student[\"name\"]"
   ]
  },
  {
   "cell_type": "markdown",
   "metadata": {},
   "source": [
    "Non-existing keys will raise a `KeyError`."
   ]
  },
  {
   "cell_type": "code",
   "execution_count": 3,
   "metadata": {},
   "outputs": [
    {
     "ename": "KeyError",
     "evalue": "'last name'",
     "output_type": "error",
     "traceback": [
      "\u001b[0;31m---------------------------------------------------------------------------\u001b[0m",
      "\u001b[0;31mKeyError\u001b[0m                                  Traceback (most recent call last)",
      "\u001b[1;32m/Users/jarosch/Library/CloudStorage/OneDrive-Personal/Studium/Master/Python for Scientists/Code/python_for_scientists/notebooks/05_dictionaries.ipynb Cell 8\u001b[0m in \u001b[0;36m<cell line: 1>\u001b[0;34m()\u001b[0m\n\u001b[0;32m----> <a href='vscode-notebook-cell:/Users/jarosch/Library/CloudStorage/OneDrive-Personal/Studium/Master/Python%20for%20Scientists/Code/python_for_scientists/notebooks/05_dictionaries.ipynb#X45sZmlsZQ%3D%3D?line=0'>1</a>\u001b[0m student[\u001b[39m\"\u001b[39;49m\u001b[39mlast name\u001b[39;49m\u001b[39m\"\u001b[39;49m]\n",
      "\u001b[0;31mKeyError\u001b[0m: 'last name'"
     ]
    }
   ],
   "source": [
    "student[\"last name\"]"
   ]
  },
  {
   "cell_type": "markdown",
   "metadata": {},
   "source": [
    "Similarly to lists, we can do assignment with the index operator and create a new key-value pair:"
   ]
  },
  {
   "cell_type": "code",
   "execution_count": 4,
   "metadata": {},
   "outputs": [
    {
     "data": {
      "text/plain": [
       "{'name': 'Peter',\n",
       " 'age': 32,\n",
       " 'courses': ['Biochemistry', 'Python for Scientists'],\n",
       " 'semester': 'WS 22/23'}"
      ]
     },
     "execution_count": 4,
     "metadata": {},
     "output_type": "execute_result"
    }
   ],
   "source": [
    "student[\"semester\"] = \"WS 22/23\"\n",
    "student"
   ]
  },
  {
   "cell_type": "markdown",
   "metadata": {},
   "source": [
    "You can't use slicing with dictionaries but if you want to get multiple values in one call you could for example use a loop or list comprehension:"
   ]
  },
  {
   "cell_type": "code",
   "execution_count": 5,
   "metadata": {},
   "outputs": [
    {
     "data": {
      "text/plain": [
       "[32, 'WS 22/23', ['Biochemistry', 'Python for Scientists']]"
      ]
     },
     "execution_count": 5,
     "metadata": {},
     "output_type": "execute_result"
    }
   ],
   "source": [
    "keys = [\"age\", \"semester\", \"courses\"]\n",
    "\n",
    "# get the values for each key and put them into a list\n",
    "values = [student[key] for key in keys]\n",
    "values"
   ]
  },
  {
   "cell_type": "markdown",
   "metadata": {},
   "source": [
    "### More ways to create dictionaries\n",
    "If you already have some iterable (like a list or a tuple) containing key-value pairs, you can directly convert that into a dictionary with the `dict()` function."
   ]
  },
  {
   "cell_type": "code",
   "execution_count": 6,
   "metadata": {},
   "outputs": [
    {
     "data": {
      "text/plain": [
       "{'name': 'Peter', 'age': 23}"
      ]
     },
     "execution_count": 6,
     "metadata": {},
     "output_type": "execute_result"
    }
   ],
   "source": [
    "key_value_pairs = [[\"name\", \"Peter\"], [\"age\", 23]]\n",
    "\n",
    "dict(key_value_pairs)"
   ]
  },
  {
   "cell_type": "markdown",
   "metadata": {},
   "source": [
    "More often though, your keys and values might be stored in separate iterables. In such a case, you can use the `zip()` function that you've already seen in the chapter on loops:"
   ]
  },
  {
   "cell_type": "code",
   "execution_count": 7,
   "metadata": {},
   "outputs": [
    {
     "data": {
      "text/plain": [
       "{'name': 'Peter', 'age': 23}"
      ]
     },
     "execution_count": 7,
     "metadata": {},
     "output_type": "execute_result"
    }
   ],
   "source": [
    "keys = [\"name\", \"age\"]\n",
    "values = [\"Peter\", 23]\n",
    "\n",
    "dict(zip(keys, values))"
   ]
  },
  {
   "cell_type": "markdown",
   "metadata": {},
   "source": [
    "Similar to list comprehensions, there are also dictionary comprehensions:"
   ]
  },
  {
   "cell_type": "code",
   "execution_count": 8,
   "metadata": {},
   "outputs": [
    {
     "data": {
      "text/plain": [
       "{1: 1, 2: 4, 3: 9, 4: 16, 5: 25}"
      ]
     },
     "execution_count": 8,
     "metadata": {},
     "output_type": "execute_result"
    }
   ],
   "source": [
    "# create a dictionary that maps numbers to their squared value\n",
    "numbers = [1, 2, 3, 4, 5]\n",
    "\n",
    "square_dict = {num: num**2 for num in numbers}\n",
    "square_dict"
   ]
  },
  {
   "cell_type": "markdown",
   "metadata": {},
   "source": [
    "### Dictionary methods\n",
    "The `len()` function and the `in` operator that we know from the string and list sections also work on dictionaries. Note that `in` in this case only tests if a value is contained in the dictionary keys while ignoring the values."
   ]
  },
  {
   "cell_type": "code",
   "execution_count": 9,
   "metadata": {},
   "outputs": [
    {
     "name": "stdout",
     "output_type": "stream",
     "text": [
      "3\n",
      "True\n",
      "False\n"
     ]
    }
   ],
   "source": [
    "student = {\"name\": \"Sarah\", \"age\": 21, \"courses\": [\"Maths\", \"Chemistry\"]}\n",
    "\n",
    "print(len(student))\n",
    "print(\"name\" in student)\n",
    "print(\"Sarah\" in student) # <- in looks at keys not values"
   ]
  },
  {
   "cell_type": "markdown",
   "metadata": {},
   "source": [
    "A useful method for accessing values is the `get()` method. The difference of `get()` compared to regular indexing is that it will not throw an error if the key doesn't exist but will instead fall back to a default value. By default, this is the `None` type but you can change this to any value. "
   ]
  },
  {
   "cell_type": "code",
   "execution_count": 10,
   "metadata": {},
   "outputs": [
    {
     "name": "stdout",
     "output_type": "stream",
     "text": [
      "['Maths', 'Chemistry']\n",
      "None\n",
      "unknown\n",
      "Sarah\n"
     ]
    }
   ],
   "source": [
    "# this works like normal indexing\n",
    "print(student.get(\"courses\"))\n",
    "\n",
    "# this returns None\n",
    "print(student.get(\"last name\"))\n",
    "\n",
    "# set a custom default\n",
    "print(student.get(\"last name\", \"unknown\"))\n",
    "print(student.get(\"name\", \"unknown\"))"
   ]
  },
  {
   "cell_type": "markdown",
   "metadata": {},
   "source": [
    "To remove key-value pairs from a dictionary, you can use the `pop()` method with the respective key. Like `pop()` for lists, this will also return the removed value which you can catch in a variable."
   ]
  },
  {
   "cell_type": "code",
   "execution_count": 11,
   "metadata": {},
   "outputs": [
    {
     "name": "stdout",
     "output_type": "stream",
     "text": [
      "{'name': 'Anna', 'courses': ['Literature', 'History']}\n",
      "22\n"
     ]
    }
   ],
   "source": [
    "student = {\"name\": \"Anna\", \"age\": 22, \"courses\": [\"Literature\", \"History\"]}\n",
    "\n",
    "removed_value = student.pop(\"age\")\n",
    "\n",
    "print(student)\n",
    "print(removed_value)"
   ]
  },
  {
   "cell_type": "markdown",
   "metadata": {},
   "source": [
    "You can also merge two dictionaries with the `update()` method. In the case of overlapping keys, the dictionary within the `update()` function will take precedence and overwrite the values in the other dictionary."
   ]
  },
  {
   "cell_type": "code",
   "execution_count": 12,
   "metadata": {},
   "outputs": [
    {
     "data": {
      "text/plain": [
       "{'name': 'Sarah',\n",
       " 'age': 22,\n",
       " 'courses': ['Maths', 'Chemistry'],\n",
       " 'semester': 'WS 22/23'}"
      ]
     },
     "execution_count": 12,
     "metadata": {},
     "output_type": "execute_result"
    }
   ],
   "source": [
    "student = {\"name\": \"Sarah\", \"age\": 21, \"courses\": [\"Maths\", \"Chemistry\"]}\n",
    "new_info = {\"age\": 22, \"semester\": \"WS 22/23\"}\n",
    "\n",
    "# update student dict with new info\n",
    "student.update(new_info)\n",
    "\n",
    "student"
   ]
  },
  {
   "cell_type": "markdown",
   "metadata": {},
   "source": [
    "To get the keys or values of a dictionary you can use the `keys()` and `values()` methods."
   ]
  },
  {
   "cell_type": "code",
   "execution_count": 13,
   "metadata": {},
   "outputs": [
    {
     "name": "stdout",
     "output_type": "stream",
     "text": [
      "dict_keys(['name', 'age', 'courses'])\n",
      "dict_values(['Tom', 22, ['Engineering', 'Physics']])\n"
     ]
    }
   ],
   "source": [
    "student = {\"name\": \"Tom\", \"age\": 22, \"courses\": [\"Engineering\", \"Physics\"]}\n",
    "\n",
    "print(student.keys())\n",
    "print(student.values())"
   ]
  },
  {
   "cell_type": "markdown",
   "metadata": {},
   "source": [
    "It is also possible to get an iterable with the key-value pairs using the `items()` method."
   ]
  },
  {
   "cell_type": "code",
   "execution_count": 14,
   "metadata": {},
   "outputs": [
    {
     "data": {
      "text/plain": [
       "dict_items([('name', 'Tom'), ('age', 22), ('courses', ['Engineering', 'Physics'])])"
      ]
     },
     "execution_count": 14,
     "metadata": {},
     "output_type": "execute_result"
    }
   ],
   "source": [
    "student.items()"
   ]
  },
  {
   "cell_type": "markdown",
   "metadata": {},
   "source": [
    "This is useful for iterating through dictionaries, as the default iteration will only return the keys."
   ]
  },
  {
   "cell_type": "code",
   "execution_count": 15,
   "metadata": {},
   "outputs": [
    {
     "name": "stdout",
     "output_type": "stream",
     "text": [
      "name\n",
      "age\n",
      "courses\n",
      "name Tom\n",
      "age 22\n",
      "courses ['Engineering', 'Physics']\n"
     ]
    }
   ],
   "source": [
    "# default iteration only returns keys\n",
    "for key in student:\n",
    "    print(key)\n",
    "    \n",
    "# .items() enables accessing both keys and values in iteration\n",
    "for key, val in student.items():\n",
    "    print(key, val)"
   ]
  }
 ],
 "metadata": {
  "kernelspec": {
   "display_name": "Python 3.10.4 ('proteinbio_env')",
   "language": "python",
   "name": "python3"
  },
  "language_info": {
   "codemirror_mode": {
    "name": "ipython",
    "version": 3
   },
   "file_extension": ".py",
   "mimetype": "text/x-python",
   "name": "python",
   "nbconvert_exporter": "python",
   "pygments_lexer": "ipython3",
   "version": "3.10.4"
  },
  "orig_nbformat": 4,
  "vscode": {
   "interpreter": {
    "hash": "c35012593eedd7f76c551c78df9c594579f9f1e7079315917368440f384e885c"
   }
  }
 },
 "nbformat": 4,
 "nbformat_minor": 2
}
