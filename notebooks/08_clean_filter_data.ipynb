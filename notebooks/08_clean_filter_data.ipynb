{
  "cells": [
    {
      "cell_type": "markdown",
      "metadata": {
        "colab_type": "text",
        "id": "view-in-github"
      },
      "source": [
        "<a href=\"https://colab.research.google.com/github/kdidi99/Python_for_Biochemists/blob/main/notebooks/day_3_data_analysis_2.ipynb\" target=\"_parent\"><img src=\"https://colab.research.google.com/assets/colab-badge.svg\" alt=\"Open In Colab\"/></a>"
      ]
    },
    {
      "cell_type": "markdown",
      "metadata": {
        "id": "_5Nw5RKQpPhb"
      },
      "source": [
        "## Cleaning data, copies vs views"
      ]
    },
    {
      "cell_type": "markdown",
      "metadata": {
        "id": "ORgqMvk5tU8Y"
      },
      "source": [
        "Data in the real world is often messy; therefore cleaning is an important part of every analysis."
      ]
    },
    {
      "cell_type": "code",
      "execution_count": 2,
      "metadata": {
        "id": "z2AmHsgmtVWD"
      },
      "outputs": [],
      "source": [
        "import numpy as np\n",
        "import pandas as pd"
      ]
    },
    {
      "cell_type": "markdown",
      "metadata": {
        "id": "qnwhhpcDtgqL"
      },
      "source": [
        "This tutorial is partially adopted from the one on the RealPython website (check this website out if you want to learn more about Python, it is awesome!)"
      ]
    },
    {
      "cell_type": "code",
      "execution_count": null,
      "metadata": {
        "id": "rD2wTUrZtg0L"
      },
      "outputs": [],
      "source": [
        "df = pd.read_csv('job_ads.csv') #looks horrible without header!\n",
        "df = pd.read_csv('job_ads.csv', header = 1)"
      ]
    },
    {
      "cell_type": "code",
      "execution_count": null,
      "metadata": {
        "colab": {
          "base_uri": "https://localhost:8080/",
          "height": 548
        },
        "id": "cpuLxHGvxiol",
        "outputId": "b2e4a067-d493-40c0-aec7-378f6559afdf"
      },
      "outputs": [
        {
          "data": {
            "text/html": [
              "\n",
              "  <div id=\"df-2942461a-4e06-4d2a-a465-fbf3b0d3b8bb\">\n",
              "    <div class=\"colab-df-container\">\n",
              "      <div>\n",
              "<style scoped>\n",
              "    .dataframe tbody tr th:only-of-type {\n",
              "        vertical-align: middle;\n",
              "    }\n",
              "\n",
              "    .dataframe tbody tr th {\n",
              "        vertical-align: top;\n",
              "    }\n",
              "\n",
              "    .dataframe thead th {\n",
              "        text-align: right;\n",
              "    }\n",
              "</style>\n",
              "<table border=\"1\" class=\"dataframe\">\n",
              "  <thead>\n",
              "    <tr style=\"text-align: right;\">\n",
              "      <th></th>\n",
              "      <th>country</th>\n",
              "      <th>country_code</th>\n",
              "      <th>date_added</th>\n",
              "      <th>has_expired</th>\n",
              "      <th>job_board</th>\n",
              "      <th>job_description</th>\n",
              "      <th>job_title</th>\n",
              "      <th>job_type</th>\n",
              "      <th>location</th>\n",
              "      <th>organization</th>\n",
              "      <th>page_url</th>\n",
              "      <th>salary</th>\n",
              "      <th>sector</th>\n",
              "      <th>uniq_id</th>\n",
              "    </tr>\n",
              "  </thead>\n",
              "  <tbody>\n",
              "    <tr>\n",
              "      <th>0</th>\n",
              "      <td>United States of America</td>\n",
              "      <td>US</td>\n",
              "      <td>NaN</td>\n",
              "      <td>No</td>\n",
              "      <td>jobs.monster.com</td>\n",
              "      <td>The Wisconsin State Journal is seeking a flexi...</td>\n",
              "      <td>Business Reporter/Editor Job in Madison</td>\n",
              "      <td>Full Time</td>\n",
              "      <td>Madison, WI 53708</td>\n",
              "      <td>Printing and Publishing</td>\n",
              "      <td>http://jobview.monster.com/business-reporter-e...</td>\n",
              "      <td>NaN</td>\n",
              "      <td>NaN</td>\n",
              "      <td>e4cbb126dabf22159aff90223243ff2a</td>\n",
              "    </tr>\n",
              "    <tr>\n",
              "      <th>1</th>\n",
              "      <td>United States of America</td>\n",
              "      <td>US</td>\n",
              "      <td>NaN</td>\n",
              "      <td>No</td>\n",
              "      <td>jobs.monster.com</td>\n",
              "      <td>Report this job About the Job DePuy Synthes Co...</td>\n",
              "      <td>Johnson &amp; Johnson Family of Companies Job Appl...</td>\n",
              "      <td>Full Time, Employee</td>\n",
              "      <td>DePuy Synthes Companies is a member of Johnson...</td>\n",
              "      <td>Personal and Household Services</td>\n",
              "      <td>http://jobview.monster.com/senior-training-lea...</td>\n",
              "      <td>NaN</td>\n",
              "      <td>NaN</td>\n",
              "      <td>839106b353877fa3d896ffb9c1fe01c0</td>\n",
              "    </tr>\n",
              "    <tr>\n",
              "      <th>2</th>\n",
              "      <td>United States of America</td>\n",
              "      <td>US</td>\n",
              "      <td>NaN</td>\n",
              "      <td>No</td>\n",
              "      <td>jobs.monster.com</td>\n",
              "      <td>Why Join Altec? If you’re considering a career...</td>\n",
              "      <td>Engineer - Quality Job in Dixon</td>\n",
              "      <td>Full Time</td>\n",
              "      <td>Dixon, CA</td>\n",
              "      <td>Altec Industries</td>\n",
              "      <td>http://jobview.monster.com/engineer-quality-jo...</td>\n",
              "      <td>NaN</td>\n",
              "      <td>Experienced (Non-Manager)</td>\n",
              "      <td>58435fcab804439efdcaa7ecca0fd783</td>\n",
              "    </tr>\n",
              "    <tr>\n",
              "      <th>3</th>\n",
              "      <td>United States of America</td>\n",
              "      <td>US</td>\n",
              "      <td>NaN</td>\n",
              "      <td>No</td>\n",
              "      <td>jobs.monster.com</td>\n",
              "      <td>Position ID#  76162 # Positions  1 State  CT C...</td>\n",
              "      <td>Shift Supervisor - Part-Time Job in Camphill</td>\n",
              "      <td>Full Time Employee</td>\n",
              "      <td>Camphill, PA</td>\n",
              "      <td>Retail</td>\n",
              "      <td>http://jobview.monster.com/shift-supervisor-pa...</td>\n",
              "      <td>NaN</td>\n",
              "      <td>Project/Program Management</td>\n",
              "      <td>64d0272dc8496abfd9523a8df63c184c</td>\n",
              "    </tr>\n",
              "    <tr>\n",
              "      <th>4</th>\n",
              "      <td>United States of America</td>\n",
              "      <td>US</td>\n",
              "      <td>NaN</td>\n",
              "      <td>No</td>\n",
              "      <td>jobs.monster.com</td>\n",
              "      <td>Job Description Job #:  720298Apex Systems has...</td>\n",
              "      <td>Construction PM - Charlottesville Job in Charl...</td>\n",
              "      <td>Full Time Employee</td>\n",
              "      <td>Charlottesville, VA</td>\n",
              "      <td>Computer/IT Services</td>\n",
              "      <td>http://jobview.monster.com/construction-pm-cha...</td>\n",
              "      <td>NaN</td>\n",
              "      <td>Experienced (Non-Manager)</td>\n",
              "      <td>1e2637cb5f7a2c4615a99a26c0566c66</td>\n",
              "    </tr>\n",
              "  </tbody>\n",
              "</table>\n",
              "</div>\n",
              "      <button class=\"colab-df-convert\" onclick=\"convertToInteractive('df-2942461a-4e06-4d2a-a465-fbf3b0d3b8bb')\"\n",
              "              title=\"Convert this dataframe to an interactive table.\"\n",
              "              style=\"display:none;\">\n",
              "        \n",
              "  <svg xmlns=\"http://www.w3.org/2000/svg\" height=\"24px\"viewBox=\"0 0 24 24\"\n",
              "       width=\"24px\">\n",
              "    <path d=\"M0 0h24v24H0V0z\" fill=\"none\"/>\n",
              "    <path d=\"M18.56 5.44l.94 2.06.94-2.06 2.06-.94-2.06-.94-.94-2.06-.94 2.06-2.06.94zm-11 1L8.5 8.5l.94-2.06 2.06-.94-2.06-.94L8.5 2.5l-.94 2.06-2.06.94zm10 10l.94 2.06.94-2.06 2.06-.94-2.06-.94-.94-2.06-.94 2.06-2.06.94z\"/><path d=\"M17.41 7.96l-1.37-1.37c-.4-.4-.92-.59-1.43-.59-.52 0-1.04.2-1.43.59L10.3 9.45l-7.72 7.72c-.78.78-.78 2.05 0 2.83L4 21.41c.39.39.9.59 1.41.59.51 0 1.02-.2 1.41-.59l7.78-7.78 2.81-2.81c.8-.78.8-2.07 0-2.86zM5.41 20L4 18.59l7.72-7.72 1.47 1.35L5.41 20z\"/>\n",
              "  </svg>\n",
              "      </button>\n",
              "      \n",
              "  <style>\n",
              "    .colab-df-container {\n",
              "      display:flex;\n",
              "      flex-wrap:wrap;\n",
              "      gap: 12px;\n",
              "    }\n",
              "\n",
              "    .colab-df-convert {\n",
              "      background-color: #E8F0FE;\n",
              "      border: none;\n",
              "      border-radius: 50%;\n",
              "      cursor: pointer;\n",
              "      display: none;\n",
              "      fill: #1967D2;\n",
              "      height: 32px;\n",
              "      padding: 0 0 0 0;\n",
              "      width: 32px;\n",
              "    }\n",
              "\n",
              "    .colab-df-convert:hover {\n",
              "      background-color: #E2EBFA;\n",
              "      box-shadow: 0px 1px 2px rgba(60, 64, 67, 0.3), 0px 1px 3px 1px rgba(60, 64, 67, 0.15);\n",
              "      fill: #174EA6;\n",
              "    }\n",
              "\n",
              "    [theme=dark] .colab-df-convert {\n",
              "      background-color: #3B4455;\n",
              "      fill: #D2E3FC;\n",
              "    }\n",
              "\n",
              "    [theme=dark] .colab-df-convert:hover {\n",
              "      background-color: #434B5C;\n",
              "      box-shadow: 0px 1px 3px 1px rgba(0, 0, 0, 0.15);\n",
              "      filter: drop-shadow(0px 1px 2px rgba(0, 0, 0, 0.3));\n",
              "      fill: #FFFFFF;\n",
              "    }\n",
              "  </style>\n",
              "\n",
              "      <script>\n",
              "        const buttonEl =\n",
              "          document.querySelector('#df-2942461a-4e06-4d2a-a465-fbf3b0d3b8bb button.colab-df-convert');\n",
              "        buttonEl.style.display =\n",
              "          google.colab.kernel.accessAllowed ? 'block' : 'none';\n",
              "\n",
              "        async function convertToInteractive(key) {\n",
              "          const element = document.querySelector('#df-2942461a-4e06-4d2a-a465-fbf3b0d3b8bb');\n",
              "          const dataTable =\n",
              "            await google.colab.kernel.invokeFunction('convertToInteractive',\n",
              "                                                     [key], {});\n",
              "          if (!dataTable) return;\n",
              "\n",
              "          const docLinkHtml = 'Like what you see? Visit the ' +\n",
              "            '<a target=\"_blank\" href=https://colab.research.google.com/notebooks/data_table.ipynb>data table notebook</a>'\n",
              "            + ' to learn more about interactive tables.';\n",
              "          element.innerHTML = '';\n",
              "          dataTable['output_type'] = 'display_data';\n",
              "          await google.colab.output.renderOutput(dataTable, element);\n",
              "          const docLink = document.createElement('div');\n",
              "          docLink.innerHTML = docLinkHtml;\n",
              "          element.appendChild(docLink);\n",
              "        }\n",
              "      </script>\n",
              "    </div>\n",
              "  </div>\n",
              "  "
            ],
            "text/plain": [
              "                    country country_code date_added has_expired  \\\n",
              "0  United States of America           US        NaN          No   \n",
              "1  United States of America           US        NaN          No   \n",
              "2  United States of America           US        NaN          No   \n",
              "3  United States of America           US        NaN          No   \n",
              "4  United States of America           US        NaN          No   \n",
              "\n",
              "          job_board                                    job_description  \\\n",
              "0  jobs.monster.com  The Wisconsin State Journal is seeking a flexi...   \n",
              "1  jobs.monster.com  Report this job About the Job DePuy Synthes Co...   \n",
              "2  jobs.monster.com  Why Join Altec? If you’re considering a career...   \n",
              "3  jobs.monster.com  Position ID#  76162 # Positions  1 State  CT C...   \n",
              "4  jobs.monster.com  Job Description Job #:  720298Apex Systems has...   \n",
              "\n",
              "                                           job_title             job_type  \\\n",
              "0            Business Reporter/Editor Job in Madison            Full Time   \n",
              "1  Johnson & Johnson Family of Companies Job Appl...  Full Time, Employee   \n",
              "2                    Engineer - Quality Job in Dixon            Full Time   \n",
              "3       Shift Supervisor - Part-Time Job in Camphill   Full Time Employee   \n",
              "4  Construction PM - Charlottesville Job in Charl...   Full Time Employee   \n",
              "\n",
              "                                            location  \\\n",
              "0                                  Madison, WI 53708   \n",
              "1  DePuy Synthes Companies is a member of Johnson...   \n",
              "2                                          Dixon, CA   \n",
              "3                                       Camphill, PA   \n",
              "4                                Charlottesville, VA   \n",
              "\n",
              "                      organization  \\\n",
              "0          Printing and Publishing   \n",
              "1  Personal and Household Services   \n",
              "2                 Altec Industries   \n",
              "3                           Retail   \n",
              "4             Computer/IT Services   \n",
              "\n",
              "                                            page_url salary  \\\n",
              "0  http://jobview.monster.com/business-reporter-e...    NaN   \n",
              "1  http://jobview.monster.com/senior-training-lea...    NaN   \n",
              "2  http://jobview.monster.com/engineer-quality-jo...    NaN   \n",
              "3  http://jobview.monster.com/shift-supervisor-pa...    NaN   \n",
              "4  http://jobview.monster.com/construction-pm-cha...    NaN   \n",
              "\n",
              "                       sector                           uniq_id  \n",
              "0                         NaN  e4cbb126dabf22159aff90223243ff2a  \n",
              "1                         NaN  839106b353877fa3d896ffb9c1fe01c0  \n",
              "2   Experienced (Non-Manager)  58435fcab804439efdcaa7ecca0fd783  \n",
              "3  Project/Program Management  64d0272dc8496abfd9523a8df63c184c  \n",
              "4   Experienced (Non-Manager)  1e2637cb5f7a2c4615a99a26c0566c66  "
            ]
          },
          "execution_count": 92,
          "metadata": {},
          "output_type": "execute_result"
        }
      ],
      "source": [
        "df.head()"
      ]
    },
    {
      "cell_type": "code",
      "execution_count": null,
      "metadata": {
        "colab": {
          "base_uri": "https://localhost:8080/"
        },
        "id": "hM5F1sxuxs8B",
        "outputId": "be989c5e-5096-47ff-98f8-2d692823d91c"
      },
      "outputs": [
        {
          "name": "stdout",
          "output_type": "stream",
          "text": [
            "<class 'pandas.core.frame.DataFrame'>\n",
            "RangeIndex: 7685 entries, 0 to 7684\n",
            "Data columns (total 14 columns):\n",
            " #   Column           Non-Null Count  Dtype \n",
            "---  ------           --------------  ----- \n",
            " 0   country          7685 non-null   object\n",
            " 1   country_code     7685 non-null   object\n",
            " 2   date_added       32 non-null     object\n",
            " 3   has_expired      7685 non-null   object\n",
            " 4   job_board        7685 non-null   object\n",
            " 5   job_description  7685 non-null   object\n",
            " 6   job_title        7685 non-null   object\n",
            " 7   job_type         6972 non-null   object\n",
            " 8   location         7685 non-null   object\n",
            " 9   organization     5012 non-null   object\n",
            " 10  page_url         7685 non-null   object\n",
            " 11  salary           1103 non-null   object\n",
            " 12  sector           5592 non-null   object\n",
            " 13  uniq_id          7685 non-null   object\n",
            "dtypes: object(14)\n",
            "memory usage: 840.7+ KB\n"
          ]
        }
      ],
      "source": [
        "df.info()"
      ]
    },
    {
      "cell_type": "code",
      "execution_count": null,
      "metadata": {
        "colab": {
          "base_uri": "https://localhost:8080/",
          "height": 291
        },
        "id": "1biPmt93zAc4",
        "outputId": "f0253b0d-578a-401f-b59d-4f84e6835ed4"
      },
      "outputs": [
        {
          "data": {
            "text/html": [
              "\n",
              "  <div id=\"df-393fe32f-9d17-44f4-a8f7-6a40a0ea1f59\">\n",
              "    <div class=\"colab-df-container\">\n",
              "      <div>\n",
              "<style scoped>\n",
              "    .dataframe tbody tr th:only-of-type {\n",
              "        vertical-align: middle;\n",
              "    }\n",
              "\n",
              "    .dataframe tbody tr th {\n",
              "        vertical-align: top;\n",
              "    }\n",
              "\n",
              "    .dataframe thead th {\n",
              "        text-align: right;\n",
              "    }\n",
              "</style>\n",
              "<table border=\"1\" class=\"dataframe\">\n",
              "  <thead>\n",
              "    <tr style=\"text-align: right;\">\n",
              "      <th></th>\n",
              "      <th>country</th>\n",
              "      <th>country_code</th>\n",
              "      <th>date_added</th>\n",
              "      <th>has_expired</th>\n",
              "      <th>job_board</th>\n",
              "      <th>job_description</th>\n",
              "      <th>job_title</th>\n",
              "      <th>job_type</th>\n",
              "      <th>location</th>\n",
              "      <th>organization</th>\n",
              "      <th>page_url</th>\n",
              "      <th>salary</th>\n",
              "      <th>sector</th>\n",
              "      <th>uniq_id</th>\n",
              "    </tr>\n",
              "  </thead>\n",
              "  <tbody>\n",
              "    <tr>\n",
              "      <th>count</th>\n",
              "      <td>7685</td>\n",
              "      <td>7685</td>\n",
              "      <td>32</td>\n",
              "      <td>7685</td>\n",
              "      <td>7685</td>\n",
              "      <td>7685</td>\n",
              "      <td>7685</td>\n",
              "      <td>6972</td>\n",
              "      <td>7685</td>\n",
              "      <td>5012</td>\n",
              "      <td>7685</td>\n",
              "      <td>1103</td>\n",
              "      <td>5592</td>\n",
              "      <td>7685</td>\n",
              "    </tr>\n",
              "    <tr>\n",
              "      <th>unique</th>\n",
              "      <td>1</td>\n",
              "      <td>1</td>\n",
              "      <td>24</td>\n",
              "      <td>1</td>\n",
              "      <td>1</td>\n",
              "      <td>6618</td>\n",
              "      <td>6847</td>\n",
              "      <td>32</td>\n",
              "      <td>3701</td>\n",
              "      <td>374</td>\n",
              "      <td>7685</td>\n",
              "      <td>704</td>\n",
              "      <td>103</td>\n",
              "      <td>7685</td>\n",
              "    </tr>\n",
              "    <tr>\n",
              "      <th>top</th>\n",
              "      <td>United States of America</td>\n",
              "      <td>US</td>\n",
              "      <td>9/22/2016</td>\n",
              "      <td>No</td>\n",
              "      <td>jobs.monster.com</td>\n",
              "      <td>12N Horizontal Construction Engineers Job Desc...</td>\n",
              "      <td>Monster</td>\n",
              "      <td>Full Time Employee</td>\n",
              "      <td>Columbus, OH</td>\n",
              "      <td>Healthcare Services</td>\n",
              "      <td>http://jobview.monster.com/it-support-technici...</td>\n",
              "      <td>50,000.00 - 60,000.00 $ /year</td>\n",
              "      <td>Experienced (Non-Manager)</td>\n",
              "      <td>11d599f229a80023d2f40e7c52cd941e</td>\n",
              "    </tr>\n",
              "    <tr>\n",
              "      <th>freq</th>\n",
              "      <td>7685</td>\n",
              "      <td>7685</td>\n",
              "      <td>2</td>\n",
              "      <td>7685</td>\n",
              "      <td>7685</td>\n",
              "      <td>104</td>\n",
              "      <td>120</td>\n",
              "      <td>2328</td>\n",
              "      <td>152</td>\n",
              "      <td>898</td>\n",
              "      <td>1</td>\n",
              "      <td>13</td>\n",
              "      <td>1469</td>\n",
              "      <td>1</td>\n",
              "    </tr>\n",
              "  </tbody>\n",
              "</table>\n",
              "</div>\n",
              "      <button class=\"colab-df-convert\" onclick=\"convertToInteractive('df-393fe32f-9d17-44f4-a8f7-6a40a0ea1f59')\"\n",
              "              title=\"Convert this dataframe to an interactive table.\"\n",
              "              style=\"display:none;\">\n",
              "        \n",
              "  <svg xmlns=\"http://www.w3.org/2000/svg\" height=\"24px\"viewBox=\"0 0 24 24\"\n",
              "       width=\"24px\">\n",
              "    <path d=\"M0 0h24v24H0V0z\" fill=\"none\"/>\n",
              "    <path d=\"M18.56 5.44l.94 2.06.94-2.06 2.06-.94-2.06-.94-.94-2.06-.94 2.06-2.06.94zm-11 1L8.5 8.5l.94-2.06 2.06-.94-2.06-.94L8.5 2.5l-.94 2.06-2.06.94zm10 10l.94 2.06.94-2.06 2.06-.94-2.06-.94-.94-2.06-.94 2.06-2.06.94z\"/><path d=\"M17.41 7.96l-1.37-1.37c-.4-.4-.92-.59-1.43-.59-.52 0-1.04.2-1.43.59L10.3 9.45l-7.72 7.72c-.78.78-.78 2.05 0 2.83L4 21.41c.39.39.9.59 1.41.59.51 0 1.02-.2 1.41-.59l7.78-7.78 2.81-2.81c.8-.78.8-2.07 0-2.86zM5.41 20L4 18.59l7.72-7.72 1.47 1.35L5.41 20z\"/>\n",
              "  </svg>\n",
              "      </button>\n",
              "      \n",
              "  <style>\n",
              "    .colab-df-container {\n",
              "      display:flex;\n",
              "      flex-wrap:wrap;\n",
              "      gap: 12px;\n",
              "    }\n",
              "\n",
              "    .colab-df-convert {\n",
              "      background-color: #E8F0FE;\n",
              "      border: none;\n",
              "      border-radius: 50%;\n",
              "      cursor: pointer;\n",
              "      display: none;\n",
              "      fill: #1967D2;\n",
              "      height: 32px;\n",
              "      padding: 0 0 0 0;\n",
              "      width: 32px;\n",
              "    }\n",
              "\n",
              "    .colab-df-convert:hover {\n",
              "      background-color: #E2EBFA;\n",
              "      box-shadow: 0px 1px 2px rgba(60, 64, 67, 0.3), 0px 1px 3px 1px rgba(60, 64, 67, 0.15);\n",
              "      fill: #174EA6;\n",
              "    }\n",
              "\n",
              "    [theme=dark] .colab-df-convert {\n",
              "      background-color: #3B4455;\n",
              "      fill: #D2E3FC;\n",
              "    }\n",
              "\n",
              "    [theme=dark] .colab-df-convert:hover {\n",
              "      background-color: #434B5C;\n",
              "      box-shadow: 0px 1px 3px 1px rgba(0, 0, 0, 0.15);\n",
              "      filter: drop-shadow(0px 1px 2px rgba(0, 0, 0, 0.3));\n",
              "      fill: #FFFFFF;\n",
              "    }\n",
              "  </style>\n",
              "\n",
              "      <script>\n",
              "        const buttonEl =\n",
              "          document.querySelector('#df-393fe32f-9d17-44f4-a8f7-6a40a0ea1f59 button.colab-df-convert');\n",
              "        buttonEl.style.display =\n",
              "          google.colab.kernel.accessAllowed ? 'block' : 'none';\n",
              "\n",
              "        async function convertToInteractive(key) {\n",
              "          const element = document.querySelector('#df-393fe32f-9d17-44f4-a8f7-6a40a0ea1f59');\n",
              "          const dataTable =\n",
              "            await google.colab.kernel.invokeFunction('convertToInteractive',\n",
              "                                                     [key], {});\n",
              "          if (!dataTable) return;\n",
              "\n",
              "          const docLinkHtml = 'Like what you see? Visit the ' +\n",
              "            '<a target=\"_blank\" href=https://colab.research.google.com/notebooks/data_table.ipynb>data table notebook</a>'\n",
              "            + ' to learn more about interactive tables.';\n",
              "          element.innerHTML = '';\n",
              "          dataTable['output_type'] = 'display_data';\n",
              "          await google.colab.output.renderOutput(dataTable, element);\n",
              "          const docLink = document.createElement('div');\n",
              "          docLink.innerHTML = docLinkHtml;\n",
              "          element.appendChild(docLink);\n",
              "        }\n",
              "      </script>\n",
              "    </div>\n",
              "  </div>\n",
              "  "
            ],
            "text/plain": [
              "                         country country_code date_added has_expired  \\\n",
              "count                       7685         7685         32        7685   \n",
              "unique                         1            1         24           1   \n",
              "top     United States of America           US  9/22/2016          No   \n",
              "freq                        7685         7685          2        7685   \n",
              "\n",
              "               job_board                                    job_description  \\\n",
              "count               7685                                               7685   \n",
              "unique                 1                                               6618   \n",
              "top     jobs.monster.com  12N Horizontal Construction Engineers Job Desc...   \n",
              "freq                7685                                                104   \n",
              "\n",
              "       job_title            job_type      location         organization  \\\n",
              "count       7685                6972          7685                 5012   \n",
              "unique      6847                  32          3701                  374   \n",
              "top      Monster  Full Time Employee  Columbus, OH  Healthcare Services   \n",
              "freq         120                2328           152                  898   \n",
              "\n",
              "                                                 page_url  \\\n",
              "count                                                7685   \n",
              "unique                                               7685   \n",
              "top     http://jobview.monster.com/it-support-technici...   \n",
              "freq                                                    1   \n",
              "\n",
              "                               salary                     sector  \\\n",
              "count                            1103                       5592   \n",
              "unique                            704                        103   \n",
              "top     50,000.00 - 60,000.00 $ /year  Experienced (Non-Manager)   \n",
              "freq                               13                       1469   \n",
              "\n",
              "                                 uniq_id  \n",
              "count                               7685  \n",
              "unique                              7685  \n",
              "top     11d599f229a80023d2f40e7c52cd941e  \n",
              "freq                                   1  "
            ]
          },
          "execution_count": 6,
          "metadata": {},
          "output_type": "execute_result"
        }
      ],
      "source": [
        "df.describe()"
      ]
    },
    {
      "cell_type": "markdown",
      "metadata": {
        "id": "fsie7UhezGbA"
      },
      "source": [
        "Some columns only have one value (country, country_code, has_expired, job_board). Those columns do not add any value, so we can remove them."
      ]
    },
    {
      "cell_type": "code",
      "execution_count": null,
      "metadata": {
        "colab": {
          "base_uri": "https://localhost:8080/",
          "height": 531
        },
        "id": "MaqVmdN4x2MR",
        "outputId": "70c0ea71-b91b-4b9b-ebf6-437d97f88b33"
      },
      "outputs": [
        {
          "data": {
            "text/html": [
              "\n",
              "  <div id=\"df-726c5d2c-3cb7-438f-8139-cb142b1c199c\">\n",
              "    <div class=\"colab-df-container\">\n",
              "      <div>\n",
              "<style scoped>\n",
              "    .dataframe tbody tr th:only-of-type {\n",
              "        vertical-align: middle;\n",
              "    }\n",
              "\n",
              "    .dataframe tbody tr th {\n",
              "        vertical-align: top;\n",
              "    }\n",
              "\n",
              "    .dataframe thead th {\n",
              "        text-align: right;\n",
              "    }\n",
              "</style>\n",
              "<table border=\"1\" class=\"dataframe\">\n",
              "  <thead>\n",
              "    <tr style=\"text-align: right;\">\n",
              "      <th></th>\n",
              "      <th>date_added</th>\n",
              "      <th>job_description</th>\n",
              "      <th>job_title</th>\n",
              "      <th>job_type</th>\n",
              "      <th>location</th>\n",
              "      <th>organization</th>\n",
              "      <th>page_url</th>\n",
              "      <th>salary</th>\n",
              "      <th>sector</th>\n",
              "      <th>uniq_id</th>\n",
              "    </tr>\n",
              "  </thead>\n",
              "  <tbody>\n",
              "    <tr>\n",
              "      <th>0</th>\n",
              "      <td>NaN</td>\n",
              "      <td>TeamSoft is seeing an IT Support Specialist to...</td>\n",
              "      <td>IT Support Technician Job in Madison</td>\n",
              "      <td>Full Time Employee</td>\n",
              "      <td>Madison, WI 53702</td>\n",
              "      <td>NaN</td>\n",
              "      <td>http://jobview.monster.com/it-support-technici...</td>\n",
              "      <td>NaN</td>\n",
              "      <td>IT/Software Development</td>\n",
              "      <td>11d599f229a80023d2f40e7c52cd941e</td>\n",
              "    </tr>\n",
              "    <tr>\n",
              "      <th>1</th>\n",
              "      <td>NaN</td>\n",
              "      <td>The Wisconsin State Journal is seeking a flexi...</td>\n",
              "      <td>Business Reporter/Editor Job in Madison</td>\n",
              "      <td>Full Time</td>\n",
              "      <td>Madison, WI 53708</td>\n",
              "      <td>Printing and Publishing</td>\n",
              "      <td>http://jobview.monster.com/business-reporter-e...</td>\n",
              "      <td>NaN</td>\n",
              "      <td>NaN</td>\n",
              "      <td>e4cbb126dabf22159aff90223243ff2a</td>\n",
              "    </tr>\n",
              "    <tr>\n",
              "      <th>2</th>\n",
              "      <td>NaN</td>\n",
              "      <td>Report this job About the Job DePuy Synthes Co...</td>\n",
              "      <td>Johnson &amp; Johnson Family of Companies Job Appl...</td>\n",
              "      <td>Full Time, Employee</td>\n",
              "      <td>DePuy Synthes Companies is a member of Johnson...</td>\n",
              "      <td>Personal and Household Services</td>\n",
              "      <td>http://jobview.monster.com/senior-training-lea...</td>\n",
              "      <td>NaN</td>\n",
              "      <td>NaN</td>\n",
              "      <td>839106b353877fa3d896ffb9c1fe01c0</td>\n",
              "    </tr>\n",
              "    <tr>\n",
              "      <th>3</th>\n",
              "      <td>NaN</td>\n",
              "      <td>Why Join Altec? If you’re considering a career...</td>\n",
              "      <td>Engineer - Quality Job in Dixon</td>\n",
              "      <td>Full Time</td>\n",
              "      <td>Dixon, CA</td>\n",
              "      <td>Altec Industries</td>\n",
              "      <td>http://jobview.monster.com/engineer-quality-jo...</td>\n",
              "      <td>NaN</td>\n",
              "      <td>Experienced (Non-Manager)</td>\n",
              "      <td>58435fcab804439efdcaa7ecca0fd783</td>\n",
              "    </tr>\n",
              "    <tr>\n",
              "      <th>4</th>\n",
              "      <td>NaN</td>\n",
              "      <td>Position ID#  76162 # Positions  1 State  CT C...</td>\n",
              "      <td>Shift Supervisor - Part-Time Job in Camphill</td>\n",
              "      <td>Full Time Employee</td>\n",
              "      <td>Camphill, PA</td>\n",
              "      <td>Retail</td>\n",
              "      <td>http://jobview.monster.com/shift-supervisor-pa...</td>\n",
              "      <td>NaN</td>\n",
              "      <td>Project/Program Management</td>\n",
              "      <td>64d0272dc8496abfd9523a8df63c184c</td>\n",
              "    </tr>\n",
              "  </tbody>\n",
              "</table>\n",
              "</div>\n",
              "      <button class=\"colab-df-convert\" onclick=\"convertToInteractive('df-726c5d2c-3cb7-438f-8139-cb142b1c199c')\"\n",
              "              title=\"Convert this dataframe to an interactive table.\"\n",
              "              style=\"display:none;\">\n",
              "        \n",
              "  <svg xmlns=\"http://www.w3.org/2000/svg\" height=\"24px\"viewBox=\"0 0 24 24\"\n",
              "       width=\"24px\">\n",
              "    <path d=\"M0 0h24v24H0V0z\" fill=\"none\"/>\n",
              "    <path d=\"M18.56 5.44l.94 2.06.94-2.06 2.06-.94-2.06-.94-.94-2.06-.94 2.06-2.06.94zm-11 1L8.5 8.5l.94-2.06 2.06-.94-2.06-.94L8.5 2.5l-.94 2.06-2.06.94zm10 10l.94 2.06.94-2.06 2.06-.94-2.06-.94-.94-2.06-.94 2.06-2.06.94z\"/><path d=\"M17.41 7.96l-1.37-1.37c-.4-.4-.92-.59-1.43-.59-.52 0-1.04.2-1.43.59L10.3 9.45l-7.72 7.72c-.78.78-.78 2.05 0 2.83L4 21.41c.39.39.9.59 1.41.59.51 0 1.02-.2 1.41-.59l7.78-7.78 2.81-2.81c.8-.78.8-2.07 0-2.86zM5.41 20L4 18.59l7.72-7.72 1.47 1.35L5.41 20z\"/>\n",
              "  </svg>\n",
              "      </button>\n",
              "      \n",
              "  <style>\n",
              "    .colab-df-container {\n",
              "      display:flex;\n",
              "      flex-wrap:wrap;\n",
              "      gap: 12px;\n",
              "    }\n",
              "\n",
              "    .colab-df-convert {\n",
              "      background-color: #E8F0FE;\n",
              "      border: none;\n",
              "      border-radius: 50%;\n",
              "      cursor: pointer;\n",
              "      display: none;\n",
              "      fill: #1967D2;\n",
              "      height: 32px;\n",
              "      padding: 0 0 0 0;\n",
              "      width: 32px;\n",
              "    }\n",
              "\n",
              "    .colab-df-convert:hover {\n",
              "      background-color: #E2EBFA;\n",
              "      box-shadow: 0px 1px 2px rgba(60, 64, 67, 0.3), 0px 1px 3px 1px rgba(60, 64, 67, 0.15);\n",
              "      fill: #174EA6;\n",
              "    }\n",
              "\n",
              "    [theme=dark] .colab-df-convert {\n",
              "      background-color: #3B4455;\n",
              "      fill: #D2E3FC;\n",
              "    }\n",
              "\n",
              "    [theme=dark] .colab-df-convert:hover {\n",
              "      background-color: #434B5C;\n",
              "      box-shadow: 0px 1px 3px 1px rgba(0, 0, 0, 0.15);\n",
              "      filter: drop-shadow(0px 1px 2px rgba(0, 0, 0, 0.3));\n",
              "      fill: #FFFFFF;\n",
              "    }\n",
              "  </style>\n",
              "\n",
              "      <script>\n",
              "        const buttonEl =\n",
              "          document.querySelector('#df-726c5d2c-3cb7-438f-8139-cb142b1c199c button.colab-df-convert');\n",
              "        buttonEl.style.display =\n",
              "          google.colab.kernel.accessAllowed ? 'block' : 'none';\n",
              "\n",
              "        async function convertToInteractive(key) {\n",
              "          const element = document.querySelector('#df-726c5d2c-3cb7-438f-8139-cb142b1c199c');\n",
              "          const dataTable =\n",
              "            await google.colab.kernel.invokeFunction('convertToInteractive',\n",
              "                                                     [key], {});\n",
              "          if (!dataTable) return;\n",
              "\n",
              "          const docLinkHtml = 'Like what you see? Visit the ' +\n",
              "            '<a target=\"_blank\" href=https://colab.research.google.com/notebooks/data_table.ipynb>data table notebook</a>'\n",
              "            + ' to learn more about interactive tables.';\n",
              "          element.innerHTML = '';\n",
              "          dataTable['output_type'] = 'display_data';\n",
              "          await google.colab.output.renderOutput(dataTable, element);\n",
              "          const docLink = document.createElement('div');\n",
              "          docLink.innerHTML = docLinkHtml;\n",
              "          element.appendChild(docLink);\n",
              "        }\n",
              "      </script>\n",
              "    </div>\n",
              "  </div>\n",
              "  "
            ],
            "text/plain": [
              "  date_added                                    job_description  \\\n",
              "0        NaN  TeamSoft is seeing an IT Support Specialist to...   \n",
              "1        NaN  The Wisconsin State Journal is seeking a flexi...   \n",
              "2        NaN  Report this job About the Job DePuy Synthes Co...   \n",
              "3        NaN  Why Join Altec? If you’re considering a career...   \n",
              "4        NaN  Position ID#  76162 # Positions  1 State  CT C...   \n",
              "\n",
              "                                           job_title             job_type  \\\n",
              "0               IT Support Technician Job in Madison   Full Time Employee   \n",
              "1            Business Reporter/Editor Job in Madison            Full Time   \n",
              "2  Johnson & Johnson Family of Companies Job Appl...  Full Time, Employee   \n",
              "3                    Engineer - Quality Job in Dixon            Full Time   \n",
              "4       Shift Supervisor - Part-Time Job in Camphill   Full Time Employee   \n",
              "\n",
              "                                            location  \\\n",
              "0                                  Madison, WI 53702   \n",
              "1                                  Madison, WI 53708   \n",
              "2  DePuy Synthes Companies is a member of Johnson...   \n",
              "3                                          Dixon, CA   \n",
              "4                                       Camphill, PA   \n",
              "\n",
              "                      organization  \\\n",
              "0                              NaN   \n",
              "1          Printing and Publishing   \n",
              "2  Personal and Household Services   \n",
              "3                 Altec Industries   \n",
              "4                           Retail   \n",
              "\n",
              "                                            page_url salary  \\\n",
              "0  http://jobview.monster.com/it-support-technici...    NaN   \n",
              "1  http://jobview.monster.com/business-reporter-e...    NaN   \n",
              "2  http://jobview.monster.com/senior-training-lea...    NaN   \n",
              "3  http://jobview.monster.com/engineer-quality-jo...    NaN   \n",
              "4  http://jobview.monster.com/shift-supervisor-pa...    NaN   \n",
              "\n",
              "                       sector                           uniq_id  \n",
              "0     IT/Software Development  11d599f229a80023d2f40e7c52cd941e  \n",
              "1                         NaN  e4cbb126dabf22159aff90223243ff2a  \n",
              "2                         NaN  839106b353877fa3d896ffb9c1fe01c0  \n",
              "3   Experienced (Non-Manager)  58435fcab804439efdcaa7ecca0fd783  \n",
              "4  Project/Program Management  64d0272dc8496abfd9523a8df63c184c  "
            ]
          },
          "execution_count": 78,
          "metadata": {},
          "output_type": "execute_result"
        }
      ],
      "source": [
        "#df.drop([\"country\", \"country_code\", \"has_expired\", \"job_board\"], axis=1)\n",
        "#does not change the df directly since the inplace option is not activated\n",
        "#df = df.drop([\"country\", \"country_code\", \"has_expired\", \"job_board\"], axis=1) #now it works\n",
        "#df.drop([\"country\", \"country_code\", \"has_expired\", \"job_board\"], inplace=True, axis=1)\n",
        "#alternative which is clearer without axis nomenclature for columns\n",
        "df.drop(columns = [\"country\", \"country_code\", \"has_expired\", \"job_board\"], inplace=True)\n",
        "df.head()"
      ]
    },
    {
      "cell_type": "markdown",
      "metadata": {
        "id": "Bz4etM_Nzpfb"
      },
      "source": [
        "Our index has no real information currently; when someone searches the database, they will probably use the unique ID, so we can set this as index"
      ]
    },
    {
      "cell_type": "code",
      "execution_count": null,
      "metadata": {
        "colab": {
          "base_uri": "https://localhost:8080/"
        },
        "id": "Bl4iOVYWzxRK",
        "outputId": "78efb924-d43f-4ba6-b9f3-916e3bd623dd"
      },
      "outputs": [
        {
          "data": {
            "text/plain": [
              "True"
            ]
          },
          "execution_count": 10,
          "metadata": {},
          "output_type": "execute_result"
        }
      ],
      "source": [
        "df['uniq_id'].is_unique"
      ]
    },
    {
      "cell_type": "code",
      "execution_count": null,
      "metadata": {
        "colab": {
          "base_uri": "https://localhost:8080/",
          "height": 562
        },
        "id": "VbuHGyVzz46Q",
        "outputId": "9a84fca7-0e46-421c-8a29-22d24c34a2e7"
      },
      "outputs": [
        {
          "data": {
            "text/html": [
              "\n",
              "  <div id=\"df-c11826eb-fd1c-48c8-b57a-194f2898bc5b\">\n",
              "    <div class=\"colab-df-container\">\n",
              "      <div>\n",
              "<style scoped>\n",
              "    .dataframe tbody tr th:only-of-type {\n",
              "        vertical-align: middle;\n",
              "    }\n",
              "\n",
              "    .dataframe tbody tr th {\n",
              "        vertical-align: top;\n",
              "    }\n",
              "\n",
              "    .dataframe thead th {\n",
              "        text-align: right;\n",
              "    }\n",
              "</style>\n",
              "<table border=\"1\" class=\"dataframe\">\n",
              "  <thead>\n",
              "    <tr style=\"text-align: right;\">\n",
              "      <th></th>\n",
              "      <th>date_added</th>\n",
              "      <th>job_description</th>\n",
              "      <th>job_title</th>\n",
              "      <th>job_type</th>\n",
              "      <th>location</th>\n",
              "      <th>organization</th>\n",
              "      <th>page_url</th>\n",
              "      <th>salary</th>\n",
              "      <th>sector</th>\n",
              "    </tr>\n",
              "    <tr>\n",
              "      <th>uniq_id</th>\n",
              "      <th></th>\n",
              "      <th></th>\n",
              "      <th></th>\n",
              "      <th></th>\n",
              "      <th></th>\n",
              "      <th></th>\n",
              "      <th></th>\n",
              "      <th></th>\n",
              "      <th></th>\n",
              "    </tr>\n",
              "  </thead>\n",
              "  <tbody>\n",
              "    <tr>\n",
              "      <th>11d599f229a80023d2f40e7c52cd941e</th>\n",
              "      <td>NaN</td>\n",
              "      <td>TeamSoft is seeing an IT Support Specialist to...</td>\n",
              "      <td>IT Support Technician Job in Madison</td>\n",
              "      <td>Full Time Employee</td>\n",
              "      <td>Madison, WI 53702</td>\n",
              "      <td>NaN</td>\n",
              "      <td>http://jobview.monster.com/it-support-technici...</td>\n",
              "      <td>NaN</td>\n",
              "      <td>IT/Software Development</td>\n",
              "    </tr>\n",
              "    <tr>\n",
              "      <th>e4cbb126dabf22159aff90223243ff2a</th>\n",
              "      <td>NaN</td>\n",
              "      <td>The Wisconsin State Journal is seeking a flexi...</td>\n",
              "      <td>Business Reporter/Editor Job in Madison</td>\n",
              "      <td>Full Time</td>\n",
              "      <td>Madison, WI 53708</td>\n",
              "      <td>Printing and Publishing</td>\n",
              "      <td>http://jobview.monster.com/business-reporter-e...</td>\n",
              "      <td>NaN</td>\n",
              "      <td>NaN</td>\n",
              "    </tr>\n",
              "    <tr>\n",
              "      <th>839106b353877fa3d896ffb9c1fe01c0</th>\n",
              "      <td>NaN</td>\n",
              "      <td>Report this job About the Job DePuy Synthes Co...</td>\n",
              "      <td>Johnson &amp; Johnson Family of Companies Job Appl...</td>\n",
              "      <td>Full Time, Employee</td>\n",
              "      <td>DePuy Synthes Companies is a member of Johnson...</td>\n",
              "      <td>Personal and Household Services</td>\n",
              "      <td>http://jobview.monster.com/senior-training-lea...</td>\n",
              "      <td>NaN</td>\n",
              "      <td>NaN</td>\n",
              "    </tr>\n",
              "    <tr>\n",
              "      <th>58435fcab804439efdcaa7ecca0fd783</th>\n",
              "      <td>NaN</td>\n",
              "      <td>Why Join Altec? If you’re considering a career...</td>\n",
              "      <td>Engineer - Quality Job in Dixon</td>\n",
              "      <td>Full Time</td>\n",
              "      <td>Dixon, CA</td>\n",
              "      <td>Altec Industries</td>\n",
              "      <td>http://jobview.monster.com/engineer-quality-jo...</td>\n",
              "      <td>NaN</td>\n",
              "      <td>Experienced (Non-Manager)</td>\n",
              "    </tr>\n",
              "    <tr>\n",
              "      <th>64d0272dc8496abfd9523a8df63c184c</th>\n",
              "      <td>NaN</td>\n",
              "      <td>Position ID#  76162 # Positions  1 State  CT C...</td>\n",
              "      <td>Shift Supervisor - Part-Time Job in Camphill</td>\n",
              "      <td>Full Time Employee</td>\n",
              "      <td>Camphill, PA</td>\n",
              "      <td>Retail</td>\n",
              "      <td>http://jobview.monster.com/shift-supervisor-pa...</td>\n",
              "      <td>NaN</td>\n",
              "      <td>Project/Program Management</td>\n",
              "    </tr>\n",
              "  </tbody>\n",
              "</table>\n",
              "</div>\n",
              "      <button class=\"colab-df-convert\" onclick=\"convertToInteractive('df-c11826eb-fd1c-48c8-b57a-194f2898bc5b')\"\n",
              "              title=\"Convert this dataframe to an interactive table.\"\n",
              "              style=\"display:none;\">\n",
              "        \n",
              "  <svg xmlns=\"http://www.w3.org/2000/svg\" height=\"24px\"viewBox=\"0 0 24 24\"\n",
              "       width=\"24px\">\n",
              "    <path d=\"M0 0h24v24H0V0z\" fill=\"none\"/>\n",
              "    <path d=\"M18.56 5.44l.94 2.06.94-2.06 2.06-.94-2.06-.94-.94-2.06-.94 2.06-2.06.94zm-11 1L8.5 8.5l.94-2.06 2.06-.94-2.06-.94L8.5 2.5l-.94 2.06-2.06.94zm10 10l.94 2.06.94-2.06 2.06-.94-2.06-.94-.94-2.06-.94 2.06-2.06.94z\"/><path d=\"M17.41 7.96l-1.37-1.37c-.4-.4-.92-.59-1.43-.59-.52 0-1.04.2-1.43.59L10.3 9.45l-7.72 7.72c-.78.78-.78 2.05 0 2.83L4 21.41c.39.39.9.59 1.41.59.51 0 1.02-.2 1.41-.59l7.78-7.78 2.81-2.81c.8-.78.8-2.07 0-2.86zM5.41 20L4 18.59l7.72-7.72 1.47 1.35L5.41 20z\"/>\n",
              "  </svg>\n",
              "      </button>\n",
              "      \n",
              "  <style>\n",
              "    .colab-df-container {\n",
              "      display:flex;\n",
              "      flex-wrap:wrap;\n",
              "      gap: 12px;\n",
              "    }\n",
              "\n",
              "    .colab-df-convert {\n",
              "      background-color: #E8F0FE;\n",
              "      border: none;\n",
              "      border-radius: 50%;\n",
              "      cursor: pointer;\n",
              "      display: none;\n",
              "      fill: #1967D2;\n",
              "      height: 32px;\n",
              "      padding: 0 0 0 0;\n",
              "      width: 32px;\n",
              "    }\n",
              "\n",
              "    .colab-df-convert:hover {\n",
              "      background-color: #E2EBFA;\n",
              "      box-shadow: 0px 1px 2px rgba(60, 64, 67, 0.3), 0px 1px 3px 1px rgba(60, 64, 67, 0.15);\n",
              "      fill: #174EA6;\n",
              "    }\n",
              "\n",
              "    [theme=dark] .colab-df-convert {\n",
              "      background-color: #3B4455;\n",
              "      fill: #D2E3FC;\n",
              "    }\n",
              "\n",
              "    [theme=dark] .colab-df-convert:hover {\n",
              "      background-color: #434B5C;\n",
              "      box-shadow: 0px 1px 3px 1px rgba(0, 0, 0, 0.15);\n",
              "      filter: drop-shadow(0px 1px 2px rgba(0, 0, 0, 0.3));\n",
              "      fill: #FFFFFF;\n",
              "    }\n",
              "  </style>\n",
              "\n",
              "      <script>\n",
              "        const buttonEl =\n",
              "          document.querySelector('#df-c11826eb-fd1c-48c8-b57a-194f2898bc5b button.colab-df-convert');\n",
              "        buttonEl.style.display =\n",
              "          google.colab.kernel.accessAllowed ? 'block' : 'none';\n",
              "\n",
              "        async function convertToInteractive(key) {\n",
              "          const element = document.querySelector('#df-c11826eb-fd1c-48c8-b57a-194f2898bc5b');\n",
              "          const dataTable =\n",
              "            await google.colab.kernel.invokeFunction('convertToInteractive',\n",
              "                                                     [key], {});\n",
              "          if (!dataTable) return;\n",
              "\n",
              "          const docLinkHtml = 'Like what you see? Visit the ' +\n",
              "            '<a target=\"_blank\" href=https://colab.research.google.com/notebooks/data_table.ipynb>data table notebook</a>'\n",
              "            + ' to learn more about interactive tables.';\n",
              "          element.innerHTML = '';\n",
              "          dataTable['output_type'] = 'display_data';\n",
              "          await google.colab.output.renderOutput(dataTable, element);\n",
              "          const docLink = document.createElement('div');\n",
              "          docLink.innerHTML = docLinkHtml;\n",
              "          element.appendChild(docLink);\n",
              "        }\n",
              "      </script>\n",
              "    </div>\n",
              "  </div>\n",
              "  "
            ],
            "text/plain": [
              "                                 date_added  \\\n",
              "uniq_id                                       \n",
              "11d599f229a80023d2f40e7c52cd941e        NaN   \n",
              "e4cbb126dabf22159aff90223243ff2a        NaN   \n",
              "839106b353877fa3d896ffb9c1fe01c0        NaN   \n",
              "58435fcab804439efdcaa7ecca0fd783        NaN   \n",
              "64d0272dc8496abfd9523a8df63c184c        NaN   \n",
              "\n",
              "                                                                    job_description  \\\n",
              "uniq_id                                                                               \n",
              "11d599f229a80023d2f40e7c52cd941e  TeamSoft is seeing an IT Support Specialist to...   \n",
              "e4cbb126dabf22159aff90223243ff2a  The Wisconsin State Journal is seeking a flexi...   \n",
              "839106b353877fa3d896ffb9c1fe01c0  Report this job About the Job DePuy Synthes Co...   \n",
              "58435fcab804439efdcaa7ecca0fd783  Why Join Altec? If you’re considering a career...   \n",
              "64d0272dc8496abfd9523a8df63c184c  Position ID#  76162 # Positions  1 State  CT C...   \n",
              "\n",
              "                                                                          job_title  \\\n",
              "uniq_id                                                                               \n",
              "11d599f229a80023d2f40e7c52cd941e               IT Support Technician Job in Madison   \n",
              "e4cbb126dabf22159aff90223243ff2a            Business Reporter/Editor Job in Madison   \n",
              "839106b353877fa3d896ffb9c1fe01c0  Johnson & Johnson Family of Companies Job Appl...   \n",
              "58435fcab804439efdcaa7ecca0fd783                    Engineer - Quality Job in Dixon   \n",
              "64d0272dc8496abfd9523a8df63c184c       Shift Supervisor - Part-Time Job in Camphill   \n",
              "\n",
              "                                             job_type  \\\n",
              "uniq_id                                                 \n",
              "11d599f229a80023d2f40e7c52cd941e   Full Time Employee   \n",
              "e4cbb126dabf22159aff90223243ff2a            Full Time   \n",
              "839106b353877fa3d896ffb9c1fe01c0  Full Time, Employee   \n",
              "58435fcab804439efdcaa7ecca0fd783            Full Time   \n",
              "64d0272dc8496abfd9523a8df63c184c   Full Time Employee   \n",
              "\n",
              "                                                                           location  \\\n",
              "uniq_id                                                                               \n",
              "11d599f229a80023d2f40e7c52cd941e                                  Madison, WI 53702   \n",
              "e4cbb126dabf22159aff90223243ff2a                                  Madison, WI 53708   \n",
              "839106b353877fa3d896ffb9c1fe01c0  DePuy Synthes Companies is a member of Johnson...   \n",
              "58435fcab804439efdcaa7ecca0fd783                                          Dixon, CA   \n",
              "64d0272dc8496abfd9523a8df63c184c                                       Camphill, PA   \n",
              "\n",
              "                                                     organization  \\\n",
              "uniq_id                                                             \n",
              "11d599f229a80023d2f40e7c52cd941e                              NaN   \n",
              "e4cbb126dabf22159aff90223243ff2a          Printing and Publishing   \n",
              "839106b353877fa3d896ffb9c1fe01c0  Personal and Household Services   \n",
              "58435fcab804439efdcaa7ecca0fd783                 Altec Industries   \n",
              "64d0272dc8496abfd9523a8df63c184c                           Retail   \n",
              "\n",
              "                                                                           page_url  \\\n",
              "uniq_id                                                                               \n",
              "11d599f229a80023d2f40e7c52cd941e  http://jobview.monster.com/it-support-technici...   \n",
              "e4cbb126dabf22159aff90223243ff2a  http://jobview.monster.com/business-reporter-e...   \n",
              "839106b353877fa3d896ffb9c1fe01c0  http://jobview.monster.com/senior-training-lea...   \n",
              "58435fcab804439efdcaa7ecca0fd783  http://jobview.monster.com/engineer-quality-jo...   \n",
              "64d0272dc8496abfd9523a8df63c184c  http://jobview.monster.com/shift-supervisor-pa...   \n",
              "\n",
              "                                 salary                      sector  \n",
              "uniq_id                                                              \n",
              "11d599f229a80023d2f40e7c52cd941e    NaN     IT/Software Development  \n",
              "e4cbb126dabf22159aff90223243ff2a    NaN                         NaN  \n",
              "839106b353877fa3d896ffb9c1fe01c0    NaN                         NaN  \n",
              "58435fcab804439efdcaa7ecca0fd783    NaN   Experienced (Non-Manager)  \n",
              "64d0272dc8496abfd9523a8df63c184c    NaN  Project/Program Management  "
            ]
          },
          "execution_count": 79,
          "metadata": {},
          "output_type": "execute_result"
        }
      ],
      "source": [
        "df = df.set_index('uniq_id')\n",
        "#how to do this nicer without reassigning? Right, inplace option!\n",
        "df.head()"
      ]
    },
    {
      "cell_type": "markdown",
      "metadata": {
        "id": "T3vblBRa3Zw-"
      },
      "source": [
        "The job type column has many different names for the same thing\n",
        " (e.g. full time job), so we want to change this into a unique label in order to analyze the data later."
      ]
    },
    {
      "cell_type": "code",
      "execution_count": null,
      "metadata": {
        "colab": {
          "base_uri": "https://localhost:8080/"
        },
        "id": "8v-HYpSh3Z6n",
        "outputId": "741e9ab5-0227-45e5-ea52-34b02ab8ddc9"
      },
      "outputs": [
        {
          "data": {
            "text/plain": [
              "Full Time                                        3605\n",
              "Full Time Employee                               2328\n",
              "Full Time Temporary/Contract/Project              351\n",
              "Full Time                                         173\n",
              "Part Time                                         167\n",
              "Part Time Employee                                126\n",
              "Temporary/Contract/Project                         69\n",
              "Employee                                           57\n",
              "Per Diem                                           26\n",
              "Full Time / Employee                               24\n",
              "Full Time                                          10\n",
              "Part Time/ Temporary/Contract/Project               8\n",
              "Job Type Full Time Employee                         7\n",
              "Per Diem Employee                                   6\n",
              "Full Time/ Employee                                 3\n",
              "Part Time Temporary/Contract/Project                2\n",
              "Part Time                                           2\n",
              "Job Type Employee                                   1\n",
              "Part Time Seasonal                                  1\n",
              "Job Type Full Time Temporary/Contract/Project       1\n",
              "Full Time Intern                                    1\n",
              "Full Time  Employee                                 1\n",
              "Exempt                                              1\n",
              "Part Time Intern                                    1\n",
              "Full Time / > Employee                              1\n",
              "Name: job_type, dtype: int64"
            ]
          },
          "execution_count": 80,
          "metadata": {},
          "output_type": "execute_result"
        }
      ],
      "source": [
        "df[\"job_type\"].value_counts()\n",
        "\n",
        "jobtype=df['job_type'].str.split(',')\n",
        "df['job_type']=jobtype.str[0]\n",
        "#eliminates all information after the comma; still there are redundant features!\n",
        "\n",
        "df[\"job_type\"].value_counts()\n"
      ]
    },
    {
      "cell_type": "code",
      "execution_count": null,
      "metadata": {
        "id": "vGfYkWsROimn"
      },
      "outputs": [],
      "source": [
        "df2=df.copy()"
      ]
    },
    {
      "cell_type": "code",
      "execution_count": null,
      "metadata": {
        "colab": {
          "base_uri": "https://localhost:8080/"
        },
        "id": "RyeDC5xo4WSC",
        "outputId": "4d617ea8-c8c5-4de6-bd5e-48c58bf3c99e"
      },
      "outputs": [
        {
          "name": "stdout",
          "output_type": "stream",
          "text": [
            "10 loops, best of 5: 31.2 ms per loop\n"
          ]
        }
      ],
      "source": [
        "#df[\"job_type\"].value_counts()\n",
        "%%timeit\n",
        "\n",
        "\n",
        "df2.mask(df2[\"job_type\"].str.startswith(\"Part Time\", na=False), other = \"Part Time\", axis=0, inplace=True)\n",
        "df2.mask(df2[\"job_type\"].str.startswith(\"Per Diem\", na=False), other = \"Per Diem\", axis=0, inplace=True)\n",
        "\n",
        "#change all job types containing Full Time to just Full Time; need to use contain since some Full Time descriptions do not start with it\n",
        "df2.mask(df2[\"job_type\"].str.contains(\"Full Time\", na=False), other = \"Full Time\", axis=0, inplace=True)\n",
        "\n",
        "#mask vs where, chaining multiple conditions\n",
        "df2.where((df2[\"job_type\"].str.contains(\"Time\", na=False)) | (df2[\"job_type\"].str.contains(\"Temporary\", na=False)) | (df2[\"job_type\"].str.contains(\"Per Diem\", na=False)), other = \"Other\", axis=0, inplace=True)\n",
        "\n",
        "df2[\"job_type\"].value_counts()"
      ]
    },
    {
      "cell_type": "markdown",
      "metadata": {
        "id": "peY3s_avK8rR"
      },
      "source": [
        "We can achieve the same data cleaning behaviour in a nicer way by using the where method of numpy:"
      ]
    },
    {
      "cell_type": "code",
      "execution_count": null,
      "metadata": {
        "colab": {
          "base_uri": "https://localhost:8080/"
        },
        "id": "mrgpho7xK9IM",
        "outputId": "b509714e-d535-4e08-835f-16a67e09523b"
      },
      "outputs": [
        {
          "name": "stdout",
          "output_type": "stream",
          "text": [
            "100 loops, best of 5: 11.8 ms per loop\n"
          ]
        }
      ],
      "source": [
        "%%timeit\n",
        "job = df[\"job_type\"]\n",
        "full = job.str.contains(\"Full Time\")\n",
        "part = job.str.contains(\"Part Time\")\n",
        "diem = job.str.contains(\"Per Diem\")\n",
        "\n",
        "df[\"job_type\"] = np.where(full, \"Full Time\",\n",
        "                          np.where(part, \"Part Time\",\n",
        "                                   np.where(diem, \"Per Diem\", \"Other\")))\n",
        "\n",
        "\n",
        "df[\"job_type\"].value_counts()"
      ]
    },
    {
      "cell_type": "markdown",
      "metadata": {
        "id": "mmAzAp3PErRR"
      },
      "source": [
        "## Excursion: Views vs Copies in Pandas\n",
        "\n",
        "Data can be referenced in two ways in both numpy and pandas: As shallow copies (**views**) or as deep copies (**copies**). The *SettingWithCopyWarning* is a common mistake beginners make when starting out with Pandas, and hopefully you will avoid these mistakes after this explanation. "
      ]
    },
    {
      "cell_type": "markdown",
      "metadata": {
        "id": "idlUlshZ__9w"
      },
      "source": []
    },
    {
      "cell_type": "code",
      "execution_count": 4,
      "metadata": {
        "id": "dtwOf92vMdKi"
      },
      "outputs": [],
      "source": [
        "array_orig = np.array([0, 5, 8, 2])"
      ]
    },
    {
      "cell_type": "code",
      "execution_count": 32,
      "metadata": {
        "id": "LG4l6CemAATB"
      },
      "outputs": [],
      "source": [
        "l =[[\"Mut1\", 10, \"C142G\", \"denatured\"],\n",
        "    [\"Mut2\", 1333, \"C142S\", \"globular\"],\n",
        "    [\"Mut3\", 1104, \"H86R\", \"globular\"],\n",
        "    [\"WT\", 2283, None, \"globular\"]] \n",
        "\n",
        "cols = [\"name\", \"activity\", \"mutation\", \"shape\"]\n",
        "cols_num  = [\"w\", \"x\", \"y\", \"z\"]\n",
        "\n",
        "numerical = [[5, 10, 124, 53],\n",
        "            [9, 1333, 135, 12],\n",
        "            [6, 1104, 194, 34],\n",
        "            [13, 2283, 201, 25]] \n",
        "df_orig = pd.DataFrame(numerical, columns = cols_num)"
      ]
    },
    {
      "cell_type": "code",
      "execution_count": 7,
      "metadata": {
        "colab": {
          "base_uri": "https://localhost:8080/"
        },
        "id": "FvDK33-fU3Kw",
        "outputId": "7357eb41-1cd7-4a43-b6ce-2a4db6edc63f"
      },
      "outputs": [
        {
          "name": "stdout",
          "output_type": "stream",
          "text": [
            "[0 5 8 2]\n"
          ]
        },
        {
          "data": {
            "text/plain": [
              "  C_CONTIGUOUS : True\n",
              "  F_CONTIGUOUS : True\n",
              "  OWNDATA : False\n",
              "  WRITEABLE : True\n",
              "  ALIGNED : True\n",
              "  WRITEBACKIFCOPY : False\n",
              "  UPDATEIFCOPY : False"
            ]
          },
          "execution_count": 7,
          "metadata": {},
          "output_type": "execute_result"
        }
      ],
      "source": [
        "#slicing returns view\n",
        "array_view = array_orig[0:4]\n",
        "print(array_view)\n",
        "array_view.base #array_orig\n",
        "array_view.base is array_orig #True\n",
        "array_view.flags #owndata: False"
      ]
    },
    {
      "cell_type": "code",
      "execution_count": 8,
      "metadata": {
        "colab": {
          "base_uri": "https://localhost:8080/"
        },
        "id": "q60NQisoVxBB",
        "outputId": "571d229f-805f-45a6-e34d-edd3925faed3"
      },
      "outputs": [
        {
          "name": "stdout",
          "output_type": "stream",
          "text": [
            "[0 5 8 2]\n"
          ]
        },
        {
          "data": {
            "text/plain": [
              "True"
            ]
          },
          "execution_count": 8,
          "metadata": {},
          "output_type": "execute_result"
        }
      ],
      "source": [
        "#integer indexing and Boolean indexing return copies\n",
        "array_copy = array_orig[[0,1,2,3]] #array_copy = array_orig[[False, True, True, False, False]]\n",
        "print(array_copy)\n",
        "array_copy.base #None/itself\n",
        "array_copy.base is array_orig #False\n",
        "array_copy.flags.owndata #True"
      ]
    },
    {
      "cell_type": "markdown",
      "metadata": {
        "id": "x9MPX2itAAbK"
      },
      "source": [
        "<img src=\"https://github.com/kdidi99/Python_for_Biochemists/blob/main/images/views_copies_1.png?raw=1\"  width=\"800\"/>"
      ]
    },
    {
      "cell_type": "markdown",
      "metadata": {
        "id": "0-ThimGfQ0VW"
      },
      "source": []
    },
    {
      "cell_type": "code",
      "execution_count": 11,
      "metadata": {
        "colab": {
          "base_uri": "https://localhost:8080/"
        },
        "id": "-1r8ikf5Q03L",
        "outputId": "c4e82e5f-04dd-4db3-80c7-6b8a6998d115"
      },
      "outputs": [
        {
          "name": "stdout",
          "output_type": "stream",
          "text": [
            "array_orig: [0 5 8 2] \n",
            "array_view: [0 5 8 2] \n",
            "array_copy: [0 5 8 2]\n",
            " ---\n",
            "array_orig: [0 5 7 2] \n",
            "array_view: [0 5 7 2] \n",
            "array_copy: [0 5 8 2]\n"
          ]
        }
      ],
      "source": [
        "#change entry in original array\n",
        "print(f\"array_orig: {array_orig} \\narray_view: {array_view} \\narray_copy: {array_copy}\\n ---\") \n",
        "array_orig[2] = 7\n",
        "print(f\"array_orig: {array_orig} \\narray_view: {array_view} \\narray_copy: {array_copy}\") \n",
        "array_orig[2] = 8"
      ]
    },
    {
      "cell_type": "markdown",
      "metadata": {
        "id": "jNFBf-frQ1eU"
      },
      "source": [
        "<img src=\"https://github.com/kdidi99/Python_for_Biochemists/blob/main/images/views_copies_2.png?raw=1\"  width=\"800\"/>"
      ]
    },
    {
      "cell_type": "markdown",
      "metadata": {
        "id": "SDYnj4L3Q11k"
      },
      "source": []
    },
    {
      "cell_type": "code",
      "execution_count": 12,
      "metadata": {
        "colab": {
          "base_uri": "https://localhost:8080/"
        },
        "id": "A2gXWFEgQ19A",
        "outputId": "d19a3edf-f6d1-457d-c854-36d10df98183"
      },
      "outputs": [
        {
          "name": "stdout",
          "output_type": "stream",
          "text": [
            "array_orig: [0 5 8 2] \n",
            "array_view: [0 5 8 2] \n",
            "array_copy: [0 5 8 2] \n",
            " ---\n",
            "array_orig: [0 5 8 2] \n",
            "array_view: [0 5 8 2] \n",
            "array_copy: [0 5 7 2]\n"
          ]
        }
      ],
      "source": [
        "#change entry in array_copy\n",
        "print(f\"array_orig: {array_orig} \\narray_view: {array_view} \\narray_copy: {array_copy} \\n ---\") \n",
        "array_copy[2] = 7\n",
        "print(f\"array_orig: {array_orig} \\narray_view: {array_view} \\narray_copy: {array_copy}\") \n",
        "array_copy[2] = 8"
      ]
    },
    {
      "cell_type": "markdown",
      "metadata": {
        "id": "CYj_lTx5Q2ED"
      },
      "source": [
        "<img src=\"https://github.com/kdidi99/Python_for_Biochemists/blob/main/images/views_copies_3.png?raw=1\"  width=\"800\"/>"
      ]
    },
    {
      "cell_type": "markdown",
      "metadata": {
        "id": "ta8c_8rG1OHk"
      },
      "source": [
        "Views and copies in Pandas are a bit more complicated due to the more complex nature of Pandas on top of NumPy, but there are similarities between the two: "
      ]
    },
    {
      "cell_type": "code",
      "execution_count": 34,
      "metadata": {
        "colab": {
          "base_uri": "https://localhost:8080/"
        },
        "id": "bsUjToQM1OT5",
        "outputId": "9e9def58-e6d1-4e2b-bd0a-968ac4339f12"
      },
      "outputs": [
        {
          "name": "stdout",
          "output_type": "stream",
          "text": [
            "    w     x    y   z\n",
            "0   5    10  124  53\n",
            "1   9  1333  135  12\n",
            "2   6  1104  194  34\n",
            "3  13  2283  201  25\n"
          ]
        },
        {
          "data": {
            "text/plain": [
              "True"
            ]
          },
          "execution_count": 34,
          "metadata": {},
          "output_type": "execute_result"
        }
      ],
      "source": [
        "#view created by slicing (rows)\n",
        "print(df_orig)\n",
        "df_view = df_orig[0:3]\n",
        "df_view.to_numpy().base is df_orig.to_numpy().base\n",
        "#df_view.to_numpy().flags.owndata\n"
      ]
    },
    {
      "cell_type": "code",
      "execution_count": 40,
      "metadata": {
        "colab": {
          "base_uri": "https://localhost:8080/"
        },
        "id": "xBDW5jZz3f1P",
        "outputId": "ae7c91bf-3ebb-407f-96a0-c6cece717562"
      },
      "outputs": [
        {
          "data": {
            "text/plain": [
              "False"
            ]
          },
          "execution_count": 40,
          "metadata": {},
          "output_type": "execute_result"
        }
      ],
      "source": [
        "#copy created by integer indexing (columns)\n",
        "df_copy = df_orig[[\"x\", \"z\"]]\n",
        "df_copy.to_numpy().base is df_orig.to_numpy().base"
      ]
    },
    {
      "cell_type": "markdown",
      "metadata": {
        "id": "W_Ch6Y-F5ft1"
      },
      "source": [
        "This gets more complicated if we use for example chained indexing, see [Pandas Documentation](https://pandas.pydata.org/docs/user_guide/indexing.html#evaluation-order-matters) and [Real Python Article](https://realpython.com/pandas-settingwithcopywarning/#indices-and-slices-in-numpy-and-pandas)"
      ]
    },
    {
      "cell_type": "code",
      "execution_count": null,
      "metadata": {
        "id": "WTuaw0xO5pNq"
      },
      "outputs": [],
      "source": []
    },
    {
      "cell_type": "markdown",
      "metadata": {
        "id": "UJkhQyel9TKO"
      },
      "source": [
        "Best practise for those cases: Avoid chained assignements and use accessors!"
      ]
    },
    {
      "cell_type": "markdown",
      "metadata": {
        "id": "Z2PQcJvaz_co"
      },
      "source": [
        "For computations later down the road, we want to get rid of entries that are NaN in the date and the salary column. How many are there?"
      ]
    },
    {
      "cell_type": "code",
      "execution_count": null,
      "metadata": {
        "colab": {
          "base_uri": "https://localhost:8080/"
        },
        "id": "WQ5i_QqJz_nB",
        "outputId": "26f88cb6-72e6-4f51-95a0-af4989b3ddaa"
      },
      "outputs": [
        {
          "name": "stdout",
          "output_type": "stream",
          "text": [
            "Missing salary values: 0.0 %\n",
            "Missing date values: 0.0 %\n"
          ]
        }
      ],
      "source": [
        "salary_na = df['salary'].isna().sum()\n",
        "date_na = df['date_added'].isna().sum()\n",
        "total = len(df.index)\n",
        "print(f\"Missing salary values: {salary_na*100/total} %\")\n",
        "print(f\"Missing date values: {date_na*100/total} %\")"
      ]
    },
    {
      "cell_type": "code",
      "execution_count": null,
      "metadata": {
        "colab": {
          "base_uri": "https://localhost:8080/"
        },
        "id": "E3SW-NgiIeAC",
        "outputId": "effe8f30-3b56-4753-bdee-a3dea0bd21b1"
      },
      "outputs": [
        {
          "name": "stdout",
          "output_type": "stream",
          "text": [
            "1\n",
            "1\n"
          ]
        }
      ],
      "source": [
        "#high percentage of missing data, we will loose most of it if we drop!\n",
        "print(len(df.index))\n",
        "df_dropped = df.dropna(subset = [\"date_added\", \"salary\"])\n",
        "print(len(df.index)-len(df_dropped.index))"
      ]
    }
  ],
  "metadata": {
    "colab": {
      "authorship_tag": "ABX9TyORjtgSFYLzt9ixOQsqmVJc",
      "include_colab_link": true,
      "name": "Untitled5.ipynb",
      "provenance": []
    },
    "kernelspec": {
      "display_name": "Python 3.10.6 64-bit ('3.10.6')",
      "language": "python",
      "name": "python3"
    },
    "language_info": {
      "name": "python",
      "version": "3.10.6"
    },
    "vscode": {
      "interpreter": {
        "hash": "ebbca54691d61843c0a04253fcd790a2bc545e11985b7cc4dd8a14aab0b5083b"
      }
    }
  },
  "nbformat": 4,
  "nbformat_minor": 0
}
