{
  "cells": [
    {
      "cell_type": "markdown",
      "metadata": {
        "id": "Nq5kxLDfovQ_"
      },
      "source": [
        "# Day 1: Functions & Classes\n",
        "Kieran Didi\n",
        "<br/>\n",
        "<br/>\n",
        "Packages are important to work efficiently in python. They allow you to use other peoples code (wonderful). An \n",
        "example would be the `random` package.  With it you can create random numbers. First we have to import a module.\n",
        "Then you can use it later on in your code. with `random.randint(Y,X)` we can generate a random integer between `Y` and `X`"
      ]
    },
    {
      "cell_type": "code",
      "execution_count": null,
      "metadata": {
        "id": "romjb9UEovRG",
        "outputId": "4101304b-a593-43d6-e0fa-e77cc157419c"
      },
      "outputs": [
        {
          "name": "stdout",
          "output_type": "stream",
          "text": [
            "7\n"
          ]
        }
      ],
      "source": [
        "import random\n",
        "\n",
        "print(random.randint(0,10))"
      ]
    },
    {
      "cell_type": "markdown",
      "metadata": {
        "id": "r3GNiqsfovRL"
      },
      "source": [
        "we can also choose one random element of a list:"
      ]
    },
    {
      "cell_type": "code",
      "execution_count": null,
      "metadata": {
        "id": "Wci3NpyEovRN",
        "outputId": "ec4cfb90-d31b-4baf-b391-e671feea6fc1"
      },
      "outputs": [
        {
          "name": "stdout",
          "output_type": "stream",
          "text": [
            "A\n"
          ]
        }
      ],
      "source": [
        "print(random.choice(['A', 'C', 'G', 'T']))"
      ]
    },
    {
      "cell_type": "markdown",
      "metadata": {
        "id": "694L8BPEovRQ"
      },
      "source": [
        "To avoid using too much memory, you can also import just a tiny part of a package. In this case you don't need to explicitly tell the program in which package the function resides ( `random.choice` would just be `choice`):"
      ]
    },
    {
      "cell_type": "code",
      "execution_count": null,
      "metadata": {
        "id": "dJPtXG2DovRR",
        "outputId": "03234acb-f830-4e25-f0b3-1ceb119aecd9"
      },
      "outputs": [
        {
          "data": {
            "text/plain": [
              "4"
            ]
          },
          "execution_count": 6,
          "metadata": {},
          "output_type": "execute_result"
        }
      ],
      "source": [
        "from random import randrange\n",
        "randrange(10) "
      ]
    },
    {
      "cell_type": "markdown",
      "metadata": {
        "id": "tZLV35YmovRV"
      },
      "source": [
        "Another notation gives packages a shorter name:"
      ]
    },
    {
      "cell_type": "code",
      "execution_count": null,
      "metadata": {
        "id": "UO8HWVoyovRW",
        "outputId": "962de8bc-51f7-4362-bbf8-ac2187a45581"
      },
      "outputs": [
        {
          "data": {
            "text/plain": [
              "7"
            ]
          },
          "execution_count": 2,
          "metadata": {},
          "output_type": "execute_result"
        }
      ],
      "source": [
        "import random as rd\n",
        "rd.randrange(10)"
      ]
    },
    {
      "cell_type": "markdown",
      "metadata": {
        "id": "U_KsnzRaovRX"
      },
      "source": [
        "A lot of packages are already implemented in Python (also called base packages like `random`) and can be used immediatly after installation. Others can be downloaded online and installed on your system. This opens a lot of possibilities. "
      ]
    },
    {
      "cell_type": "markdown",
      "metadata": {
        "id": "khm8yl-0ovRY"
      },
      "source": [
        "## Functions"
      ]
    },
    {
      "cell_type": "markdown",
      "metadata": {
        "id": "y2IP281bovRZ"
      },
      "source": [
        "A function is lika a miniprogram within a program. Lets create one to better understand them:"
      ]
    },
    {
      "cell_type": "code",
      "execution_count": null,
      "metadata": {
        "id": "MnO9vVj0ovRZ"
      },
      "outputs": [],
      "source": [
        "def print_nucleotides():\n",
        "    print(\"A\")\n",
        "    print(\"T\")\n",
        "    print(\"G\")\n",
        "    print(\"C\")"
      ]
    },
    {
      "cell_type": "code",
      "execution_count": null,
      "metadata": {
        "id": "YzwmWgrxovRa",
        "outputId": "2b2f0b87-ffef-4128-d1b9-e0dab676620c"
      },
      "outputs": [
        {
          "name": "stdout",
          "output_type": "stream",
          "text": [
            "A\n",
            "T\n",
            "G\n",
            "C\n"
          ]
        }
      ],
      "source": [
        "print_nucleotides()"
      ]
    },
    {
      "cell_type": "markdown",
      "metadata": {
        "id": "3fl4Fhi0ovRb"
      },
      "source": [
        "The `def` statement defines a function called `print_nucleotides()`. Then, the four `print` statements are the body of the function. We then \"call\" the function with writing `print_nucleotides()` in the cell above.\n",
        "\n",
        "With functions you can reuse your code. As an example, you can use the `print_nucleotides()` multiple times, and you dont have to copy paste the `print` statements. "
      ]
    },
    {
      "cell_type": "code",
      "execution_count": null,
      "metadata": {
        "id": "3slNuXYSovRc",
        "outputId": "3f5b0d8f-c0c1-4fd1-8303-85268fd60443"
      },
      "outputs": [
        {
          "name": "stdout",
          "output_type": "stream",
          "text": [
            "A\n",
            "T\n",
            "G\n",
            "C\n",
            "A\n",
            "T\n",
            "G\n",
            "C\n"
          ]
        }
      ],
      "source": [
        "print_nucleotides()\n",
        "print_nucleotides()"
      ]
    },
    {
      "cell_type": "markdown",
      "metadata": {
        "id": "FnL2ks5OovRd"
      },
      "source": [
        "In the parentheses you can put arguments. These are values that you can \"pass\" to your function. "
      ]
    },
    {
      "cell_type": "code",
      "execution_count": null,
      "metadata": {
        "id": "pUf0RHSFovRe",
        "outputId": "8ab1f842-533d-41db-87be-f86cf346ecc9"
      },
      "outputs": [
        {
          "name": "stdout",
          "output_type": "stream",
          "text": [
            "Hello, Peter\n",
            "Hello, Lea\n"
          ]
        }
      ],
      "source": [
        "def hello(name):\n",
        "    print(\"Hello,\",name)\n",
        "    \n",
        "hello(\"Peter\")\n",
        "hello(\"Lea\")"
      ]
    },
    {
      "cell_type": "markdown",
      "metadata": {
        "id": "1ec6p6vwovRf"
      },
      "source": [
        "As you can see, we passed to different names and got two different outputs.\n",
        "\n",
        "We can also use functions for calculations:"
      ]
    },
    {
      "cell_type": "code",
      "execution_count": null,
      "metadata": {
        "id": "7OCVEZVAovRh",
        "outputId": "bfd275aa-b3c6-4764-b91b-5af541d0cc9c"
      },
      "outputs": [
        {
          "name": "stdout",
          "output_type": "stream",
          "text": [
            "16\n"
          ]
        }
      ],
      "source": [
        "def square(a):\n",
        "    print(a**2)\n",
        "\n",
        "square(4)"
      ]
    },
    {
      "cell_type": "markdown",
      "metadata": {
        "id": "LhoLHwD-ovRj"
      },
      "source": [
        "Functions in general always return a value, the default value is `None`, a value with no value. If you want, that the function returns a specific type of value you have to use the `return` statement. The difference between the `print` and the `return` statement is the following: \n",
        "\n",
        "`print` just prints the output on the screen and nothing else, it actually also returns a `None` value. \n",
        " \n",
        "`return` gives you the value, so that you can assign it to variables (Another illustration would be sending a postcard):"
      ]
    },
    {
      "cell_type": "code",
      "execution_count": null,
      "metadata": {
        "id": "4Km0_bLCovRj",
        "outputId": "4c0eb803-f433-4f7a-8df9-079e579c7cf2"
      },
      "outputs": [
        {
          "name": "stdout",
          "output_type": "stream",
          "text": [
            "16\n",
            "--------------------\n",
            "25\n"
          ]
        }
      ],
      "source": [
        "def square(a):\n",
        "    return(a**2)\n",
        "\n",
        "b = square(4)\n",
        "print(b)\n",
        "print(20*\"-\")\n",
        "print(b + 9)"
      ]
    },
    {
      "cell_type": "markdown",
      "metadata": {
        "id": "Z-PMlxDsovRk"
      },
      "source": [
        "This would not work with a `print` statement in the function:"
      ]
    },
    {
      "cell_type": "code",
      "execution_count": null,
      "metadata": {
        "id": "-kKqa32MovRk",
        "outputId": "f0d06691-22aa-41b9-9515-607301c380e5",
        "scrolled": true
      },
      "outputs": [
        {
          "name": "stdout",
          "output_type": "stream",
          "text": [
            "16\n"
          ]
        },
        {
          "ename": "TypeError",
          "evalue": "unsupported operand type(s) for +: 'NoneType' and 'int'",
          "output_type": "error",
          "traceback": [
            "\u001b[1;31m---------------------------------------------------------------------------\u001b[0m",
            "\u001b[1;31mTypeError\u001b[0m                                 Traceback (most recent call last)",
            "\u001b[1;32m<ipython-input-7-de0e98da6c50>\u001b[0m in \u001b[0;36m<module>\u001b[1;34m\u001b[0m\n\u001b[0;32m      4\u001b[0m \u001b[0mb\u001b[0m \u001b[1;33m=\u001b[0m \u001b[0msquare\u001b[0m\u001b[1;33m(\u001b[0m\u001b[1;36m4\u001b[0m\u001b[1;33m)\u001b[0m\u001b[1;33m\u001b[0m\u001b[1;33m\u001b[0m\u001b[0m\n\u001b[0;32m      5\u001b[0m \u001b[1;33m\u001b[0m\u001b[0m\n\u001b[1;32m----> 6\u001b[1;33m \u001b[0mprint\u001b[0m\u001b[1;33m(\u001b[0m\u001b[0mb\u001b[0m \u001b[1;33m+\u001b[0m \u001b[1;36m9\u001b[0m\u001b[1;33m)\u001b[0m\u001b[1;33m\u001b[0m\u001b[1;33m\u001b[0m\u001b[0m\n\u001b[0m",
            "\u001b[1;31mTypeError\u001b[0m: unsupported operand type(s) for +: 'NoneType' and 'int'"
          ]
        }
      ],
      "source": [
        "def square(a):\n",
        "    print(a**2)\n",
        "\n",
        "b = square(4)\n",
        "\n",
        "print(b + 9)"
      ]
    },
    {
      "cell_type": "markdown",
      "metadata": {
        "id": "dZE4sz6govRl"
      },
      "source": [
        "The value of `b` is `None`. Hence, we get an `TypeError` if we try to calculate something with `b`. The `None` value represents the absence of a value. "
      ]
    },
    {
      "cell_type": "markdown",
      "metadata": {
        "id": "zYF1IAJaovRl"
      },
      "source": [
        "We can also pass more arguments, like in this function for exponentiation:"
      ]
    },
    {
      "cell_type": "code",
      "execution_count": null,
      "metadata": {
        "id": "dpKSvYcjovRm",
        "outputId": "10587699-9bf7-4a02-ef90-8ede0a82a657"
      },
      "outputs": [
        {
          "name": "stdout",
          "output_type": "stream",
          "text": [
            "8\n",
            "--------------------\n",
            "10000000000\n"
          ]
        }
      ],
      "source": [
        "def exponentiation(base,power):\n",
        "    return(base ** power)\n",
        "\n",
        "print(exponentiation(2,3)) # 2**3\n",
        "print(20*\"-\")\n",
        "print(exponentiation(10,10))\n"
      ]
    },
    {
      "cell_type": "markdown",
      "metadata": {
        "id": "cS_inAawovRn"
      },
      "source": [
        "One important thing to remember is, that you don't change variables outside your function. On the one side, you have **local variables** (inside the function) and **global variables** (outside the function). Because functions are reusable bits of code, global variables can't be used in functions if you dont pass their values when calling them. "
      ]
    },
    {
      "cell_type": "code",
      "execution_count": null,
      "metadata": {
        "id": "52fB_QBZovRn",
        "outputId": "7c990ea8-ad8c-45ec-e21e-11c73123ff54"
      },
      "outputs": [
        {
          "name": "stdout",
          "output_type": "stream",
          "text": [
            "Hello Alice\n",
            "--------------------\n",
            "Hello Bob\n"
          ]
        }
      ],
      "source": [
        "name = \"Bob\" # global variable\n",
        "\n",
        "def myfunc():\n",
        "  name = \"Alice\" # local variable\n",
        "  print(\"Hello\" , name)\n",
        "\n",
        "myfunc()\n",
        "print(20*\"-\")\n",
        "print(\"Hello\" , name) # name is Bob, although we changed the variable in the function"
      ]
    },
    {
      "cell_type": "markdown",
      "metadata": {},
      "source": [
        "<img src=\"https://files.realpython.com/media/t.4eefe0ad45c8.png\" alt=\"drawing\" width=\"400\"/>"
      ]
    },
    {
      "cell_type": "code",
      "execution_count": null,
      "metadata": {},
      "outputs": [],
      "source": [
        "#positional/keyword arguments and default parameters\n",
        "#watch out for mutable default parameters!"
      ]
    },
    {
      "cell_type": "markdown",
      "metadata": {},
      "source": [
        "Summary: Passing of an immutable object to a Python function is pass-by-value and encouraged; passing a mutable object is a bit like pass-by-reference and often leads to unexpected behavior!\n",
        "\n",
        "For more information see [this post](https://realpython.com/defining-your-own-python-function/#function-calls-and-definition)"
      ]
    },
    {
      "cell_type": "code",
      "execution_count": null,
      "metadata": {},
      "outputs": [],
      "source": [
        "#return parameter"
      ]
    },
    {
      "cell_type": "code",
      "execution_count": null,
      "metadata": {},
      "outputs": [],
      "source": [
        "#variable length arguments\n",
        "\n",
        "#argument tuple packing/unpacking (*, often *args)\n",
        "\n",
        "#argument dictionary packing/unpacking (**, often **kwargs)"
      ]
    },
    {
      "cell_type": "markdown",
      "metadata": {},
      "source": [
        "Keyword-only parameters:"
      ]
    },
    {
      "cell_type": "code",
      "execution_count": 2,
      "metadata": {},
      "outputs": [
        {
          "name": "stdout",
          "output_type": "stream",
          "text": [
            "-> a.b.c\n"
          ]
        }
      ],
      "source": [
        "def concat(*args, prefix='-> '):\n",
        "    print(f'{prefix}{\".\".join(args)}')\n",
        "\n",
        "concat(\"a\", \"b\", \"c\")"
      ]
    },
    {
      "cell_type": "markdown",
      "metadata": {},
      "source": [
        "Positional-only paramters (from blog post linked above): \n",
        "\n",
        "As of Python 3.8, function parameters can also be declared positional-only, meaning the corresponding arguments must be supplied positionally and can’t be specified by keyword.\n",
        "\n",
        "To designate some parameters as positional-only, you specify a bare slash (/) in the parameter list of a function definition. Any parameters to the left of the slash (/) must be specified positionally. For example, in the following function definition, x and y are positional-only parameters, but z may be specified by keyword:"
      ]
    },
    {
      "cell_type": "code",
      "execution_count": null,
      "metadata": {},
      "outputs": [],
      "source": [
        "def f(x, y, /, z):\n",
        "    print(f'x: {x}')\n",
        "    print(f'y: {y}')\n",
        "    print(f'z: {z}')\n",
        "\n",
        "f(1, 2, 3)\n",
        "f(1, 2, z=3)\n",
        "f(1, y=2, 3)"
      ]
    },
    {
      "cell_type": "markdown",
      "metadata": {},
      "source": [
        "Docstrings (more details [here]()) are used to document what your function is doing:"
      ]
    },
    {
      "cell_type": "code",
      "execution_count": null,
      "metadata": {},
      "outputs": [],
      "source": [
        "def avg(*args):\n",
        "    \"\"\"Returns the average of a list of numeric values.\"\"\"\n",
        "    return sum(args) / len(args)\n",
        "\n",
        "\n",
        "print(avg.__doc__)\n",
        "help(avg)"
      ]
    },
    {
      "cell_type": "markdown",
      "metadata": {
        "id": "lBleokDJpHpw"
      },
      "source": [
        "## Classes"
      ]
    },
    {
      "cell_type": "markdown",
      "metadata": {
        "id": "sI86ib1fpN_d"
      },
      "source": [
        "There are different programming paradigms which you can follow, and which one to choose depends on the project you are working on.\n",
        "So far, we worked mainly with procedural programming: You define a sequence of commands and those are executed in order (similar to a recipe in a cookbook).\n",
        "\n",
        "Another common paradigm is functional programming: Here, you try to encapsulate most of your program into functions and just pass values between those functions. This offers advantages such as modularity and flexibility, but can sometimes be quite tricky.\n",
        "\n",
        "A third (and very popular) paradigm is called object-oriented programming (OOP), which we will learn about now. "
      ]
    },
    {
      "cell_type": "markdown",
      "metadata": {
        "id": "SHOPlLl4qGnk"
      },
      "source": [
        "Let's imagine we have a wildtype enzyme and some mutants of it we want to characterize. We receive the data from our screen and want to store it. A naive approach could use lists for that:"
      ]
    },
    {
      "cell_type": "code",
      "execution_count": 2,
      "metadata": {
        "id": "aDCQ3c-2pNI4"
      },
      "outputs": [],
      "source": [
        "mut1 = [\"Mut1\", 10, \"C142G\", \"denatured\"]\n",
        "mut2 = [\"Mut2\", 1333, \"C142S\", \"globular\"]\n",
        "mut3 = [\"Mut3\", 1104, \"globular\"]\n",
        "wt = [\"WT\", 2283, None, \"globular\"]"
      ]
    },
    {
      "cell_type": "markdown",
      "metadata": {
        "id": "2VuR0Bb0rEiP"
      },
      "source": [
        "This seems like a neat way, right? Unfortunately, there are some problems: If we want to retrieve a specific entry, we have to do that by index, so we have to remember that wt[1] corresponds to the activity of the enzyme. It would be great to access those elements via name instead via index.\n",
        "\n",
        "In addition, missing data can cause a lot of trouble: In mut3, for example, the mutation is missing, so if we want to retrieve it via mut3[2], we get the folding state instead. \n",
        "\n",
        "Classes and OOP help us with these and several other issues. First, we define a class called protein:"
      ]
    },
    {
      "cell_type": "code",
      "execution_count": 3,
      "metadata": {
        "id": "N0or0gnpsDk6"
      },
      "outputs": [],
      "source": [
        "class Protein:\n",
        "  pass"
      ]
    },
    {
      "cell_type": "code",
      "execution_count": 4,
      "metadata": {
        "colab": {
          "base_uri": "https://localhost:8080/"
        },
        "id": "Lmko4fFRxorc",
        "outputId": "1acf31ae-5c12-44a7-b64f-ca73d6bd440d"
      },
      "outputs": [
        {
          "data": {
            "text/plain": [
              "<__main__.Protein at 0x7f807bbb5750>"
            ]
          },
          "execution_count": 4,
          "metadata": {},
          "output_type": "execute_result"
        }
      ],
      "source": [
        "mut1 = Protein()\n",
        "mut1\n",
        "mut2 = Protein()\n",
        "mut2"
      ]
    },
    {
      "cell_type": "code",
      "execution_count": 5,
      "metadata": {
        "id": "H4qxSJdmxxW8"
      },
      "outputs": [],
      "source": [
        "class Protein:\n",
        "  def __init__(self, name, activity, mutation, folding_state):\n",
        "    self.name = name\n",
        "    self.activity = activity\n",
        "    self.mutation = mutation\n",
        "    self.folding_state = folding_state"
      ]
    },
    {
      "cell_type": "code",
      "execution_count": 6,
      "metadata": {
        "colab": {
          "base_uri": "https://localhost:8080/",
          "height": 166
        },
        "id": "Robh27oPyNNe",
        "outputId": "541f8379-53df-4d7f-cee9-3bb5c31dc7ec"
      },
      "outputs": [
        {
          "ename": "TypeError",
          "evalue": "ignored",
          "output_type": "error",
          "traceback": [
            "\u001b[0;31m---------------------------------------------------------------------------\u001b[0m",
            "\u001b[0;31mTypeError\u001b[0m                                 Traceback (most recent call last)",
            "\u001b[0;32m<ipython-input-6-9b1e6915182a>\u001b[0m in \u001b[0;36m<module>\u001b[0;34m()\u001b[0m\n\u001b[0;32m----> 1\u001b[0;31m \u001b[0mmut1\u001b[0m \u001b[0;34m=\u001b[0m \u001b[0mProtein\u001b[0m\u001b[0;34m(\u001b[0m\u001b[0;34m)\u001b[0m\u001b[0;34m\u001b[0m\u001b[0;34m\u001b[0m\u001b[0m\n\u001b[0m",
            "\u001b[0;31mTypeError\u001b[0m: __init__() missing 4 required positional arguments: 'name', 'activity', 'mutation', and 'folding_state'"
          ]
        }
      ],
      "source": [
        "mut1 = Protein()"
      ]
    },
    {
      "cell_type": "code",
      "execution_count": 7,
      "metadata": {
        "id": "yVTilwMGyPg5"
      },
      "outputs": [],
      "source": [
        "mut1 = Protein(\"Mut1\", 10, \"C142G2\", \"denatured\")"
      ]
    },
    {
      "cell_type": "code",
      "execution_count": 8,
      "metadata": {
        "colab": {
          "base_uri": "https://localhost:8080/"
        },
        "id": "MGauqQ-hyYrc",
        "outputId": "b8f5ee4e-09ee-41b4-c556-c1fc935a07c9"
      },
      "outputs": [
        {
          "data": {
            "text/plain": [
              "10"
            ]
          },
          "execution_count": 8,
          "metadata": {},
          "output_type": "execute_result"
        }
      ],
      "source": [
        "mut1.activity"
      ]
    },
    {
      "cell_type": "markdown",
      "metadata": {
        "id": "uTTtUo2ZyhQR"
      },
      "source": [
        "The object mut1 is of the class protein, therefore it is called an instance of the class protein. The variables attached to this object are called instance attributes. We can also attach functions to the object, those are then called instance methods:"
      ]
    },
    {
      "cell_type": "code",
      "execution_count": 9,
      "metadata": {
        "id": "oJnasaPry0kj"
      },
      "outputs": [],
      "source": [
        "class Protein:\n",
        "  def __init__(self, name, activity, mutation, folding_state):\n",
        "    self.name = name\n",
        "    self.activity = activity\n",
        "    self.mutation = mutation\n",
        "    self.folding_state = folding_state\n",
        "\n",
        "  def is_active(self):\n",
        "    if self.activity > 100:\n",
        "      return True\n",
        "    else:\n",
        "      return False\n",
        "    #return self.activity>100\n"
      ]
    },
    {
      "cell_type": "code",
      "execution_count": 10,
      "metadata": {
        "colab": {
          "base_uri": "https://localhost:8080/"
        },
        "id": "XeL5JWBrze__",
        "outputId": "12ed9532-d5d7-41a4-a81b-f8c993913749"
      },
      "outputs": [
        {
          "data": {
            "text/plain": [
              "False"
            ]
          },
          "execution_count": 10,
          "metadata": {},
          "output_type": "execute_result"
        }
      ],
      "source": [
        "mut1 = Protein(\"Mut1\", 10, \"C142G2\", \"denatured\")\n",
        "mut1.is_active()"
      ]
    },
    {
      "cell_type": "markdown",
      "metadata": {
        "id": "JeU7AC7Jz954"
      },
      "source": [
        "## Inheritance"
      ]
    },
    {
      "cell_type": "markdown",
      "metadata": {
        "id": "4h1lCS4a_RQY"
      },
      "source": [
        "Inheritance is a central concept in OOP that lets you reuse classes for other purposes and augment it by other functionalities. The concept is best explained with an example: Our class protein is already quite nice, but what if we want to specify more information for a certain class of proteins, e.g. kinases? Well, we could write another class from scratch, copy the code from our protein class and then add some other attributes such as substrate."
      ]
    },
    {
      "cell_type": "code",
      "execution_count": 11,
      "metadata": {
        "id": "j379Ia3XABpK"
      },
      "outputs": [],
      "source": [
        "class Kinase:\n",
        "  def __init__(self, name, activity, mutation, folding_state, substrate):\n",
        "    self.name = name\n",
        "    self.activity = activity\n",
        "    self.mutation = mutation\n",
        "    self.folding_state = folding_state\n",
        "    self.substrate = substrate\n",
        "\n",
        "  def is_active(self):\n",
        "    if self.activity > 100:\n",
        "      return True\n",
        "    else:\n",
        "      return False\n",
        "\n",
        "  def get_inhibited(self):\n",
        "    if self.activity > 50:\n",
        "      self.activity -=50\n",
        "    else:\n",
        "      self.activity = 0"
      ]
    },
    {
      "cell_type": "markdown",
      "metadata": {
        "id": "y-inuHaZAlbM"
      },
      "source": [
        "This is a lot of rewriting code from before, right? Seems like unnecessary work. In addition, from the code above it is not clear that kinases are a subclass of proteins. We can make this way more clearer and concise via inheritance:"
      ]
    },
    {
      "cell_type": "code",
      "execution_count": 12,
      "metadata": {
        "id": "Kx3PVRy4B4e0"
      },
      "outputs": [],
      "source": [
        "class Kinase(Protein):\n",
        "  def __init__(self, name, activity, mutation, folding_state, substrate):\n",
        "    super().__init__(name, activity, mutation, folding_state)\n",
        "    self.substrate = substrate\n",
        "\n",
        "  def get_inhibited(self):\n",
        "    if self.activity > 50:\n",
        "      self.activity -=50\n",
        "    else:\n",
        "      self.activity = 0\n"
      ]
    },
    {
      "cell_type": "code",
      "execution_count": 19,
      "metadata": {
        "colab": {
          "base_uri": "https://localhost:8080/"
        },
        "id": "7FDLXYgOC5zm",
        "outputId": "caa3f5ce-d93d-49cf-c468-06d98a078f1f"
      },
      "outputs": [
        {
          "name": "stdout",
          "output_type": "stream",
          "text": [
            "500 activity, therefore enzyme active: True\n",
            "450 activity, therefore enzyme active: True\n",
            "400 activity, therefore enzyme active: True\n",
            "350 activity, therefore enzyme active: True\n",
            "300 activity, therefore enzyme active: True\n",
            "250 activity, therefore enzyme active: True\n",
            "200 activity, therefore enzyme active: True\n",
            "150 activity, therefore enzyme active: True\n",
            "100 activity, therefore enzyme active: False\n",
            "50 activity, therefore enzyme active: False\n",
            "0 activity, therefore enzyme active: False\n"
          ]
        }
      ],
      "source": [
        "hexokinase = Kinase(\"hexokinase\", 500, None, \"globular\", \"glucose\")\n",
        "hexokinase.is_active()\n",
        "for i in range(0,11):\n",
        "  print(f\"{hexokinase.activity} activity, therefore enzyme active: {hexokinase.is_active()}\")\n",
        "  hexokinase.get_inhibited()"
      ]
    }
  ],
  "metadata": {
    "colab": {
      "name": "day_1_functions.ipynb",
      "provenance": []
    },
    "kernelspec": {
      "display_name": "Python 3.10.6 64-bit ('3.10.6')",
      "language": "python",
      "name": "python3"
    },
    "language_info": {
      "codemirror_mode": {
        "name": "ipython",
        "version": 3
      },
      "file_extension": ".py",
      "mimetype": "text/x-python",
      "name": "python",
      "nbconvert_exporter": "python",
      "pygments_lexer": "ipython3",
      "version": "3.10.6"
    },
    "vscode": {
      "interpreter": {
        "hash": "ebbca54691d61843c0a04253fcd790a2bc545e11985b7cc4dd8a14aab0b5083b"
      }
    }
  },
  "nbformat": 4,
  "nbformat_minor": 0
}
