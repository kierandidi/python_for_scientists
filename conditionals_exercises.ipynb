{
 "cells": [
  {
   "cell_type": "markdown",
   "metadata": {},
   "source": [
    "# Conditionals: Exercises\n",
    "\n",
    "1) Write an if statement that asks for the user's name via input() function. If the name is \"Bond\" make it print \"Welcome back, Mister Bond.\" Otherwise make it print \"Good morning NAME\". \n",
    "\n",
    "Extra bit for bored people: if the name is Bond but written in a different way (e.g. BOND, bond, ...), make sure that you reformat it to match \"Bond\" and use it in your output (avoid hardcoding it into your print statement!)"
   ]
  },
  {
   "cell_type": "code",
   "execution_count": null,
   "metadata": {},
   "outputs": [],
   "source": []
  },
  {
   "cell_type": "markdown",
   "metadata": {},
   "source": [
    "2) The responsible barkeeper: Ask the user for their birthyear. In case they are not adults yet, tell them that you cannot sell them anything. In case they are old enough, ask them for their favourite drink. Tell them afterwards that you will prepare their drink while mentioning the drink in the response; but if the drink is \"Martini\", \"martini\" or \"MARTINI\", reply: \"Shaken, not stirred; of course, Mister Bond.\".\n",
    "\n",
    "In case they just reply to you with no content, ask them again for their order since you did not quite get it acoustically. "
   ]
  },
  {
   "cell_type": "code",
   "execution_count": null,
   "metadata": {},
   "outputs": [],
   "source": []
  }
 ],
 "metadata": {
  "kernelspec": {
   "display_name": "Python 3.10.6 64-bit ('3.10.6')",
   "language": "python",
   "name": "python3"
  },
  "language_info": {
   "name": "python",
   "version": "3.10.6"
  },
  "orig_nbformat": 4,
  "vscode": {
   "interpreter": {
    "hash": "ebbca54691d61843c0a04253fcd790a2bc545e11985b7cc4dd8a14aab0b5083b"
   }
  }
 },
 "nbformat": 4,
 "nbformat_minor": 2
}
